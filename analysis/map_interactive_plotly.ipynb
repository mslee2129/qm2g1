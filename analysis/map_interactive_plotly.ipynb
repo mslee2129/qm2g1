{
 "cells": [
  {
   "cell_type": "code",
   "execution_count": null,
   "metadata": {},
   "outputs": [],
   "source": [
    "pip install geopandas"
   ]
  },
  {
   "cell_type": "code",
   "execution_count": null,
   "metadata": {},
   "outputs": [],
   "source": [
    "pip install bokeh"
   ]
  },
  {
   "cell_type": "code",
   "execution_count": null,
   "metadata": {},
   "outputs": [],
   "source": [
    "pip install country_converter"
   ]
  },
  {
   "cell_type": "code",
   "execution_count": null,
   "metadata": {},
   "outputs": [],
   "source": [
    "pip install fuzzy_pandas"
   ]
  },
  {
   "cell_type": "code",
   "execution_count": null,
   "metadata": {},
   "outputs": [],
   "source": [
    "pip install plotly"
   ]
  },
  {
   "cell_type": "code",
   "execution_count": null,
   "metadata": {},
   "outputs": [],
   "source": [
    "pip install plotly"
   ]
  },
  {
   "cell_type": "code",
   "execution_count": null,
   "metadata": {},
   "outputs": [],
   "source": [
    "pip install chart_studio"
   ]
  },
  {
   "cell_type": "code",
   "execution_count": 10,
   "metadata": {},
   "outputs": [
    {
     "name": "stdout",
     "output_type": "stream",
     "text": [
      "Collecting readme-md\n",
      "  Downloading readme_md-2019.1.28-py2.py3-none-any.whl (7.7 kB)\n",
      "Requirement already satisfied: requests in /Users/jannik/opt/anaconda3/lib/python3.7/site-packages (from readme-md) (2.22.0)\n",
      "Collecting Markdown\n",
      "  Downloading Markdown-3.3.3-py3-none-any.whl (96 kB)\n",
      "\u001b[K     |████████████████████████████████| 96 kB 2.9 MB/s eta 0:00:011\n",
      "\u001b[?25hRequirement already satisfied: Click in /Users/jannik/opt/anaconda3/lib/python3.7/site-packages (from readme-md) (7.0)\n",
      "Collecting mdown\n",
      "  Downloading mdown-2020.12.3.tar.gz (2.0 kB)\n",
      "Collecting setupcfg\n",
      "  Downloading setupcfg-2020.12.3.tar.gz (4.7 kB)\n",
      "Requirement already satisfied: setuptools in /Users/jannik/opt/anaconda3/lib/python3.7/site-packages (from readme-md) (46.0.0.post20200309)\n",
      "Collecting public\n",
      "  Downloading public-2020.12.3.tar.gz (2.1 kB)\n",
      "Requirement already satisfied: chardet<3.1.0,>=3.0.2 in /Users/jannik/opt/anaconda3/lib/python3.7/site-packages (from requests->readme-md) (3.0.4)\n",
      "Requirement already satisfied: certifi>=2017.4.17 in /Users/jannik/opt/anaconda3/lib/python3.7/site-packages (from requests->readme-md) (2019.11.28)\n",
      "Requirement already satisfied: idna<2.9,>=2.5 in /Users/jannik/opt/anaconda3/lib/python3.7/site-packages (from requests->readme-md) (2.8)\n",
      "Requirement already satisfied: urllib3!=1.25.0,!=1.25.1,<1.26,>=1.21.1 in /Users/jannik/opt/anaconda3/lib/python3.7/site-packages (from requests->readme-md) (1.24.3)\n",
      "Requirement already satisfied: importlib-metadata; python_version < \"3.8\" in /Users/jannik/opt/anaconda3/lib/python3.7/site-packages (from Markdown->readme-md) (1.5.0)\n",
      "Collecting orderdict\n",
      "  Downloading orderdict-2020.12.3.tar.gz (1.3 kB)\n",
      "Collecting write\n",
      "  Downloading write-2020.12.3.tar.gz (1.5 kB)\n",
      "Requirement already satisfied: zipp>=0.5 in /Users/jannik/opt/anaconda3/lib/python3.7/site-packages (from importlib-metadata; python_version < \"3.8\"->Markdown->readme-md) (2.2.0)\n",
      "Collecting mkdir\n",
      "  Downloading mkdir-2020.12.3.tar.gz (1.2 kB)\n",
      "Collecting values\n",
      "  Downloading values-2020.12.3.tar.gz (1.3 kB)\n",
      "Building wheels for collected packages: mdown, setupcfg, public, orderdict, write, mkdir, values\n",
      "  Building wheel for mdown (setup.py) ... \u001b[?25ldone\n",
      "\u001b[?25h  Created wheel for mdown: filename=mdown-2020.12.3-py3-none-any.whl size=1889 sha256=91da0224a943a89efcb5869402f894431d62a2c3a91fd4313f0bfcde6271d2ca\n",
      "  Stored in directory: /Users/jannik/Library/Caches/pip/wheels/6e/c9/37/9ec47c82171f161f64e3ba6010e050bcc68d571ae35acecb15\n",
      "  Building wheel for setupcfg (setup.py) ... \u001b[?25ldone\n",
      "\u001b[?25h  Created wheel for setupcfg: filename=setupcfg-2020.12.3-py3-none-any.whl size=9477 sha256=b6f5b8e6dbdf56bc219c8a9855e778042f66bee246b705100e83786af3756041\n",
      "  Stored in directory: /Users/jannik/Library/Caches/pip/wheels/62/2b/54/ef44355449d4e2a893261bd8084f585212067702d1f371c66e\n",
      "  Building wheel for public (setup.py) ... \u001b[?25ldone\n",
      "\u001b[?25h  Created wheel for public: filename=public-2020.12.3-py3-none-any.whl size=1886 sha256=e54d69b975f3ed4cabb7bb5e72741335960dbbe80c9d8ff4f65d74f046a1286a\n",
      "  Stored in directory: /Users/jannik/Library/Caches/pip/wheels/3f/09/aa/93c8d455e7355784dfc7690aa9d2e4c38de4fa6bc08c8b4896\n",
      "  Building wheel for orderdict (setup.py) ... \u001b[?25ldone\n",
      "\u001b[?25h  Created wheel for orderdict: filename=orderdict-2020.12.3-py3-none-any.whl size=1420 sha256=7e3ae3ddc9570009549f860fc8a2dbb10c20d9a3028d18c1334bf3256c4c1b06\n",
      "  Stored in directory: /Users/jannik/Library/Caches/pip/wheels/71/f5/69/8107896e90292110d54220f3519861d76a2741a1f5d6e6f118\n",
      "  Building wheel for write (setup.py) ... \u001b[?25ldone\n",
      "\u001b[?25h  Created wheel for write: filename=write-2020.12.3-py3-none-any.whl size=1592 sha256=78753edf20d44b458fa6bccfa15166dcb09bc99ae065b572b00d9ab628897fa8\n",
      "  Stored in directory: /Users/jannik/Library/Caches/pip/wheels/92/6a/10/3526c33b7b616c35f1c428d1b060d24be497015efedc7ab79a\n",
      "  Building wheel for mkdir (setup.py) ... \u001b[?25ldone\n",
      "\u001b[?25h  Created wheel for mkdir: filename=mkdir-2020.12.3-py3-none-any.whl size=1336 sha256=870e06c684e46db6eefc213b7249b2c5f39bdf9316e9841b61f2e59d4073bed4\n",
      "  Stored in directory: /Users/jannik/Library/Caches/pip/wheels/76/1d/f0/6491bf8a16bbea9bbf1457b732b4d51b18995122da1287fafd\n",
      "  Building wheel for values (setup.py) ... \u001b[?25ldone\n",
      "\u001b[?25h  Created wheel for values: filename=values-2020.12.3-py3-none-any.whl size=1401 sha256=bc1f7cf5cc40631d5ad26f43dcc3618c0dc52d6acf14086c20daf43e63ba34f0\n",
      "  Stored in directory: /Users/jannik/Library/Caches/pip/wheels/72/5b/76/a2fdac16138610fb0433ad75827f79def289083d657f2d394e\n",
      "Successfully built mdown setupcfg public orderdict write mkdir values\n",
      "Installing collected packages: Markdown, mdown, orderdict, values, mkdir, write, setupcfg, public, readme-md\n",
      "Successfully installed Markdown-3.3.3 mdown-2020.12.3 mkdir-2020.12.3 orderdict-2020.12.3 public-2020.12.3 readme-md-2019.1.28 setupcfg-2020.12.3 values-2020.12.3 write-2020.12.3\n",
      "Note: you may need to restart the kernel to use updated packages.\n"
     ]
    }
   ],
   "source": [
    "pip install readme-md"
   ]
  },
  {
   "cell_type": "code",
   "execution_count": 25,
   "metadata": {},
   "outputs": [],
   "source": [
    "import pandas as pd\n",
    "import geopandas as gpd\n",
    "import fiona\n",
    "import numpy as np\n",
    "import functools\n",
    "import country_converter\n",
    "import pycountry\n",
    "import json\n",
    "import chart_studio\n",
    "import plotly.express as px"
   ]
  },
  {
   "cell_type": "code",
   "execution_count": 57,
   "metadata": {},
   "outputs": [],
   "source": [
    "data_path = '~/Documents/Uni/qm2g1/data/processed_data/protests_data_filtered.csv'\n",
    "protest_data =  pd.read_csv(data_path, index_col=1)\n",
    "\n",
    "#Summarise all protests per country per year\n",
    "\n",
    "protest_data = protest_data.groupby(['country','year'])['protest'].sum().reset_index(name='protests')"
   ]
  },
  {
   "cell_type": "code",
   "execution_count": 58,
   "metadata": {
    "scrolled": true
   },
   "outputs": [],
   "source": [
    "data_path = '~/Documents/Uni/qm2g1/data/maps/country_class.csv'\n",
    "country_class =  pd.read_csv(data_path, index_col=0)"
   ]
  },
  {
   "cell_type": "code",
   "execution_count": 59,
   "metadata": {},
   "outputs": [],
   "source": [
    "protest_data = protest_data.merge(country_class, left_on='country', right_on='Country', how='left')"
   ]
  },
  {
   "cell_type": "code",
   "execution_count": 60,
   "metadata": {},
   "outputs": [
    {
     "data": {
      "text/html": [
       "<div>\n",
       "<style scoped>\n",
       "    .dataframe tbody tr th:only-of-type {\n",
       "        vertical-align: middle;\n",
       "    }\n",
       "\n",
       "    .dataframe tbody tr th {\n",
       "        vertical-align: top;\n",
       "    }\n",
       "\n",
       "    .dataframe thead th {\n",
       "        text-align: right;\n",
       "    }\n",
       "</style>\n",
       "<table border=\"1\" class=\"dataframe\">\n",
       "  <thead>\n",
       "    <tr style=\"text-align: right;\">\n",
       "      <th></th>\n",
       "      <th>country</th>\n",
       "      <th>country_code</th>\n",
       "      <th>geometry</th>\n",
       "    </tr>\n",
       "  </thead>\n",
       "  <tbody>\n",
       "    <tr>\n",
       "      <th>0</th>\n",
       "      <td>Netherlands</td>\n",
       "      <td>ABW</td>\n",
       "      <td>POLYGON ((-69.89912 12.45200, -69.89570 12.423...</td>\n",
       "    </tr>\n",
       "    <tr>\n",
       "      <th>1</th>\n",
       "      <td>Afghanistan</td>\n",
       "      <td>AFG</td>\n",
       "      <td>POLYGON ((74.89131 37.23164, 74.84023 37.22505...</td>\n",
       "    </tr>\n",
       "    <tr>\n",
       "      <th>2</th>\n",
       "      <td>Angola</td>\n",
       "      <td>AGO</td>\n",
       "      <td>MULTIPOLYGON (((14.19082 -5.87598, 14.39863 -5...</td>\n",
       "    </tr>\n",
       "    <tr>\n",
       "      <th>3</th>\n",
       "      <td>United Kingdom</td>\n",
       "      <td>AIA</td>\n",
       "      <td>POLYGON ((-63.00122 18.22178, -63.16001 18.171...</td>\n",
       "    </tr>\n",
       "    <tr>\n",
       "      <th>4</th>\n",
       "      <td>Albania</td>\n",
       "      <td>ALB</td>\n",
       "      <td>POLYGON ((20.06396 42.54727, 20.10352 42.52466...</td>\n",
       "    </tr>\n",
       "  </tbody>\n",
       "</table>\n",
       "</div>"
      ],
      "text/plain": [
       "          country country_code  \\\n",
       "0     Netherlands          ABW   \n",
       "1     Afghanistan          AFG   \n",
       "2          Angola          AGO   \n",
       "3  United Kingdom          AIA   \n",
       "4         Albania          ALB   \n",
       "\n",
       "                                            geometry  \n",
       "0  POLYGON ((-69.89912 12.45200, -69.89570 12.423...  \n",
       "1  POLYGON ((74.89131 37.23164, 74.84023 37.22505...  \n",
       "2  MULTIPOLYGON (((14.19082 -5.87598, 14.39863 -5...  \n",
       "3  POLYGON ((-63.00122 18.22178, -63.16001 18.171...  \n",
       "4  POLYGON ((20.06396 42.54727, 20.10352 42.52466...  "
      ]
     },
     "execution_count": 60,
     "metadata": {},
     "output_type": "execute_result"
    }
   ],
   "source": [
    "#Download shapefile from Naturalearth\n",
    "url = \"https://d2ad6b4ur7yvpq.cloudfront.net/naturalearth-3.3.0/ne_50m_admin_0_countries.geojson\"\n",
    "shapefile_data = gpd.read_file(url)[['sovereignt', 'adm0_a3', 'geometry']]\n",
    "\n",
    "#rename colls\n",
    "shapefile_data.columns = ['country', 'country_code', 'geometry']\n",
    "shapefile_data.head()"
   ]
  },
  {
   "cell_type": "code",
   "execution_count": 61,
   "metadata": {},
   "outputs": [],
   "source": [
    "# merge shapefile data with protest data\n",
    "df = protest_data.merge(shapefile_data, left_on = 'country', right_on = 'country')\n",
    "df.sample(10)\n",
    "df.to_excel('control_view.xlsx')"
   ]
  },
  {
   "cell_type": "code",
   "execution_count": 66,
   "metadata": {
    "scrolled": true
   },
   "outputs": [],
   "source": [
    "df = df[df['Region'] == 'Middle East & North Africa']"
   ]
  },
  {
   "cell_type": "code",
   "execution_count": 74,
   "metadata": {},
   "outputs": [],
   "source": [
    "fig = px.choropleth(df, locations=\"country_code\", \n",
    "                     color=\"protests\",\n",
    "                     hover_name=\"country\",\n",
    "                     #hover_data='protests',\n",
    "                     animation_frame=\"year\",\n",
    "                     projection=\"natural earth\",\n",
    "                     color_continuous_scale = px.colors.diverging.Temps\n",
    "                     )"
   ]
  },
  {
   "cell_type": "code",
   "execution_count": 80,
   "metadata": {},
   "outputs": [
    {
     "data": {
      "application/vnd.plotly.v1+json": {
       "config": {
        "plotlyServerURL": "https://plotly.com"
       },
       "data": [
        {
         "coloraxis": "coloraxis",
         "geo": "geo",
         "hovertemplate": "<b>%{hovertext}</b><br><br>year=2000<br>country_code=%{location}<br>protests=%{z}<extra></extra>",
         "hovertext": [
          "Algeria",
          "Bahrain",
          "Djibouti",
          "Egypt",
          "Iran",
          "Iraq",
          "Jordan",
          "Kuwait",
          "Lebanon",
          "Libya",
          "Morocco",
          "Oman",
          "Qatar",
          "Saudi Arabia",
          "Syria",
          "Tunisia",
          "United Arab Emirates",
          "Yemen"
         ],
         "locations": [
          "DZA",
          "BHR",
          "DJI",
          "EGY",
          "IRN",
          "IRQ",
          "JOR",
          "KWT",
          "LBN",
          "LBY",
          "MAR",
          "OMN",
          "QAT",
          "SAU",
          "SYR",
          "TUN",
          "ARE",
          "YEM"
         ],
         "name": "",
         "type": "choropleth",
         "z": [
          0,
          1,
          1,
          1,
          5,
          0,
          0,
          1,
          2,
          0,
          3,
          0,
          0,
          0,
          0,
          1,
          0,
          0
         ]
        }
       ],
       "frames": [
        {
         "data": [
          {
           "coloraxis": "coloraxis",
           "geo": "geo",
           "hovertemplate": "<b>%{hovertext}</b><br><br>year=2000<br>country_code=%{location}<br>protests=%{z}<extra></extra>",
           "hovertext": [
            "Algeria",
            "Bahrain",
            "Djibouti",
            "Egypt",
            "Iran",
            "Iraq",
            "Jordan",
            "Kuwait",
            "Lebanon",
            "Libya",
            "Morocco",
            "Oman",
            "Qatar",
            "Saudi Arabia",
            "Syria",
            "Tunisia",
            "United Arab Emirates",
            "Yemen"
           ],
           "locations": [
            "DZA",
            "BHR",
            "DJI",
            "EGY",
            "IRN",
            "IRQ",
            "JOR",
            "KWT",
            "LBN",
            "LBY",
            "MAR",
            "OMN",
            "QAT",
            "SAU",
            "SYR",
            "TUN",
            "ARE",
            "YEM"
           ],
           "name": "",
           "type": "choropleth",
           "z": [
            0,
            1,
            1,
            1,
            5,
            0,
            0,
            1,
            2,
            0,
            3,
            0,
            0,
            0,
            0,
            1,
            0,
            0
           ]
          }
         ],
         "name": "2000"
        },
        {
         "data": [
          {
           "coloraxis": "coloraxis",
           "geo": "geo",
           "hovertemplate": "<b>%{hovertext}</b><br><br>year=2001<br>country_code=%{location}<br>protests=%{z}<extra></extra>",
           "hovertext": [
            "Algeria",
            "Bahrain",
            "Djibouti",
            "Egypt",
            "Iran",
            "Iraq",
            "Jordan",
            "Kuwait",
            "Lebanon",
            "Libya",
            "Morocco",
            "Oman",
            "Qatar",
            "Saudi Arabia",
            "Syria",
            "Tunisia",
            "United Arab Emirates",
            "Yemen"
           ],
           "locations": [
            "DZA",
            "BHR",
            "DJI",
            "EGY",
            "IRN",
            "IRQ",
            "JOR",
            "KWT",
            "LBN",
            "LBY",
            "MAR",
            "OMN",
            "QAT",
            "SAU",
            "SYR",
            "TUN",
            "ARE",
            "YEM"
           ],
           "name": "",
           "type": "choropleth",
           "z": [
            6,
            0,
            0,
            0,
            5,
            0,
            0,
            0,
            1,
            0,
            0,
            0,
            1,
            0,
            0,
            0,
            0,
            1
           ]
          }
         ],
         "name": "2001"
        },
        {
         "data": [
          {
           "coloraxis": "coloraxis",
           "geo": "geo",
           "hovertemplate": "<b>%{hovertext}</b><br><br>year=2002<br>country_code=%{location}<br>protests=%{z}<extra></extra>",
           "hovertext": [
            "Algeria",
            "Bahrain",
            "Djibouti",
            "Egypt",
            "Iran",
            "Iraq",
            "Jordan",
            "Kuwait",
            "Lebanon",
            "Libya",
            "Morocco",
            "Oman",
            "Qatar",
            "Saudi Arabia",
            "Syria",
            "Tunisia",
            "United Arab Emirates",
            "Yemen"
           ],
           "locations": [
            "DZA",
            "BHR",
            "DJI",
            "EGY",
            "IRN",
            "IRQ",
            "JOR",
            "KWT",
            "LBN",
            "LBY",
            "MAR",
            "OMN",
            "QAT",
            "SAU",
            "SYR",
            "TUN",
            "ARE",
            "YEM"
           ],
           "name": "",
           "type": "choropleth",
           "z": [
            0,
            0,
            1,
            3,
            8,
            1,
            0,
            0,
            5,
            0,
            0,
            0,
            0,
            0,
            0,
            0,
            0,
            1
           ]
          }
         ],
         "name": "2002"
        },
        {
         "data": [
          {
           "coloraxis": "coloraxis",
           "geo": "geo",
           "hovertemplate": "<b>%{hovertext}</b><br><br>year=2003<br>country_code=%{location}<br>protests=%{z}<extra></extra>",
           "hovertext": [
            "Algeria",
            "Bahrain",
            "Djibouti",
            "Egypt",
            "Iran",
            "Iraq",
            "Jordan",
            "Kuwait",
            "Lebanon",
            "Libya",
            "Morocco",
            "Oman",
            "Qatar",
            "Saudi Arabia",
            "Syria",
            "Tunisia",
            "United Arab Emirates",
            "Yemen"
           ],
           "locations": [
            "DZA",
            "BHR",
            "DJI",
            "EGY",
            "IRN",
            "IRQ",
            "JOR",
            "KWT",
            "LBN",
            "LBY",
            "MAR",
            "OMN",
            "QAT",
            "SAU",
            "SYR",
            "TUN",
            "ARE",
            "YEM"
           ],
           "name": "",
           "type": "choropleth",
           "z": [
            0,
            1,
            0,
            0,
            2,
            8,
            0,
            0,
            0,
            0,
            0,
            0,
            0,
            3,
            0,
            0,
            0,
            1
           ]
          }
         ],
         "name": "2003"
        },
        {
         "data": [
          {
           "coloraxis": "coloraxis",
           "geo": "geo",
           "hovertemplate": "<b>%{hovertext}</b><br><br>year=2004<br>country_code=%{location}<br>protests=%{z}<extra></extra>",
           "hovertext": [
            "Algeria",
            "Bahrain",
            "Djibouti",
            "Egypt",
            "Iran",
            "Iraq",
            "Jordan",
            "Kuwait",
            "Lebanon",
            "Libya",
            "Morocco",
            "Oman",
            "Qatar",
            "Saudi Arabia",
            "Syria",
            "Tunisia",
            "United Arab Emirates",
            "Yemen"
           ],
           "locations": [
            "DZA",
            "BHR",
            "DJI",
            "EGY",
            "IRN",
            "IRQ",
            "JOR",
            "KWT",
            "LBN",
            "LBY",
            "MAR",
            "OMN",
            "QAT",
            "SAU",
            "SYR",
            "TUN",
            "ARE",
            "YEM"
           ],
           "name": "",
           "type": "choropleth",
           "z": [
            0,
            0,
            0,
            3,
            0,
            7,
            0,
            0,
            1,
            0,
            0,
            0,
            0,
            1,
            3,
            0,
            0,
            1
           ]
          }
         ],
         "name": "2004"
        },
        {
         "data": [
          {
           "coloraxis": "coloraxis",
           "geo": "geo",
           "hovertemplate": "<b>%{hovertext}</b><br><br>year=2005<br>country_code=%{location}<br>protests=%{z}<extra></extra>",
           "hovertext": [
            "Algeria",
            "Bahrain",
            "Djibouti",
            "Egypt",
            "Iran",
            "Iraq",
            "Jordan",
            "Kuwait",
            "Lebanon",
            "Libya",
            "Morocco",
            "Oman",
            "Qatar",
            "Saudi Arabia",
            "Syria",
            "Tunisia",
            "United Arab Emirates",
            "Yemen"
           ],
           "locations": [
            "DZA",
            "BHR",
            "DJI",
            "EGY",
            "IRN",
            "IRQ",
            "JOR",
            "KWT",
            "LBN",
            "LBY",
            "MAR",
            "OMN",
            "QAT",
            "SAU",
            "SYR",
            "TUN",
            "ARE",
            "YEM"
           ],
           "name": "",
           "type": "choropleth",
           "z": [
            0,
            2,
            2,
            6,
            3,
            14,
            0,
            1,
            7,
            0,
            0,
            0,
            0,
            0,
            0,
            0,
            1,
            3
           ]
          }
         ],
         "name": "2005"
        },
        {
         "data": [
          {
           "coloraxis": "coloraxis",
           "geo": "geo",
           "hovertemplate": "<b>%{hovertext}</b><br><br>year=2006<br>country_code=%{location}<br>protests=%{z}<extra></extra>",
           "hovertext": [
            "Algeria",
            "Bahrain",
            "Djibouti",
            "Egypt",
            "Iran",
            "Iraq",
            "Jordan",
            "Kuwait",
            "Lebanon",
            "Libya",
            "Morocco",
            "Oman",
            "Qatar",
            "Saudi Arabia",
            "Syria",
            "Tunisia",
            "United Arab Emirates",
            "Yemen"
           ],
           "locations": [
            "DZA",
            "BHR",
            "DJI",
            "EGY",
            "IRN",
            "IRQ",
            "JOR",
            "KWT",
            "LBN",
            "LBY",
            "MAR",
            "OMN",
            "QAT",
            "SAU",
            "SYR",
            "TUN",
            "ARE",
            "YEM"
           ],
           "name": "",
           "type": "choropleth",
           "z": [
            0,
            0,
            0,
            3,
            5,
            2,
            0,
            1,
            6,
            0,
            0,
            0,
            0,
            0,
            0,
            0,
            1,
            0
           ]
          }
         ],
         "name": "2006"
        },
        {
         "data": [
          {
           "coloraxis": "coloraxis",
           "geo": "geo",
           "hovertemplate": "<b>%{hovertext}</b><br><br>year=2007<br>country_code=%{location}<br>protests=%{z}<extra></extra>",
           "hovertext": [
            "Algeria",
            "Bahrain",
            "Djibouti",
            "Egypt",
            "Iran",
            "Iraq",
            "Jordan",
            "Kuwait",
            "Lebanon",
            "Libya",
            "Morocco",
            "Oman",
            "Qatar",
            "Saudi Arabia",
            "Syria",
            "Tunisia",
            "United Arab Emirates",
            "Yemen"
           ],
           "locations": [
            "DZA",
            "BHR",
            "DJI",
            "EGY",
            "IRN",
            "IRQ",
            "JOR",
            "KWT",
            "LBN",
            "LBY",
            "MAR",
            "OMN",
            "QAT",
            "SAU",
            "SYR",
            "TUN",
            "ARE",
            "YEM"
           ],
           "name": "",
           "type": "choropleth",
           "z": [
            0,
            3,
            0,
            0,
            7,
            4,
            0,
            0,
            2,
            0,
            0,
            0,
            0,
            0,
            0,
            0,
            1,
            1
           ]
          }
         ],
         "name": "2007"
        },
        {
         "data": [
          {
           "coloraxis": "coloraxis",
           "geo": "geo",
           "hovertemplate": "<b>%{hovertext}</b><br><br>year=2008<br>country_code=%{location}<br>protests=%{z}<extra></extra>",
           "hovertext": [
            "Algeria",
            "Bahrain",
            "Djibouti",
            "Egypt",
            "Iran",
            "Iraq",
            "Jordan",
            "Kuwait",
            "Lebanon",
            "Libya",
            "Morocco",
            "Oman",
            "Qatar",
            "Saudi Arabia",
            "Syria",
            "Tunisia",
            "United Arab Emirates",
            "Yemen"
           ],
           "locations": [
            "DZA",
            "BHR",
            "DJI",
            "EGY",
            "IRN",
            "IRQ",
            "JOR",
            "KWT",
            "LBN",
            "LBY",
            "MAR",
            "OMN",
            "QAT",
            "SAU",
            "SYR",
            "TUN",
            "ARE",
            "YEM"
           ],
           "name": "",
           "type": "choropleth",
           "z": [
            0,
            0,
            0,
            4,
            1,
            10,
            0,
            2,
            4,
            0,
            0,
            0,
            0,
            2,
            0,
            0,
            0,
            6
           ]
          }
         ],
         "name": "2008"
        },
        {
         "data": [
          {
           "coloraxis": "coloraxis",
           "geo": "geo",
           "hovertemplate": "<b>%{hovertext}</b><br><br>year=2009<br>country_code=%{location}<br>protests=%{z}<extra></extra>",
           "hovertext": [
            "Algeria",
            "Bahrain",
            "Djibouti",
            "Egypt",
            "Iran",
            "Iraq",
            "Jordan",
            "Kuwait",
            "Lebanon",
            "Libya",
            "Morocco",
            "Oman",
            "Qatar",
            "Saudi Arabia",
            "Syria",
            "Tunisia",
            "United Arab Emirates",
            "Yemen"
           ],
           "locations": [
            "DZA",
            "BHR",
            "DJI",
            "EGY",
            "IRN",
            "IRQ",
            "JOR",
            "KWT",
            "LBN",
            "LBY",
            "MAR",
            "OMN",
            "QAT",
            "SAU",
            "SYR",
            "TUN",
            "ARE",
            "YEM"
           ],
           "name": "",
           "type": "choropleth",
           "z": [
            1,
            0,
            0,
            0,
            21,
            4,
            0,
            0,
            0,
            0,
            0,
            0,
            0,
            0,
            0,
            0,
            0,
            14
           ]
          }
         ],
         "name": "2009"
        },
        {
         "data": [
          {
           "coloraxis": "coloraxis",
           "geo": "geo",
           "hovertemplate": "<b>%{hovertext}</b><br><br>year=2010<br>country_code=%{location}<br>protests=%{z}<extra></extra>",
           "hovertext": [
            "Algeria",
            "Bahrain",
            "Djibouti",
            "Egypt",
            "Iran",
            "Iraq",
            "Jordan",
            "Kuwait",
            "Lebanon",
            "Libya",
            "Morocco",
            "Oman",
            "Qatar",
            "Saudi Arabia",
            "Syria",
            "Tunisia",
            "United Arab Emirates",
            "Yemen"
           ],
           "locations": [
            "DZA",
            "BHR",
            "DJI",
            "EGY",
            "IRN",
            "IRQ",
            "JOR",
            "KWT",
            "LBN",
            "LBY",
            "MAR",
            "OMN",
            "QAT",
            "SAU",
            "SYR",
            "TUN",
            "ARE",
            "YEM"
           ],
           "name": "",
           "type": "choropleth",
           "z": [
            0,
            0,
            0,
            3,
            3,
            7,
            4,
            1,
            0,
            0,
            1,
            0,
            0,
            0,
            0,
            4,
            0,
            6
           ]
          }
         ],
         "name": "2010"
        },
        {
         "data": [
          {
           "coloraxis": "coloraxis",
           "geo": "geo",
           "hovertemplate": "<b>%{hovertext}</b><br><br>year=2011<br>country_code=%{location}<br>protests=%{z}<extra></extra>",
           "hovertext": [
            "Algeria",
            "Bahrain",
            "Djibouti",
            "Egypt",
            "Iran",
            "Iraq",
            "Jordan",
            "Kuwait",
            "Lebanon",
            "Libya",
            "Morocco",
            "Oman",
            "Qatar",
            "Saudi Arabia",
            "Syria",
            "Tunisia",
            "United Arab Emirates",
            "Yemen"
           ],
           "locations": [
            "DZA",
            "BHR",
            "DJI",
            "EGY",
            "IRN",
            "IRQ",
            "JOR",
            "KWT",
            "LBN",
            "LBY",
            "MAR",
            "OMN",
            "QAT",
            "SAU",
            "SYR",
            "TUN",
            "ARE",
            "YEM"
           ],
           "name": "",
           "type": "choropleth",
           "z": [
            1,
            8,
            1,
            20,
            5,
            11,
            15,
            4,
            4,
            7,
            6,
            21,
            0,
            7,
            3,
            6,
            0,
            58
           ]
          }
         ],
         "name": "2011"
        },
        {
         "data": [
          {
           "coloraxis": "coloraxis",
           "geo": "geo",
           "hovertemplate": "<b>%{hovertext}</b><br><br>year=2012<br>country_code=%{location}<br>protests=%{z}<extra></extra>",
           "hovertext": [
            "Algeria",
            "Bahrain",
            "Djibouti",
            "Egypt",
            "Iran",
            "Iraq",
            "Jordan",
            "Kuwait",
            "Lebanon",
            "Libya",
            "Morocco",
            "Oman",
            "Qatar",
            "Saudi Arabia",
            "Syria",
            "Tunisia",
            "United Arab Emirates",
            "Yemen"
           ],
           "locations": [
            "DZA",
            "BHR",
            "DJI",
            "EGY",
            "IRN",
            "IRQ",
            "JOR",
            "KWT",
            "LBN",
            "LBY",
            "MAR",
            "OMN",
            "QAT",
            "SAU",
            "SYR",
            "TUN",
            "ARE",
            "YEM"
           ],
           "name": "",
           "type": "choropleth",
           "z": [
            0,
            9,
            0,
            14,
            1,
            2,
            8,
            11,
            1,
            5,
            0,
            2,
            0,
            3,
            0,
            3,
            0,
            4
           ]
          }
         ],
         "name": "2012"
        },
        {
         "data": [
          {
           "coloraxis": "coloraxis",
           "geo": "geo",
           "hovertemplate": "<b>%{hovertext}</b><br><br>year=2013<br>country_code=%{location}<br>protests=%{z}<extra></extra>",
           "hovertext": [
            "Algeria",
            "Bahrain",
            "Djibouti",
            "Egypt",
            "Iran",
            "Iraq",
            "Jordan",
            "Kuwait",
            "Lebanon",
            "Libya",
            "Morocco",
            "Oman",
            "Qatar",
            "Saudi Arabia",
            "Syria",
            "Tunisia",
            "United Arab Emirates",
            "Yemen"
           ],
           "locations": [
            "DZA",
            "BHR",
            "DJI",
            "EGY",
            "IRN",
            "IRQ",
            "JOR",
            "KWT",
            "LBN",
            "LBY",
            "MAR",
            "OMN",
            "QAT",
            "SAU",
            "SYR",
            "TUN",
            "ARE",
            "YEM"
           ],
           "name": "",
           "type": "choropleth",
           "z": [
            2,
            4,
            1,
            22,
            2,
            10,
            2,
            5,
            1,
            1,
            3,
            2,
            0,
            2,
            0,
            5,
            0,
            3
           ]
          }
         ],
         "name": "2013"
        },
        {
         "data": [
          {
           "coloraxis": "coloraxis",
           "geo": "geo",
           "hovertemplate": "<b>%{hovertext}</b><br><br>year=2014<br>country_code=%{location}<br>protests=%{z}<extra></extra>",
           "hovertext": [
            "Algeria",
            "Bahrain",
            "Djibouti",
            "Egypt",
            "Iran",
            "Iraq",
            "Jordan",
            "Kuwait",
            "Lebanon",
            "Libya",
            "Morocco",
            "Oman",
            "Qatar",
            "Saudi Arabia",
            "Syria",
            "Tunisia",
            "United Arab Emirates",
            "Yemen"
           ],
           "locations": [
            "DZA",
            "BHR",
            "DJI",
            "EGY",
            "IRN",
            "IRQ",
            "JOR",
            "KWT",
            "LBN",
            "LBY",
            "MAR",
            "OMN",
            "QAT",
            "SAU",
            "SYR",
            "TUN",
            "ARE",
            "YEM"
           ],
           "name": "",
           "type": "choropleth",
           "z": [
            11,
            8,
            0,
            18,
            4,
            1,
            4,
            5,
            4,
            4,
            3,
            0,
            0,
            0,
            4,
            2,
            0,
            33
           ]
          }
         ],
         "name": "2014"
        },
        {
         "data": [
          {
           "coloraxis": "coloraxis",
           "geo": "geo",
           "hovertemplate": "<b>%{hovertext}</b><br><br>year=2015<br>country_code=%{location}<br>protests=%{z}<extra></extra>",
           "hovertext": [
            "Algeria",
            "Bahrain",
            "Djibouti",
            "Egypt",
            "Iran",
            "Iraq",
            "Jordan",
            "Kuwait",
            "Lebanon",
            "Libya",
            "Morocco",
            "Oman",
            "Qatar",
            "Saudi Arabia",
            "Syria",
            "Tunisia",
            "United Arab Emirates",
            "Yemen"
           ],
           "locations": [
            "DZA",
            "BHR",
            "DJI",
            "EGY",
            "IRN",
            "IRQ",
            "JOR",
            "KWT",
            "LBN",
            "LBY",
            "MAR",
            "OMN",
            "QAT",
            "SAU",
            "SYR",
            "TUN",
            "ARE",
            "YEM"
           ],
           "name": "",
           "type": "choropleth",
           "z": [
            3,
            2,
            0,
            5,
            4,
            7,
            2,
            0,
            7,
            3,
            1,
            0,
            0,
            0,
            1,
            1,
            0,
            11
           ]
          }
         ],
         "name": "2015"
        },
        {
         "data": [
          {
           "coloraxis": "coloraxis",
           "geo": "geo",
           "hovertemplate": "<b>%{hovertext}</b><br><br>year=2016<br>country_code=%{location}<br>protests=%{z}<extra></extra>",
           "hovertext": [
            "Algeria",
            "Bahrain",
            "Djibouti",
            "Egypt",
            "Iran",
            "Iraq",
            "Jordan",
            "Kuwait",
            "Lebanon",
            "Libya",
            "Morocco",
            "Oman",
            "Qatar",
            "Saudi Arabia",
            "Syria",
            "Tunisia",
            "United Arab Emirates",
            "Yemen"
           ],
           "locations": [
            "DZA",
            "BHR",
            "DJI",
            "EGY",
            "IRN",
            "IRQ",
            "JOR",
            "KWT",
            "LBN",
            "LBY",
            "MAR",
            "OMN",
            "QAT",
            "SAU",
            "SYR",
            "TUN",
            "ARE",
            "YEM"
           ],
           "name": "",
           "type": "choropleth",
           "z": [
            0,
            1,
            0,
            6,
            4,
            6,
            3,
            1,
            0,
            0,
            1,
            0,
            0,
            1,
            2,
            2,
            0,
            1
           ]
          }
         ],
         "name": "2016"
        },
        {
         "data": [
          {
           "coloraxis": "coloraxis",
           "geo": "geo",
           "hovertemplate": "<b>%{hovertext}</b><br><br>year=2017<br>country_code=%{location}<br>protests=%{z}<extra></extra>",
           "hovertext": [
            "Algeria",
            "Bahrain",
            "Djibouti",
            "Egypt",
            "Iran",
            "Iraq",
            "Jordan",
            "Kuwait",
            "Lebanon",
            "Libya",
            "Morocco",
            "Oman",
            "Qatar",
            "Saudi Arabia",
            "Syria",
            "Tunisia",
            "United Arab Emirates",
            "Yemen"
           ],
           "locations": [
            "DZA",
            "BHR",
            "DJI",
            "EGY",
            "IRN",
            "IRQ",
            "JOR",
            "KWT",
            "LBN",
            "LBY",
            "MAR",
            "OMN",
            "QAT",
            "SAU",
            "SYR",
            "TUN",
            "ARE",
            "YEM"
           ],
           "name": "",
           "type": "choropleth",
           "z": [
            2,
            2,
            0,
            3,
            6,
            3,
            1,
            0,
            1,
            0,
            5,
            0,
            0,
            1,
            1,
            5,
            0,
            0
           ]
          }
         ],
         "name": "2017"
        },
        {
         "data": [
          {
           "coloraxis": "coloraxis",
           "geo": "geo",
           "hovertemplate": "<b>%{hovertext}</b><br><br>year=2018<br>country_code=%{location}<br>protests=%{z}<extra></extra>",
           "hovertext": [
            "Algeria",
            "Bahrain",
            "Djibouti",
            "Egypt",
            "Iran",
            "Iraq",
            "Jordan",
            "Kuwait",
            "Lebanon",
            "Libya",
            "Morocco",
            "Oman",
            "Qatar",
            "Saudi Arabia",
            "Syria",
            "Tunisia",
            "United Arab Emirates",
            "Yemen"
           ],
           "locations": [
            "DZA",
            "BHR",
            "DJI",
            "EGY",
            "IRN",
            "IRQ",
            "JOR",
            "KWT",
            "LBN",
            "LBY",
            "MAR",
            "OMN",
            "QAT",
            "SAU",
            "SYR",
            "TUN",
            "ARE",
            "YEM"
           ],
           "name": "",
           "type": "choropleth",
           "z": [
            0,
            0,
            0,
            0,
            9,
            3,
            1,
            3,
            1,
            0,
            6,
            1,
            0,
            0,
            0,
            10,
            0,
            0
           ]
          }
         ],
         "name": "2018"
        },
        {
         "data": [
          {
           "coloraxis": "coloraxis",
           "geo": "geo",
           "hovertemplate": "<b>%{hovertext}</b><br><br>year=2019<br>country_code=%{location}<br>protests=%{z}<extra></extra>",
           "hovertext": [
            "Algeria",
            "Bahrain",
            "Djibouti",
            "Egypt",
            "Iran",
            "Iraq",
            "Jordan",
            "Kuwait",
            "Lebanon",
            "Libya",
            "Morocco",
            "Oman",
            "Qatar",
            "Saudi Arabia",
            "Syria",
            "Tunisia",
            "United Arab Emirates",
            "Yemen"
           ],
           "locations": [
            "DZA",
            "BHR",
            "DJI",
            "EGY",
            "IRN",
            "IRQ",
            "JOR",
            "KWT",
            "LBN",
            "LBY",
            "MAR",
            "OMN",
            "QAT",
            "SAU",
            "SYR",
            "TUN",
            "ARE",
            "YEM"
           ],
           "name": "",
           "type": "choropleth",
           "z": [
            19,
            0,
            0,
            0,
            0,
            1,
            0,
            0,
            0,
            1,
            2,
            0,
            0,
            0,
            1,
            3,
            0,
            0
           ]
          }
         ],
         "name": "2019"
        }
       ],
       "layout": {
        "coloraxis": {
         "colorbar": {
          "title": {
           "text": "Protests"
          }
         },
         "colorscale": [
          [
           0,
           "rgb(0, 147, 146)"
          ],
          [
           0.16666666666666666,
           "rgb(57, 177, 133)"
          ],
          [
           0.3333333333333333,
           "rgb(156, 203, 134)"
          ],
          [
           0.5,
           "rgb(233, 226, 156)"
          ],
          [
           0.6666666666666666,
           "rgb(238, 180, 121)"
          ],
          [
           0.8333333333333334,
           "rgb(232, 132, 113)"
          ],
          [
           1,
           "rgb(207, 89, 126)"
          ]
         ]
        },
        "geo": {
         "center": {},
         "domain": {
          "x": [
           0,
           1
          ],
          "y": [
           0,
           1
          ]
         },
         "projection": {
          "type": "natural earth"
         }
        },
        "legend": {
         "tracegroupgap": 0
        },
        "margin": {
         "b": 0,
         "l": 0,
         "r": 0,
         "t": 0
        },
        "sliders": [
         {
          "active": 0,
          "currentvalue": {
           "prefix": "year="
          },
          "len": 0.9,
          "pad": {
           "b": 10,
           "t": 60
          },
          "steps": [
           {
            "args": [
             [
              "2000"
             ],
             {
              "frame": {
               "duration": 0,
               "redraw": true
              },
              "fromcurrent": true,
              "mode": "immediate",
              "transition": {
               "duration": 0,
               "easing": "linear"
              }
             }
            ],
            "label": "2000",
            "method": "animate"
           },
           {
            "args": [
             [
              "2001"
             ],
             {
              "frame": {
               "duration": 0,
               "redraw": true
              },
              "fromcurrent": true,
              "mode": "immediate",
              "transition": {
               "duration": 0,
               "easing": "linear"
              }
             }
            ],
            "label": "2001",
            "method": "animate"
           },
           {
            "args": [
             [
              "2002"
             ],
             {
              "frame": {
               "duration": 0,
               "redraw": true
              },
              "fromcurrent": true,
              "mode": "immediate",
              "transition": {
               "duration": 0,
               "easing": "linear"
              }
             }
            ],
            "label": "2002",
            "method": "animate"
           },
           {
            "args": [
             [
              "2003"
             ],
             {
              "frame": {
               "duration": 0,
               "redraw": true
              },
              "fromcurrent": true,
              "mode": "immediate",
              "transition": {
               "duration": 0,
               "easing": "linear"
              }
             }
            ],
            "label": "2003",
            "method": "animate"
           },
           {
            "args": [
             [
              "2004"
             ],
             {
              "frame": {
               "duration": 0,
               "redraw": true
              },
              "fromcurrent": true,
              "mode": "immediate",
              "transition": {
               "duration": 0,
               "easing": "linear"
              }
             }
            ],
            "label": "2004",
            "method": "animate"
           },
           {
            "args": [
             [
              "2005"
             ],
             {
              "frame": {
               "duration": 0,
               "redraw": true
              },
              "fromcurrent": true,
              "mode": "immediate",
              "transition": {
               "duration": 0,
               "easing": "linear"
              }
             }
            ],
            "label": "2005",
            "method": "animate"
           },
           {
            "args": [
             [
              "2006"
             ],
             {
              "frame": {
               "duration": 0,
               "redraw": true
              },
              "fromcurrent": true,
              "mode": "immediate",
              "transition": {
               "duration": 0,
               "easing": "linear"
              }
             }
            ],
            "label": "2006",
            "method": "animate"
           },
           {
            "args": [
             [
              "2007"
             ],
             {
              "frame": {
               "duration": 0,
               "redraw": true
              },
              "fromcurrent": true,
              "mode": "immediate",
              "transition": {
               "duration": 0,
               "easing": "linear"
              }
             }
            ],
            "label": "2007",
            "method": "animate"
           },
           {
            "args": [
             [
              "2008"
             ],
             {
              "frame": {
               "duration": 0,
               "redraw": true
              },
              "fromcurrent": true,
              "mode": "immediate",
              "transition": {
               "duration": 0,
               "easing": "linear"
              }
             }
            ],
            "label": "2008",
            "method": "animate"
           },
           {
            "args": [
             [
              "2009"
             ],
             {
              "frame": {
               "duration": 0,
               "redraw": true
              },
              "fromcurrent": true,
              "mode": "immediate",
              "transition": {
               "duration": 0,
               "easing": "linear"
              }
             }
            ],
            "label": "2009",
            "method": "animate"
           },
           {
            "args": [
             [
              "2010"
             ],
             {
              "frame": {
               "duration": 0,
               "redraw": true
              },
              "fromcurrent": true,
              "mode": "immediate",
              "transition": {
               "duration": 0,
               "easing": "linear"
              }
             }
            ],
            "label": "2010",
            "method": "animate"
           },
           {
            "args": [
             [
              "2011"
             ],
             {
              "frame": {
               "duration": 0,
               "redraw": true
              },
              "fromcurrent": true,
              "mode": "immediate",
              "transition": {
               "duration": 0,
               "easing": "linear"
              }
             }
            ],
            "label": "2011",
            "method": "animate"
           },
           {
            "args": [
             [
              "2012"
             ],
             {
              "frame": {
               "duration": 0,
               "redraw": true
              },
              "fromcurrent": true,
              "mode": "immediate",
              "transition": {
               "duration": 0,
               "easing": "linear"
              }
             }
            ],
            "label": "2012",
            "method": "animate"
           },
           {
            "args": [
             [
              "2013"
             ],
             {
              "frame": {
               "duration": 0,
               "redraw": true
              },
              "fromcurrent": true,
              "mode": "immediate",
              "transition": {
               "duration": 0,
               "easing": "linear"
              }
             }
            ],
            "label": "2013",
            "method": "animate"
           },
           {
            "args": [
             [
              "2014"
             ],
             {
              "frame": {
               "duration": 0,
               "redraw": true
              },
              "fromcurrent": true,
              "mode": "immediate",
              "transition": {
               "duration": 0,
               "easing": "linear"
              }
             }
            ],
            "label": "2014",
            "method": "animate"
           },
           {
            "args": [
             [
              "2015"
             ],
             {
              "frame": {
               "duration": 0,
               "redraw": true
              },
              "fromcurrent": true,
              "mode": "immediate",
              "transition": {
               "duration": 0,
               "easing": "linear"
              }
             }
            ],
            "label": "2015",
            "method": "animate"
           },
           {
            "args": [
             [
              "2016"
             ],
             {
              "frame": {
               "duration": 0,
               "redraw": true
              },
              "fromcurrent": true,
              "mode": "immediate",
              "transition": {
               "duration": 0,
               "easing": "linear"
              }
             }
            ],
            "label": "2016",
            "method": "animate"
           },
           {
            "args": [
             [
              "2017"
             ],
             {
              "frame": {
               "duration": 0,
               "redraw": true
              },
              "fromcurrent": true,
              "mode": "immediate",
              "transition": {
               "duration": 0,
               "easing": "linear"
              }
             }
            ],
            "label": "2017",
            "method": "animate"
           },
           {
            "args": [
             [
              "2018"
             ],
             {
              "frame": {
               "duration": 0,
               "redraw": true
              },
              "fromcurrent": true,
              "mode": "immediate",
              "transition": {
               "duration": 0,
               "easing": "linear"
              }
             }
            ],
            "label": "2018",
            "method": "animate"
           },
           {
            "args": [
             [
              "2019"
             ],
             {
              "frame": {
               "duration": 0,
               "redraw": true
              },
              "fromcurrent": true,
              "mode": "immediate",
              "transition": {
               "duration": 0,
               "easing": "linear"
              }
             }
            ],
            "label": "2019",
            "method": "animate"
           }
          ],
          "x": 0.1,
          "xanchor": "left",
          "y": 0,
          "yanchor": "top"
         }
        ],
        "template": {
         "data": {
          "bar": [
           {
            "error_x": {
             "color": "#2a3f5f"
            },
            "error_y": {
             "color": "#2a3f5f"
            },
            "marker": {
             "line": {
              "color": "#E5ECF6",
              "width": 0.5
             }
            },
            "type": "bar"
           }
          ],
          "barpolar": [
           {
            "marker": {
             "line": {
              "color": "#E5ECF6",
              "width": 0.5
             }
            },
            "type": "barpolar"
           }
          ],
          "carpet": [
           {
            "aaxis": {
             "endlinecolor": "#2a3f5f",
             "gridcolor": "white",
             "linecolor": "white",
             "minorgridcolor": "white",
             "startlinecolor": "#2a3f5f"
            },
            "baxis": {
             "endlinecolor": "#2a3f5f",
             "gridcolor": "white",
             "linecolor": "white",
             "minorgridcolor": "white",
             "startlinecolor": "#2a3f5f"
            },
            "type": "carpet"
           }
          ],
          "choropleth": [
           {
            "colorbar": {
             "outlinewidth": 0,
             "ticks": ""
            },
            "type": "choropleth"
           }
          ],
          "contour": [
           {
            "colorbar": {
             "outlinewidth": 0,
             "ticks": ""
            },
            "colorscale": [
             [
              0,
              "#0d0887"
             ],
             [
              0.1111111111111111,
              "#46039f"
             ],
             [
              0.2222222222222222,
              "#7201a8"
             ],
             [
              0.3333333333333333,
              "#9c179e"
             ],
             [
              0.4444444444444444,
              "#bd3786"
             ],
             [
              0.5555555555555556,
              "#d8576b"
             ],
             [
              0.6666666666666666,
              "#ed7953"
             ],
             [
              0.7777777777777778,
              "#fb9f3a"
             ],
             [
              0.8888888888888888,
              "#fdca26"
             ],
             [
              1,
              "#f0f921"
             ]
            ],
            "type": "contour"
           }
          ],
          "contourcarpet": [
           {
            "colorbar": {
             "outlinewidth": 0,
             "ticks": ""
            },
            "type": "contourcarpet"
           }
          ],
          "heatmap": [
           {
            "colorbar": {
             "outlinewidth": 0,
             "ticks": ""
            },
            "colorscale": [
             [
              0,
              "#0d0887"
             ],
             [
              0.1111111111111111,
              "#46039f"
             ],
             [
              0.2222222222222222,
              "#7201a8"
             ],
             [
              0.3333333333333333,
              "#9c179e"
             ],
             [
              0.4444444444444444,
              "#bd3786"
             ],
             [
              0.5555555555555556,
              "#d8576b"
             ],
             [
              0.6666666666666666,
              "#ed7953"
             ],
             [
              0.7777777777777778,
              "#fb9f3a"
             ],
             [
              0.8888888888888888,
              "#fdca26"
             ],
             [
              1,
              "#f0f921"
             ]
            ],
            "type": "heatmap"
           }
          ],
          "heatmapgl": [
           {
            "colorbar": {
             "outlinewidth": 0,
             "ticks": ""
            },
            "colorscale": [
             [
              0,
              "#0d0887"
             ],
             [
              0.1111111111111111,
              "#46039f"
             ],
             [
              0.2222222222222222,
              "#7201a8"
             ],
             [
              0.3333333333333333,
              "#9c179e"
             ],
             [
              0.4444444444444444,
              "#bd3786"
             ],
             [
              0.5555555555555556,
              "#d8576b"
             ],
             [
              0.6666666666666666,
              "#ed7953"
             ],
             [
              0.7777777777777778,
              "#fb9f3a"
             ],
             [
              0.8888888888888888,
              "#fdca26"
             ],
             [
              1,
              "#f0f921"
             ]
            ],
            "type": "heatmapgl"
           }
          ],
          "histogram": [
           {
            "marker": {
             "colorbar": {
              "outlinewidth": 0,
              "ticks": ""
             }
            },
            "type": "histogram"
           }
          ],
          "histogram2d": [
           {
            "colorbar": {
             "outlinewidth": 0,
             "ticks": ""
            },
            "colorscale": [
             [
              0,
              "#0d0887"
             ],
             [
              0.1111111111111111,
              "#46039f"
             ],
             [
              0.2222222222222222,
              "#7201a8"
             ],
             [
              0.3333333333333333,
              "#9c179e"
             ],
             [
              0.4444444444444444,
              "#bd3786"
             ],
             [
              0.5555555555555556,
              "#d8576b"
             ],
             [
              0.6666666666666666,
              "#ed7953"
             ],
             [
              0.7777777777777778,
              "#fb9f3a"
             ],
             [
              0.8888888888888888,
              "#fdca26"
             ],
             [
              1,
              "#f0f921"
             ]
            ],
            "type": "histogram2d"
           }
          ],
          "histogram2dcontour": [
           {
            "colorbar": {
             "outlinewidth": 0,
             "ticks": ""
            },
            "colorscale": [
             [
              0,
              "#0d0887"
             ],
             [
              0.1111111111111111,
              "#46039f"
             ],
             [
              0.2222222222222222,
              "#7201a8"
             ],
             [
              0.3333333333333333,
              "#9c179e"
             ],
             [
              0.4444444444444444,
              "#bd3786"
             ],
             [
              0.5555555555555556,
              "#d8576b"
             ],
             [
              0.6666666666666666,
              "#ed7953"
             ],
             [
              0.7777777777777778,
              "#fb9f3a"
             ],
             [
              0.8888888888888888,
              "#fdca26"
             ],
             [
              1,
              "#f0f921"
             ]
            ],
            "type": "histogram2dcontour"
           }
          ],
          "mesh3d": [
           {
            "colorbar": {
             "outlinewidth": 0,
             "ticks": ""
            },
            "type": "mesh3d"
           }
          ],
          "parcoords": [
           {
            "line": {
             "colorbar": {
              "outlinewidth": 0,
              "ticks": ""
             }
            },
            "type": "parcoords"
           }
          ],
          "pie": [
           {
            "automargin": true,
            "type": "pie"
           }
          ],
          "scatter": [
           {
            "marker": {
             "colorbar": {
              "outlinewidth": 0,
              "ticks": ""
             }
            },
            "type": "scatter"
           }
          ],
          "scatter3d": [
           {
            "line": {
             "colorbar": {
              "outlinewidth": 0,
              "ticks": ""
             }
            },
            "marker": {
             "colorbar": {
              "outlinewidth": 0,
              "ticks": ""
             }
            },
            "type": "scatter3d"
           }
          ],
          "scattercarpet": [
           {
            "marker": {
             "colorbar": {
              "outlinewidth": 0,
              "ticks": ""
             }
            },
            "type": "scattercarpet"
           }
          ],
          "scattergeo": [
           {
            "marker": {
             "colorbar": {
              "outlinewidth": 0,
              "ticks": ""
             }
            },
            "type": "scattergeo"
           }
          ],
          "scattergl": [
           {
            "marker": {
             "colorbar": {
              "outlinewidth": 0,
              "ticks": ""
             }
            },
            "type": "scattergl"
           }
          ],
          "scattermapbox": [
           {
            "marker": {
             "colorbar": {
              "outlinewidth": 0,
              "ticks": ""
             }
            },
            "type": "scattermapbox"
           }
          ],
          "scatterpolar": [
           {
            "marker": {
             "colorbar": {
              "outlinewidth": 0,
              "ticks": ""
             }
            },
            "type": "scatterpolar"
           }
          ],
          "scatterpolargl": [
           {
            "marker": {
             "colorbar": {
              "outlinewidth": 0,
              "ticks": ""
             }
            },
            "type": "scatterpolargl"
           }
          ],
          "scatterternary": [
           {
            "marker": {
             "colorbar": {
              "outlinewidth": 0,
              "ticks": ""
             }
            },
            "type": "scatterternary"
           }
          ],
          "surface": [
           {
            "colorbar": {
             "outlinewidth": 0,
             "ticks": ""
            },
            "colorscale": [
             [
              0,
              "#0d0887"
             ],
             [
              0.1111111111111111,
              "#46039f"
             ],
             [
              0.2222222222222222,
              "#7201a8"
             ],
             [
              0.3333333333333333,
              "#9c179e"
             ],
             [
              0.4444444444444444,
              "#bd3786"
             ],
             [
              0.5555555555555556,
              "#d8576b"
             ],
             [
              0.6666666666666666,
              "#ed7953"
             ],
             [
              0.7777777777777778,
              "#fb9f3a"
             ],
             [
              0.8888888888888888,
              "#fdca26"
             ],
             [
              1,
              "#f0f921"
             ]
            ],
            "type": "surface"
           }
          ],
          "table": [
           {
            "cells": {
             "fill": {
              "color": "#EBF0F8"
             },
             "line": {
              "color": "white"
             }
            },
            "header": {
             "fill": {
              "color": "#C8D4E3"
             },
             "line": {
              "color": "white"
             }
            },
            "type": "table"
           }
          ]
         },
         "layout": {
          "annotationdefaults": {
           "arrowcolor": "#2a3f5f",
           "arrowhead": 0,
           "arrowwidth": 1
          },
          "autotypenumbers": "strict",
          "coloraxis": {
           "colorbar": {
            "outlinewidth": 0,
            "ticks": ""
           }
          },
          "colorscale": {
           "diverging": [
            [
             0,
             "#8e0152"
            ],
            [
             0.1,
             "#c51b7d"
            ],
            [
             0.2,
             "#de77ae"
            ],
            [
             0.3,
             "#f1b6da"
            ],
            [
             0.4,
             "#fde0ef"
            ],
            [
             0.5,
             "#f7f7f7"
            ],
            [
             0.6,
             "#e6f5d0"
            ],
            [
             0.7,
             "#b8e186"
            ],
            [
             0.8,
             "#7fbc41"
            ],
            [
             0.9,
             "#4d9221"
            ],
            [
             1,
             "#276419"
            ]
           ],
           "sequential": [
            [
             0,
             "#0d0887"
            ],
            [
             0.1111111111111111,
             "#46039f"
            ],
            [
             0.2222222222222222,
             "#7201a8"
            ],
            [
             0.3333333333333333,
             "#9c179e"
            ],
            [
             0.4444444444444444,
             "#bd3786"
            ],
            [
             0.5555555555555556,
             "#d8576b"
            ],
            [
             0.6666666666666666,
             "#ed7953"
            ],
            [
             0.7777777777777778,
             "#fb9f3a"
            ],
            [
             0.8888888888888888,
             "#fdca26"
            ],
            [
             1,
             "#f0f921"
            ]
           ],
           "sequentialminus": [
            [
             0,
             "#0d0887"
            ],
            [
             0.1111111111111111,
             "#46039f"
            ],
            [
             0.2222222222222222,
             "#7201a8"
            ],
            [
             0.3333333333333333,
             "#9c179e"
            ],
            [
             0.4444444444444444,
             "#bd3786"
            ],
            [
             0.5555555555555556,
             "#d8576b"
            ],
            [
             0.6666666666666666,
             "#ed7953"
            ],
            [
             0.7777777777777778,
             "#fb9f3a"
            ],
            [
             0.8888888888888888,
             "#fdca26"
            ],
            [
             1,
             "#f0f921"
            ]
           ]
          },
          "colorway": [
           "#636efa",
           "#EF553B",
           "#00cc96",
           "#ab63fa",
           "#FFA15A",
           "#19d3f3",
           "#FF6692",
           "#B6E880",
           "#FF97FF",
           "#FECB52"
          ],
          "font": {
           "color": "#2a3f5f"
          },
          "geo": {
           "bgcolor": "white",
           "lakecolor": "white",
           "landcolor": "#E5ECF6",
           "showlakes": true,
           "showland": true,
           "subunitcolor": "white"
          },
          "hoverlabel": {
           "align": "left"
          },
          "hovermode": "closest",
          "mapbox": {
           "style": "light"
          },
          "paper_bgcolor": "white",
          "plot_bgcolor": "#E5ECF6",
          "polar": {
           "angularaxis": {
            "gridcolor": "white",
            "linecolor": "white",
            "ticks": ""
           },
           "bgcolor": "#E5ECF6",
           "radialaxis": {
            "gridcolor": "white",
            "linecolor": "white",
            "ticks": ""
           }
          },
          "scene": {
           "xaxis": {
            "backgroundcolor": "#E5ECF6",
            "gridcolor": "white",
            "gridwidth": 2,
            "linecolor": "white",
            "showbackground": true,
            "ticks": "",
            "zerolinecolor": "white"
           },
           "yaxis": {
            "backgroundcolor": "#E5ECF6",
            "gridcolor": "white",
            "gridwidth": 2,
            "linecolor": "white",
            "showbackground": true,
            "ticks": "",
            "zerolinecolor": "white"
           },
           "zaxis": {
            "backgroundcolor": "#E5ECF6",
            "gridcolor": "white",
            "gridwidth": 2,
            "linecolor": "white",
            "showbackground": true,
            "ticks": "",
            "zerolinecolor": "white"
           }
          },
          "shapedefaults": {
           "line": {
            "color": "#2a3f5f"
           }
          },
          "ternary": {
           "aaxis": {
            "gridcolor": "white",
            "linecolor": "white",
            "ticks": ""
           },
           "baxis": {
            "gridcolor": "white",
            "linecolor": "white",
            "ticks": ""
           },
           "bgcolor": "#E5ECF6",
           "caxis": {
            "gridcolor": "white",
            "linecolor": "white",
            "ticks": ""
           }
          },
          "title": {
           "x": 0.05
          },
          "xaxis": {
           "automargin": true,
           "gridcolor": "white",
           "linecolor": "white",
           "ticks": "",
           "title": {
            "standoff": 15
           },
           "zerolinecolor": "white",
           "zerolinewidth": 2
          },
          "yaxis": {
           "automargin": true,
           "gridcolor": "white",
           "linecolor": "white",
           "ticks": "",
           "title": {
            "standoff": 15
           },
           "zerolinecolor": "white",
           "zerolinewidth": 2
          }
         }
        },
        "title": {
         "text": "Number of Protests"
        },
        "updatemenus": [
         {
          "buttons": [
           {
            "args": [
             null,
             {
              "frame": {
               "duration": 500,
               "redraw": true
              },
              "fromcurrent": true,
              "mode": "immediate",
              "transition": {
               "duration": 500,
               "easing": "linear"
              }
             }
            ],
            "label": "&#9654;",
            "method": "animate"
           },
           {
            "args": [
             [
              null
             ],
             {
              "frame": {
               "duration": 0,
               "redraw": true
              },
              "fromcurrent": true,
              "mode": "immediate",
              "transition": {
               "duration": 0,
               "easing": "linear"
              }
             }
            ],
            "label": "&#9724;",
            "method": "animate"
           }
          ],
          "direction": "left",
          "pad": {
           "r": 10,
           "t": 70
          },
          "showactive": false,
          "type": "buttons",
          "x": 0.1,
          "xanchor": "right",
          "y": 0,
          "yanchor": "top"
         }
        ]
       }
      },
      "text/html": [
       "<div>                            <div id=\"6ccb863d-926e-4fe7-a7dc-6f81c537bd61\" class=\"plotly-graph-div\" style=\"height:525px; width:100%;\"></div>            <script type=\"text/javascript\">                require([\"plotly\"], function(Plotly) {                    window.PLOTLYENV=window.PLOTLYENV || {};                                    if (document.getElementById(\"6ccb863d-926e-4fe7-a7dc-6f81c537bd61\")) {                    Plotly.newPlot(                        \"6ccb863d-926e-4fe7-a7dc-6f81c537bd61\",                        [{\"coloraxis\": \"coloraxis\", \"geo\": \"geo\", \"hovertemplate\": \"<b>%{hovertext}</b><br><br>year=2000<br>country_code=%{location}<br>protests=%{z}<extra></extra>\", \"hovertext\": [\"Algeria\", \"Bahrain\", \"Djibouti\", \"Egypt\", \"Iran\", \"Iraq\", \"Jordan\", \"Kuwait\", \"Lebanon\", \"Libya\", \"Morocco\", \"Oman\", \"Qatar\", \"Saudi Arabia\", \"Syria\", \"Tunisia\", \"United Arab Emirates\", \"Yemen\"], \"locations\": [\"DZA\", \"BHR\", \"DJI\", \"EGY\", \"IRN\", \"IRQ\", \"JOR\", \"KWT\", \"LBN\", \"LBY\", \"MAR\", \"OMN\", \"QAT\", \"SAU\", \"SYR\", \"TUN\", \"ARE\", \"YEM\"], \"name\": \"\", \"type\": \"choropleth\", \"z\": [0, 1, 1, 1, 5, 0, 0, 1, 2, 0, 3, 0, 0, 0, 0, 1, 0, 0]}],                        {\"coloraxis\": {\"colorbar\": {\"title\": {\"text\": \"Protests\"}}, \"colorscale\": [[0.0, \"rgb(0, 147, 146)\"], [0.16666666666666666, \"rgb(57, 177, 133)\"], [0.3333333333333333, \"rgb(156, 203, 134)\"], [0.5, \"rgb(233, 226, 156)\"], [0.6666666666666666, \"rgb(238, 180, 121)\"], [0.8333333333333334, \"rgb(232, 132, 113)\"], [1.0, \"rgb(207, 89, 126)\"]]}, \"geo\": {\"center\": {}, \"domain\": {\"x\": [0.0, 1.0], \"y\": [0.0, 1.0]}, \"projection\": {\"type\": \"natural earth\"}}, \"legend\": {\"tracegroupgap\": 0}, \"margin\": {\"b\": 0, \"l\": 0, \"r\": 0, \"t\": 0}, \"sliders\": [{\"active\": 0, \"currentvalue\": {\"prefix\": \"year=\"}, \"len\": 0.9, \"pad\": {\"b\": 10, \"t\": 60}, \"steps\": [{\"args\": [[\"2000\"], {\"frame\": {\"duration\": 0, \"redraw\": true}, \"fromcurrent\": true, \"mode\": \"immediate\", \"transition\": {\"duration\": 0, \"easing\": \"linear\"}}], \"label\": \"2000\", \"method\": \"animate\"}, {\"args\": [[\"2001\"], {\"frame\": {\"duration\": 0, \"redraw\": true}, \"fromcurrent\": true, \"mode\": \"immediate\", \"transition\": {\"duration\": 0, \"easing\": \"linear\"}}], \"label\": \"2001\", \"method\": \"animate\"}, {\"args\": [[\"2002\"], {\"frame\": {\"duration\": 0, \"redraw\": true}, \"fromcurrent\": true, \"mode\": \"immediate\", \"transition\": {\"duration\": 0, \"easing\": \"linear\"}}], \"label\": \"2002\", \"method\": \"animate\"}, {\"args\": [[\"2003\"], {\"frame\": {\"duration\": 0, \"redraw\": true}, \"fromcurrent\": true, \"mode\": \"immediate\", \"transition\": {\"duration\": 0, \"easing\": \"linear\"}}], \"label\": \"2003\", \"method\": \"animate\"}, {\"args\": [[\"2004\"], {\"frame\": {\"duration\": 0, \"redraw\": true}, \"fromcurrent\": true, \"mode\": \"immediate\", \"transition\": {\"duration\": 0, \"easing\": \"linear\"}}], \"label\": \"2004\", \"method\": \"animate\"}, {\"args\": [[\"2005\"], {\"frame\": {\"duration\": 0, \"redraw\": true}, \"fromcurrent\": true, \"mode\": \"immediate\", \"transition\": {\"duration\": 0, \"easing\": \"linear\"}}], \"label\": \"2005\", \"method\": \"animate\"}, {\"args\": [[\"2006\"], {\"frame\": {\"duration\": 0, \"redraw\": true}, \"fromcurrent\": true, \"mode\": \"immediate\", \"transition\": {\"duration\": 0, \"easing\": \"linear\"}}], \"label\": \"2006\", \"method\": \"animate\"}, {\"args\": [[\"2007\"], {\"frame\": {\"duration\": 0, \"redraw\": true}, \"fromcurrent\": true, \"mode\": \"immediate\", \"transition\": {\"duration\": 0, \"easing\": \"linear\"}}], \"label\": \"2007\", \"method\": \"animate\"}, {\"args\": [[\"2008\"], {\"frame\": {\"duration\": 0, \"redraw\": true}, \"fromcurrent\": true, \"mode\": \"immediate\", \"transition\": {\"duration\": 0, \"easing\": \"linear\"}}], \"label\": \"2008\", \"method\": \"animate\"}, {\"args\": [[\"2009\"], {\"frame\": {\"duration\": 0, \"redraw\": true}, \"fromcurrent\": true, \"mode\": \"immediate\", \"transition\": {\"duration\": 0, \"easing\": \"linear\"}}], \"label\": \"2009\", \"method\": \"animate\"}, {\"args\": [[\"2010\"], {\"frame\": {\"duration\": 0, \"redraw\": true}, \"fromcurrent\": true, \"mode\": \"immediate\", \"transition\": {\"duration\": 0, \"easing\": \"linear\"}}], \"label\": \"2010\", \"method\": \"animate\"}, {\"args\": [[\"2011\"], {\"frame\": {\"duration\": 0, \"redraw\": true}, \"fromcurrent\": true, \"mode\": \"immediate\", \"transition\": {\"duration\": 0, \"easing\": \"linear\"}}], \"label\": \"2011\", \"method\": \"animate\"}, {\"args\": [[\"2012\"], {\"frame\": {\"duration\": 0, \"redraw\": true}, \"fromcurrent\": true, \"mode\": \"immediate\", \"transition\": {\"duration\": 0, \"easing\": \"linear\"}}], \"label\": \"2012\", \"method\": \"animate\"}, {\"args\": [[\"2013\"], {\"frame\": {\"duration\": 0, \"redraw\": true}, \"fromcurrent\": true, \"mode\": \"immediate\", \"transition\": {\"duration\": 0, \"easing\": \"linear\"}}], \"label\": \"2013\", \"method\": \"animate\"}, {\"args\": [[\"2014\"], {\"frame\": {\"duration\": 0, \"redraw\": true}, \"fromcurrent\": true, \"mode\": \"immediate\", \"transition\": {\"duration\": 0, \"easing\": \"linear\"}}], \"label\": \"2014\", \"method\": \"animate\"}, {\"args\": [[\"2015\"], {\"frame\": {\"duration\": 0, \"redraw\": true}, \"fromcurrent\": true, \"mode\": \"immediate\", \"transition\": {\"duration\": 0, \"easing\": \"linear\"}}], \"label\": \"2015\", \"method\": \"animate\"}, {\"args\": [[\"2016\"], {\"frame\": {\"duration\": 0, \"redraw\": true}, \"fromcurrent\": true, \"mode\": \"immediate\", \"transition\": {\"duration\": 0, \"easing\": \"linear\"}}], \"label\": \"2016\", \"method\": \"animate\"}, {\"args\": [[\"2017\"], {\"frame\": {\"duration\": 0, \"redraw\": true}, \"fromcurrent\": true, \"mode\": \"immediate\", \"transition\": {\"duration\": 0, \"easing\": \"linear\"}}], \"label\": \"2017\", \"method\": \"animate\"}, {\"args\": [[\"2018\"], {\"frame\": {\"duration\": 0, \"redraw\": true}, \"fromcurrent\": true, \"mode\": \"immediate\", \"transition\": {\"duration\": 0, \"easing\": \"linear\"}}], \"label\": \"2018\", \"method\": \"animate\"}, {\"args\": [[\"2019\"], {\"frame\": {\"duration\": 0, \"redraw\": true}, \"fromcurrent\": true, \"mode\": \"immediate\", \"transition\": {\"duration\": 0, \"easing\": \"linear\"}}], \"label\": \"2019\", \"method\": \"animate\"}], \"x\": 0.1, \"xanchor\": \"left\", \"y\": 0, \"yanchor\": \"top\"}], \"template\": {\"data\": {\"bar\": [{\"error_x\": {\"color\": \"#2a3f5f\"}, \"error_y\": {\"color\": \"#2a3f5f\"}, \"marker\": {\"line\": {\"color\": \"#E5ECF6\", \"width\": 0.5}}, \"type\": \"bar\"}], \"barpolar\": [{\"marker\": {\"line\": {\"color\": \"#E5ECF6\", \"width\": 0.5}}, \"type\": \"barpolar\"}], \"carpet\": [{\"aaxis\": {\"endlinecolor\": \"#2a3f5f\", \"gridcolor\": \"white\", \"linecolor\": \"white\", \"minorgridcolor\": \"white\", \"startlinecolor\": \"#2a3f5f\"}, \"baxis\": {\"endlinecolor\": \"#2a3f5f\", \"gridcolor\": \"white\", \"linecolor\": \"white\", \"minorgridcolor\": \"white\", \"startlinecolor\": \"#2a3f5f\"}, \"type\": \"carpet\"}], \"choropleth\": [{\"colorbar\": {\"outlinewidth\": 0, \"ticks\": \"\"}, \"type\": \"choropleth\"}], \"contour\": [{\"colorbar\": {\"outlinewidth\": 0, \"ticks\": \"\"}, \"colorscale\": [[0.0, \"#0d0887\"], [0.1111111111111111, \"#46039f\"], [0.2222222222222222, \"#7201a8\"], [0.3333333333333333, \"#9c179e\"], [0.4444444444444444, \"#bd3786\"], [0.5555555555555556, \"#d8576b\"], [0.6666666666666666, \"#ed7953\"], [0.7777777777777778, \"#fb9f3a\"], [0.8888888888888888, \"#fdca26\"], [1.0, \"#f0f921\"]], \"type\": \"contour\"}], \"contourcarpet\": [{\"colorbar\": {\"outlinewidth\": 0, \"ticks\": \"\"}, \"type\": \"contourcarpet\"}], \"heatmap\": [{\"colorbar\": {\"outlinewidth\": 0, \"ticks\": \"\"}, \"colorscale\": [[0.0, \"#0d0887\"], [0.1111111111111111, \"#46039f\"], [0.2222222222222222, \"#7201a8\"], [0.3333333333333333, \"#9c179e\"], [0.4444444444444444, \"#bd3786\"], [0.5555555555555556, \"#d8576b\"], [0.6666666666666666, \"#ed7953\"], [0.7777777777777778, \"#fb9f3a\"], [0.8888888888888888, \"#fdca26\"], [1.0, \"#f0f921\"]], \"type\": \"heatmap\"}], \"heatmapgl\": [{\"colorbar\": {\"outlinewidth\": 0, \"ticks\": \"\"}, \"colorscale\": [[0.0, \"#0d0887\"], [0.1111111111111111, \"#46039f\"], [0.2222222222222222, \"#7201a8\"], [0.3333333333333333, \"#9c179e\"], [0.4444444444444444, \"#bd3786\"], [0.5555555555555556, \"#d8576b\"], [0.6666666666666666, \"#ed7953\"], [0.7777777777777778, \"#fb9f3a\"], [0.8888888888888888, \"#fdca26\"], [1.0, \"#f0f921\"]], \"type\": \"heatmapgl\"}], \"histogram\": [{\"marker\": {\"colorbar\": {\"outlinewidth\": 0, \"ticks\": \"\"}}, \"type\": \"histogram\"}], \"histogram2d\": [{\"colorbar\": {\"outlinewidth\": 0, \"ticks\": \"\"}, \"colorscale\": [[0.0, \"#0d0887\"], [0.1111111111111111, \"#46039f\"], [0.2222222222222222, \"#7201a8\"], [0.3333333333333333, \"#9c179e\"], [0.4444444444444444, \"#bd3786\"], [0.5555555555555556, \"#d8576b\"], [0.6666666666666666, \"#ed7953\"], [0.7777777777777778, \"#fb9f3a\"], [0.8888888888888888, \"#fdca26\"], [1.0, \"#f0f921\"]], \"type\": \"histogram2d\"}], \"histogram2dcontour\": [{\"colorbar\": {\"outlinewidth\": 0, \"ticks\": \"\"}, \"colorscale\": [[0.0, \"#0d0887\"], [0.1111111111111111, \"#46039f\"], [0.2222222222222222, \"#7201a8\"], [0.3333333333333333, \"#9c179e\"], [0.4444444444444444, \"#bd3786\"], [0.5555555555555556, \"#d8576b\"], [0.6666666666666666, \"#ed7953\"], [0.7777777777777778, \"#fb9f3a\"], [0.8888888888888888, \"#fdca26\"], [1.0, \"#f0f921\"]], \"type\": \"histogram2dcontour\"}], \"mesh3d\": [{\"colorbar\": {\"outlinewidth\": 0, \"ticks\": \"\"}, \"type\": \"mesh3d\"}], \"parcoords\": [{\"line\": {\"colorbar\": {\"outlinewidth\": 0, \"ticks\": \"\"}}, \"type\": \"parcoords\"}], \"pie\": [{\"automargin\": true, \"type\": \"pie\"}], \"scatter\": [{\"marker\": {\"colorbar\": {\"outlinewidth\": 0, \"ticks\": \"\"}}, \"type\": \"scatter\"}], \"scatter3d\": [{\"line\": {\"colorbar\": {\"outlinewidth\": 0, \"ticks\": \"\"}}, \"marker\": {\"colorbar\": {\"outlinewidth\": 0, \"ticks\": \"\"}}, \"type\": \"scatter3d\"}], \"scattercarpet\": [{\"marker\": {\"colorbar\": {\"outlinewidth\": 0, \"ticks\": \"\"}}, \"type\": \"scattercarpet\"}], \"scattergeo\": [{\"marker\": {\"colorbar\": {\"outlinewidth\": 0, \"ticks\": \"\"}}, \"type\": \"scattergeo\"}], \"scattergl\": [{\"marker\": {\"colorbar\": {\"outlinewidth\": 0, \"ticks\": \"\"}}, \"type\": \"scattergl\"}], \"scattermapbox\": [{\"marker\": {\"colorbar\": {\"outlinewidth\": 0, \"ticks\": \"\"}}, \"type\": \"scattermapbox\"}], \"scatterpolar\": [{\"marker\": {\"colorbar\": {\"outlinewidth\": 0, \"ticks\": \"\"}}, \"type\": \"scatterpolar\"}], \"scatterpolargl\": [{\"marker\": {\"colorbar\": {\"outlinewidth\": 0, \"ticks\": \"\"}}, \"type\": \"scatterpolargl\"}], \"scatterternary\": [{\"marker\": {\"colorbar\": {\"outlinewidth\": 0, \"ticks\": \"\"}}, \"type\": \"scatterternary\"}], \"surface\": [{\"colorbar\": {\"outlinewidth\": 0, \"ticks\": \"\"}, \"colorscale\": [[0.0, \"#0d0887\"], [0.1111111111111111, \"#46039f\"], [0.2222222222222222, \"#7201a8\"], [0.3333333333333333, \"#9c179e\"], [0.4444444444444444, \"#bd3786\"], [0.5555555555555556, \"#d8576b\"], [0.6666666666666666, \"#ed7953\"], [0.7777777777777778, \"#fb9f3a\"], [0.8888888888888888, \"#fdca26\"], [1.0, \"#f0f921\"]], \"type\": \"surface\"}], \"table\": [{\"cells\": {\"fill\": {\"color\": \"#EBF0F8\"}, \"line\": {\"color\": \"white\"}}, \"header\": {\"fill\": {\"color\": \"#C8D4E3\"}, \"line\": {\"color\": \"white\"}}, \"type\": \"table\"}]}, \"layout\": {\"annotationdefaults\": {\"arrowcolor\": \"#2a3f5f\", \"arrowhead\": 0, \"arrowwidth\": 1}, \"autotypenumbers\": \"strict\", \"coloraxis\": {\"colorbar\": {\"outlinewidth\": 0, \"ticks\": \"\"}}, \"colorscale\": {\"diverging\": [[0, \"#8e0152\"], [0.1, \"#c51b7d\"], [0.2, \"#de77ae\"], [0.3, \"#f1b6da\"], [0.4, \"#fde0ef\"], [0.5, \"#f7f7f7\"], [0.6, \"#e6f5d0\"], [0.7, \"#b8e186\"], [0.8, \"#7fbc41\"], [0.9, \"#4d9221\"], [1, \"#276419\"]], \"sequential\": [[0.0, \"#0d0887\"], [0.1111111111111111, \"#46039f\"], [0.2222222222222222, \"#7201a8\"], [0.3333333333333333, \"#9c179e\"], [0.4444444444444444, \"#bd3786\"], [0.5555555555555556, \"#d8576b\"], [0.6666666666666666, \"#ed7953\"], [0.7777777777777778, \"#fb9f3a\"], [0.8888888888888888, \"#fdca26\"], [1.0, \"#f0f921\"]], \"sequentialminus\": [[0.0, \"#0d0887\"], [0.1111111111111111, \"#46039f\"], [0.2222222222222222, \"#7201a8\"], [0.3333333333333333, \"#9c179e\"], [0.4444444444444444, \"#bd3786\"], [0.5555555555555556, \"#d8576b\"], [0.6666666666666666, \"#ed7953\"], [0.7777777777777778, \"#fb9f3a\"], [0.8888888888888888, \"#fdca26\"], [1.0, \"#f0f921\"]]}, \"colorway\": [\"#636efa\", \"#EF553B\", \"#00cc96\", \"#ab63fa\", \"#FFA15A\", \"#19d3f3\", \"#FF6692\", \"#B6E880\", \"#FF97FF\", \"#FECB52\"], \"font\": {\"color\": \"#2a3f5f\"}, \"geo\": {\"bgcolor\": \"white\", \"lakecolor\": \"white\", \"landcolor\": \"#E5ECF6\", \"showlakes\": true, \"showland\": true, \"subunitcolor\": \"white\"}, \"hoverlabel\": {\"align\": \"left\"}, \"hovermode\": \"closest\", \"mapbox\": {\"style\": \"light\"}, \"paper_bgcolor\": \"white\", \"plot_bgcolor\": \"#E5ECF6\", \"polar\": {\"angularaxis\": {\"gridcolor\": \"white\", \"linecolor\": \"white\", \"ticks\": \"\"}, \"bgcolor\": \"#E5ECF6\", \"radialaxis\": {\"gridcolor\": \"white\", \"linecolor\": \"white\", \"ticks\": \"\"}}, \"scene\": {\"xaxis\": {\"backgroundcolor\": \"#E5ECF6\", \"gridcolor\": \"white\", \"gridwidth\": 2, \"linecolor\": \"white\", \"showbackground\": true, \"ticks\": \"\", \"zerolinecolor\": \"white\"}, \"yaxis\": {\"backgroundcolor\": \"#E5ECF6\", \"gridcolor\": \"white\", \"gridwidth\": 2, \"linecolor\": \"white\", \"showbackground\": true, \"ticks\": \"\", \"zerolinecolor\": \"white\"}, \"zaxis\": {\"backgroundcolor\": \"#E5ECF6\", \"gridcolor\": \"white\", \"gridwidth\": 2, \"linecolor\": \"white\", \"showbackground\": true, \"ticks\": \"\", \"zerolinecolor\": \"white\"}}, \"shapedefaults\": {\"line\": {\"color\": \"#2a3f5f\"}}, \"ternary\": {\"aaxis\": {\"gridcolor\": \"white\", \"linecolor\": \"white\", \"ticks\": \"\"}, \"baxis\": {\"gridcolor\": \"white\", \"linecolor\": \"white\", \"ticks\": \"\"}, \"bgcolor\": \"#E5ECF6\", \"caxis\": {\"gridcolor\": \"white\", \"linecolor\": \"white\", \"ticks\": \"\"}}, \"title\": {\"x\": 0.05}, \"xaxis\": {\"automargin\": true, \"gridcolor\": \"white\", \"linecolor\": \"white\", \"ticks\": \"\", \"title\": {\"standoff\": 15}, \"zerolinecolor\": \"white\", \"zerolinewidth\": 2}, \"yaxis\": {\"automargin\": true, \"gridcolor\": \"white\", \"linecolor\": \"white\", \"ticks\": \"\", \"title\": {\"standoff\": 15}, \"zerolinecolor\": \"white\", \"zerolinewidth\": 2}}}, \"title\": {\"text\": \"Number of Protests\"}, \"updatemenus\": [{\"buttons\": [{\"args\": [null, {\"frame\": {\"duration\": 500, \"redraw\": true}, \"fromcurrent\": true, \"mode\": \"immediate\", \"transition\": {\"duration\": 500, \"easing\": \"linear\"}}], \"label\": \"&#9654;\", \"method\": \"animate\"}, {\"args\": [[null], {\"frame\": {\"duration\": 0, \"redraw\": true}, \"fromcurrent\": true, \"mode\": \"immediate\", \"transition\": {\"duration\": 0, \"easing\": \"linear\"}}], \"label\": \"&#9724;\", \"method\": \"animate\"}], \"direction\": \"left\", \"pad\": {\"r\": 10, \"t\": 70}, \"showactive\": false, \"type\": \"buttons\", \"x\": 0.1, \"xanchor\": \"right\", \"y\": 0, \"yanchor\": \"top\"}]},                        {\"responsive\": true}                    ).then(function(){\n",
       "                            Plotly.addFrames('6ccb863d-926e-4fe7-a7dc-6f81c537bd61', [{\"data\": [{\"coloraxis\": \"coloraxis\", \"geo\": \"geo\", \"hovertemplate\": \"<b>%{hovertext}</b><br><br>year=2000<br>country_code=%{location}<br>protests=%{z}<extra></extra>\", \"hovertext\": [\"Algeria\", \"Bahrain\", \"Djibouti\", \"Egypt\", \"Iran\", \"Iraq\", \"Jordan\", \"Kuwait\", \"Lebanon\", \"Libya\", \"Morocco\", \"Oman\", \"Qatar\", \"Saudi Arabia\", \"Syria\", \"Tunisia\", \"United Arab Emirates\", \"Yemen\"], \"locations\": [\"DZA\", \"BHR\", \"DJI\", \"EGY\", \"IRN\", \"IRQ\", \"JOR\", \"KWT\", \"LBN\", \"LBY\", \"MAR\", \"OMN\", \"QAT\", \"SAU\", \"SYR\", \"TUN\", \"ARE\", \"YEM\"], \"name\": \"\", \"z\": [0, 1, 1, 1, 5, 0, 0, 1, 2, 0, 3, 0, 0, 0, 0, 1, 0, 0], \"type\": \"choropleth\"}], \"name\": \"2000\"}, {\"data\": [{\"coloraxis\": \"coloraxis\", \"geo\": \"geo\", \"hovertemplate\": \"<b>%{hovertext}</b><br><br>year=2001<br>country_code=%{location}<br>protests=%{z}<extra></extra>\", \"hovertext\": [\"Algeria\", \"Bahrain\", \"Djibouti\", \"Egypt\", \"Iran\", \"Iraq\", \"Jordan\", \"Kuwait\", \"Lebanon\", \"Libya\", \"Morocco\", \"Oman\", \"Qatar\", \"Saudi Arabia\", \"Syria\", \"Tunisia\", \"United Arab Emirates\", \"Yemen\"], \"locations\": [\"DZA\", \"BHR\", \"DJI\", \"EGY\", \"IRN\", \"IRQ\", \"JOR\", \"KWT\", \"LBN\", \"LBY\", \"MAR\", \"OMN\", \"QAT\", \"SAU\", \"SYR\", \"TUN\", \"ARE\", \"YEM\"], \"name\": \"\", \"z\": [6, 0, 0, 0, 5, 0, 0, 0, 1, 0, 0, 0, 1, 0, 0, 0, 0, 1], \"type\": \"choropleth\"}], \"name\": \"2001\"}, {\"data\": [{\"coloraxis\": \"coloraxis\", \"geo\": \"geo\", \"hovertemplate\": \"<b>%{hovertext}</b><br><br>year=2002<br>country_code=%{location}<br>protests=%{z}<extra></extra>\", \"hovertext\": [\"Algeria\", \"Bahrain\", \"Djibouti\", \"Egypt\", \"Iran\", \"Iraq\", \"Jordan\", \"Kuwait\", \"Lebanon\", \"Libya\", \"Morocco\", \"Oman\", \"Qatar\", \"Saudi Arabia\", \"Syria\", \"Tunisia\", \"United Arab Emirates\", \"Yemen\"], \"locations\": [\"DZA\", \"BHR\", \"DJI\", \"EGY\", \"IRN\", \"IRQ\", \"JOR\", \"KWT\", \"LBN\", \"LBY\", \"MAR\", \"OMN\", \"QAT\", \"SAU\", \"SYR\", \"TUN\", \"ARE\", \"YEM\"], \"name\": \"\", \"z\": [0, 0, 1, 3, 8, 1, 0, 0, 5, 0, 0, 0, 0, 0, 0, 0, 0, 1], \"type\": \"choropleth\"}], \"name\": \"2002\"}, {\"data\": [{\"coloraxis\": \"coloraxis\", \"geo\": \"geo\", \"hovertemplate\": \"<b>%{hovertext}</b><br><br>year=2003<br>country_code=%{location}<br>protests=%{z}<extra></extra>\", \"hovertext\": [\"Algeria\", \"Bahrain\", \"Djibouti\", \"Egypt\", \"Iran\", \"Iraq\", \"Jordan\", \"Kuwait\", \"Lebanon\", \"Libya\", \"Morocco\", \"Oman\", \"Qatar\", \"Saudi Arabia\", \"Syria\", \"Tunisia\", \"United Arab Emirates\", \"Yemen\"], \"locations\": [\"DZA\", \"BHR\", \"DJI\", \"EGY\", \"IRN\", \"IRQ\", \"JOR\", \"KWT\", \"LBN\", \"LBY\", \"MAR\", \"OMN\", \"QAT\", \"SAU\", \"SYR\", \"TUN\", \"ARE\", \"YEM\"], \"name\": \"\", \"z\": [0, 1, 0, 0, 2, 8, 0, 0, 0, 0, 0, 0, 0, 3, 0, 0, 0, 1], \"type\": \"choropleth\"}], \"name\": \"2003\"}, {\"data\": [{\"coloraxis\": \"coloraxis\", \"geo\": \"geo\", \"hovertemplate\": \"<b>%{hovertext}</b><br><br>year=2004<br>country_code=%{location}<br>protests=%{z}<extra></extra>\", \"hovertext\": [\"Algeria\", \"Bahrain\", \"Djibouti\", \"Egypt\", \"Iran\", \"Iraq\", \"Jordan\", \"Kuwait\", \"Lebanon\", \"Libya\", \"Morocco\", \"Oman\", \"Qatar\", \"Saudi Arabia\", \"Syria\", \"Tunisia\", \"United Arab Emirates\", \"Yemen\"], \"locations\": [\"DZA\", \"BHR\", \"DJI\", \"EGY\", \"IRN\", \"IRQ\", \"JOR\", \"KWT\", \"LBN\", \"LBY\", \"MAR\", \"OMN\", \"QAT\", \"SAU\", \"SYR\", \"TUN\", \"ARE\", \"YEM\"], \"name\": \"\", \"z\": [0, 0, 0, 3, 0, 7, 0, 0, 1, 0, 0, 0, 0, 1, 3, 0, 0, 1], \"type\": \"choropleth\"}], \"name\": \"2004\"}, {\"data\": [{\"coloraxis\": \"coloraxis\", \"geo\": \"geo\", \"hovertemplate\": \"<b>%{hovertext}</b><br><br>year=2005<br>country_code=%{location}<br>protests=%{z}<extra></extra>\", \"hovertext\": [\"Algeria\", \"Bahrain\", \"Djibouti\", \"Egypt\", \"Iran\", \"Iraq\", \"Jordan\", \"Kuwait\", \"Lebanon\", \"Libya\", \"Morocco\", \"Oman\", \"Qatar\", \"Saudi Arabia\", \"Syria\", \"Tunisia\", \"United Arab Emirates\", \"Yemen\"], \"locations\": [\"DZA\", \"BHR\", \"DJI\", \"EGY\", \"IRN\", \"IRQ\", \"JOR\", \"KWT\", \"LBN\", \"LBY\", \"MAR\", \"OMN\", \"QAT\", \"SAU\", \"SYR\", \"TUN\", \"ARE\", \"YEM\"], \"name\": \"\", \"z\": [0, 2, 2, 6, 3, 14, 0, 1, 7, 0, 0, 0, 0, 0, 0, 0, 1, 3], \"type\": \"choropleth\"}], \"name\": \"2005\"}, {\"data\": [{\"coloraxis\": \"coloraxis\", \"geo\": \"geo\", \"hovertemplate\": \"<b>%{hovertext}</b><br><br>year=2006<br>country_code=%{location}<br>protests=%{z}<extra></extra>\", \"hovertext\": [\"Algeria\", \"Bahrain\", \"Djibouti\", \"Egypt\", \"Iran\", \"Iraq\", \"Jordan\", \"Kuwait\", \"Lebanon\", \"Libya\", \"Morocco\", \"Oman\", \"Qatar\", \"Saudi Arabia\", \"Syria\", \"Tunisia\", \"United Arab Emirates\", \"Yemen\"], \"locations\": [\"DZA\", \"BHR\", \"DJI\", \"EGY\", \"IRN\", \"IRQ\", \"JOR\", \"KWT\", \"LBN\", \"LBY\", \"MAR\", \"OMN\", \"QAT\", \"SAU\", \"SYR\", \"TUN\", \"ARE\", \"YEM\"], \"name\": \"\", \"z\": [0, 0, 0, 3, 5, 2, 0, 1, 6, 0, 0, 0, 0, 0, 0, 0, 1, 0], \"type\": \"choropleth\"}], \"name\": \"2006\"}, {\"data\": [{\"coloraxis\": \"coloraxis\", \"geo\": \"geo\", \"hovertemplate\": \"<b>%{hovertext}</b><br><br>year=2007<br>country_code=%{location}<br>protests=%{z}<extra></extra>\", \"hovertext\": [\"Algeria\", \"Bahrain\", \"Djibouti\", \"Egypt\", \"Iran\", \"Iraq\", \"Jordan\", \"Kuwait\", \"Lebanon\", \"Libya\", \"Morocco\", \"Oman\", \"Qatar\", \"Saudi Arabia\", \"Syria\", \"Tunisia\", \"United Arab Emirates\", \"Yemen\"], \"locations\": [\"DZA\", \"BHR\", \"DJI\", \"EGY\", \"IRN\", \"IRQ\", \"JOR\", \"KWT\", \"LBN\", \"LBY\", \"MAR\", \"OMN\", \"QAT\", \"SAU\", \"SYR\", \"TUN\", \"ARE\", \"YEM\"], \"name\": \"\", \"z\": [0, 3, 0, 0, 7, 4, 0, 0, 2, 0, 0, 0, 0, 0, 0, 0, 1, 1], \"type\": \"choropleth\"}], \"name\": \"2007\"}, {\"data\": [{\"coloraxis\": \"coloraxis\", \"geo\": \"geo\", \"hovertemplate\": \"<b>%{hovertext}</b><br><br>year=2008<br>country_code=%{location}<br>protests=%{z}<extra></extra>\", \"hovertext\": [\"Algeria\", \"Bahrain\", \"Djibouti\", \"Egypt\", \"Iran\", \"Iraq\", \"Jordan\", \"Kuwait\", \"Lebanon\", \"Libya\", \"Morocco\", \"Oman\", \"Qatar\", \"Saudi Arabia\", \"Syria\", \"Tunisia\", \"United Arab Emirates\", \"Yemen\"], \"locations\": [\"DZA\", \"BHR\", \"DJI\", \"EGY\", \"IRN\", \"IRQ\", \"JOR\", \"KWT\", \"LBN\", \"LBY\", \"MAR\", \"OMN\", \"QAT\", \"SAU\", \"SYR\", \"TUN\", \"ARE\", \"YEM\"], \"name\": \"\", \"z\": [0, 0, 0, 4, 1, 10, 0, 2, 4, 0, 0, 0, 0, 2, 0, 0, 0, 6], \"type\": \"choropleth\"}], \"name\": \"2008\"}, {\"data\": [{\"coloraxis\": \"coloraxis\", \"geo\": \"geo\", \"hovertemplate\": \"<b>%{hovertext}</b><br><br>year=2009<br>country_code=%{location}<br>protests=%{z}<extra></extra>\", \"hovertext\": [\"Algeria\", \"Bahrain\", \"Djibouti\", \"Egypt\", \"Iran\", \"Iraq\", \"Jordan\", \"Kuwait\", \"Lebanon\", \"Libya\", \"Morocco\", \"Oman\", \"Qatar\", \"Saudi Arabia\", \"Syria\", \"Tunisia\", \"United Arab Emirates\", \"Yemen\"], \"locations\": [\"DZA\", \"BHR\", \"DJI\", \"EGY\", \"IRN\", \"IRQ\", \"JOR\", \"KWT\", \"LBN\", \"LBY\", \"MAR\", \"OMN\", \"QAT\", \"SAU\", \"SYR\", \"TUN\", \"ARE\", \"YEM\"], \"name\": \"\", \"z\": [1, 0, 0, 0, 21, 4, 0, 0, 0, 0, 0, 0, 0, 0, 0, 0, 0, 14], \"type\": \"choropleth\"}], \"name\": \"2009\"}, {\"data\": [{\"coloraxis\": \"coloraxis\", \"geo\": \"geo\", \"hovertemplate\": \"<b>%{hovertext}</b><br><br>year=2010<br>country_code=%{location}<br>protests=%{z}<extra></extra>\", \"hovertext\": [\"Algeria\", \"Bahrain\", \"Djibouti\", \"Egypt\", \"Iran\", \"Iraq\", \"Jordan\", \"Kuwait\", \"Lebanon\", \"Libya\", \"Morocco\", \"Oman\", \"Qatar\", \"Saudi Arabia\", \"Syria\", \"Tunisia\", \"United Arab Emirates\", \"Yemen\"], \"locations\": [\"DZA\", \"BHR\", \"DJI\", \"EGY\", \"IRN\", \"IRQ\", \"JOR\", \"KWT\", \"LBN\", \"LBY\", \"MAR\", \"OMN\", \"QAT\", \"SAU\", \"SYR\", \"TUN\", \"ARE\", \"YEM\"], \"name\": \"\", \"z\": [0, 0, 0, 3, 3, 7, 4, 1, 0, 0, 1, 0, 0, 0, 0, 4, 0, 6], \"type\": \"choropleth\"}], \"name\": \"2010\"}, {\"data\": [{\"coloraxis\": \"coloraxis\", \"geo\": \"geo\", \"hovertemplate\": \"<b>%{hovertext}</b><br><br>year=2011<br>country_code=%{location}<br>protests=%{z}<extra></extra>\", \"hovertext\": [\"Algeria\", \"Bahrain\", \"Djibouti\", \"Egypt\", \"Iran\", \"Iraq\", \"Jordan\", \"Kuwait\", \"Lebanon\", \"Libya\", \"Morocco\", \"Oman\", \"Qatar\", \"Saudi Arabia\", \"Syria\", \"Tunisia\", \"United Arab Emirates\", \"Yemen\"], \"locations\": [\"DZA\", \"BHR\", \"DJI\", \"EGY\", \"IRN\", \"IRQ\", \"JOR\", \"KWT\", \"LBN\", \"LBY\", \"MAR\", \"OMN\", \"QAT\", \"SAU\", \"SYR\", \"TUN\", \"ARE\", \"YEM\"], \"name\": \"\", \"z\": [1, 8, 1, 20, 5, 11, 15, 4, 4, 7, 6, 21, 0, 7, 3, 6, 0, 58], \"type\": \"choropleth\"}], \"name\": \"2011\"}, {\"data\": [{\"coloraxis\": \"coloraxis\", \"geo\": \"geo\", \"hovertemplate\": \"<b>%{hovertext}</b><br><br>year=2012<br>country_code=%{location}<br>protests=%{z}<extra></extra>\", \"hovertext\": [\"Algeria\", \"Bahrain\", \"Djibouti\", \"Egypt\", \"Iran\", \"Iraq\", \"Jordan\", \"Kuwait\", \"Lebanon\", \"Libya\", \"Morocco\", \"Oman\", \"Qatar\", \"Saudi Arabia\", \"Syria\", \"Tunisia\", \"United Arab Emirates\", \"Yemen\"], \"locations\": [\"DZA\", \"BHR\", \"DJI\", \"EGY\", \"IRN\", \"IRQ\", \"JOR\", \"KWT\", \"LBN\", \"LBY\", \"MAR\", \"OMN\", \"QAT\", \"SAU\", \"SYR\", \"TUN\", \"ARE\", \"YEM\"], \"name\": \"\", \"z\": [0, 9, 0, 14, 1, 2, 8, 11, 1, 5, 0, 2, 0, 3, 0, 3, 0, 4], \"type\": \"choropleth\"}], \"name\": \"2012\"}, {\"data\": [{\"coloraxis\": \"coloraxis\", \"geo\": \"geo\", \"hovertemplate\": \"<b>%{hovertext}</b><br><br>year=2013<br>country_code=%{location}<br>protests=%{z}<extra></extra>\", \"hovertext\": [\"Algeria\", \"Bahrain\", \"Djibouti\", \"Egypt\", \"Iran\", \"Iraq\", \"Jordan\", \"Kuwait\", \"Lebanon\", \"Libya\", \"Morocco\", \"Oman\", \"Qatar\", \"Saudi Arabia\", \"Syria\", \"Tunisia\", \"United Arab Emirates\", \"Yemen\"], \"locations\": [\"DZA\", \"BHR\", \"DJI\", \"EGY\", \"IRN\", \"IRQ\", \"JOR\", \"KWT\", \"LBN\", \"LBY\", \"MAR\", \"OMN\", \"QAT\", \"SAU\", \"SYR\", \"TUN\", \"ARE\", \"YEM\"], \"name\": \"\", \"z\": [2, 4, 1, 22, 2, 10, 2, 5, 1, 1, 3, 2, 0, 2, 0, 5, 0, 3], \"type\": \"choropleth\"}], \"name\": \"2013\"}, {\"data\": [{\"coloraxis\": \"coloraxis\", \"geo\": \"geo\", \"hovertemplate\": \"<b>%{hovertext}</b><br><br>year=2014<br>country_code=%{location}<br>protests=%{z}<extra></extra>\", \"hovertext\": [\"Algeria\", \"Bahrain\", \"Djibouti\", \"Egypt\", \"Iran\", \"Iraq\", \"Jordan\", \"Kuwait\", \"Lebanon\", \"Libya\", \"Morocco\", \"Oman\", \"Qatar\", \"Saudi Arabia\", \"Syria\", \"Tunisia\", \"United Arab Emirates\", \"Yemen\"], \"locations\": [\"DZA\", \"BHR\", \"DJI\", \"EGY\", \"IRN\", \"IRQ\", \"JOR\", \"KWT\", \"LBN\", \"LBY\", \"MAR\", \"OMN\", \"QAT\", \"SAU\", \"SYR\", \"TUN\", \"ARE\", \"YEM\"], \"name\": \"\", \"z\": [11, 8, 0, 18, 4, 1, 4, 5, 4, 4, 3, 0, 0, 0, 4, 2, 0, 33], \"type\": \"choropleth\"}], \"name\": \"2014\"}, {\"data\": [{\"coloraxis\": \"coloraxis\", \"geo\": \"geo\", \"hovertemplate\": \"<b>%{hovertext}</b><br><br>year=2015<br>country_code=%{location}<br>protests=%{z}<extra></extra>\", \"hovertext\": [\"Algeria\", \"Bahrain\", \"Djibouti\", \"Egypt\", \"Iran\", \"Iraq\", \"Jordan\", \"Kuwait\", \"Lebanon\", \"Libya\", \"Morocco\", \"Oman\", \"Qatar\", \"Saudi Arabia\", \"Syria\", \"Tunisia\", \"United Arab Emirates\", \"Yemen\"], \"locations\": [\"DZA\", \"BHR\", \"DJI\", \"EGY\", \"IRN\", \"IRQ\", \"JOR\", \"KWT\", \"LBN\", \"LBY\", \"MAR\", \"OMN\", \"QAT\", \"SAU\", \"SYR\", \"TUN\", \"ARE\", \"YEM\"], \"name\": \"\", \"z\": [3, 2, 0, 5, 4, 7, 2, 0, 7, 3, 1, 0, 0, 0, 1, 1, 0, 11], \"type\": \"choropleth\"}], \"name\": \"2015\"}, {\"data\": [{\"coloraxis\": \"coloraxis\", \"geo\": \"geo\", \"hovertemplate\": \"<b>%{hovertext}</b><br><br>year=2016<br>country_code=%{location}<br>protests=%{z}<extra></extra>\", \"hovertext\": [\"Algeria\", \"Bahrain\", \"Djibouti\", \"Egypt\", \"Iran\", \"Iraq\", \"Jordan\", \"Kuwait\", \"Lebanon\", \"Libya\", \"Morocco\", \"Oman\", \"Qatar\", \"Saudi Arabia\", \"Syria\", \"Tunisia\", \"United Arab Emirates\", \"Yemen\"], \"locations\": [\"DZA\", \"BHR\", \"DJI\", \"EGY\", \"IRN\", \"IRQ\", \"JOR\", \"KWT\", \"LBN\", \"LBY\", \"MAR\", \"OMN\", \"QAT\", \"SAU\", \"SYR\", \"TUN\", \"ARE\", \"YEM\"], \"name\": \"\", \"z\": [0, 1, 0, 6, 4, 6, 3, 1, 0, 0, 1, 0, 0, 1, 2, 2, 0, 1], \"type\": \"choropleth\"}], \"name\": \"2016\"}, {\"data\": [{\"coloraxis\": \"coloraxis\", \"geo\": \"geo\", \"hovertemplate\": \"<b>%{hovertext}</b><br><br>year=2017<br>country_code=%{location}<br>protests=%{z}<extra></extra>\", \"hovertext\": [\"Algeria\", \"Bahrain\", \"Djibouti\", \"Egypt\", \"Iran\", \"Iraq\", \"Jordan\", \"Kuwait\", \"Lebanon\", \"Libya\", \"Morocco\", \"Oman\", \"Qatar\", \"Saudi Arabia\", \"Syria\", \"Tunisia\", \"United Arab Emirates\", \"Yemen\"], \"locations\": [\"DZA\", \"BHR\", \"DJI\", \"EGY\", \"IRN\", \"IRQ\", \"JOR\", \"KWT\", \"LBN\", \"LBY\", \"MAR\", \"OMN\", \"QAT\", \"SAU\", \"SYR\", \"TUN\", \"ARE\", \"YEM\"], \"name\": \"\", \"z\": [2, 2, 0, 3, 6, 3, 1, 0, 1, 0, 5, 0, 0, 1, 1, 5, 0, 0], \"type\": \"choropleth\"}], \"name\": \"2017\"}, {\"data\": [{\"coloraxis\": \"coloraxis\", \"geo\": \"geo\", \"hovertemplate\": \"<b>%{hovertext}</b><br><br>year=2018<br>country_code=%{location}<br>protests=%{z}<extra></extra>\", \"hovertext\": [\"Algeria\", \"Bahrain\", \"Djibouti\", \"Egypt\", \"Iran\", \"Iraq\", \"Jordan\", \"Kuwait\", \"Lebanon\", \"Libya\", \"Morocco\", \"Oman\", \"Qatar\", \"Saudi Arabia\", \"Syria\", \"Tunisia\", \"United Arab Emirates\", \"Yemen\"], \"locations\": [\"DZA\", \"BHR\", \"DJI\", \"EGY\", \"IRN\", \"IRQ\", \"JOR\", \"KWT\", \"LBN\", \"LBY\", \"MAR\", \"OMN\", \"QAT\", \"SAU\", \"SYR\", \"TUN\", \"ARE\", \"YEM\"], \"name\": \"\", \"z\": [0, 0, 0, 0, 9, 3, 1, 3, 1, 0, 6, 1, 0, 0, 0, 10, 0, 0], \"type\": \"choropleth\"}], \"name\": \"2018\"}, {\"data\": [{\"coloraxis\": \"coloraxis\", \"geo\": \"geo\", \"hovertemplate\": \"<b>%{hovertext}</b><br><br>year=2019<br>country_code=%{location}<br>protests=%{z}<extra></extra>\", \"hovertext\": [\"Algeria\", \"Bahrain\", \"Djibouti\", \"Egypt\", \"Iran\", \"Iraq\", \"Jordan\", \"Kuwait\", \"Lebanon\", \"Libya\", \"Morocco\", \"Oman\", \"Qatar\", \"Saudi Arabia\", \"Syria\", \"Tunisia\", \"United Arab Emirates\", \"Yemen\"], \"locations\": [\"DZA\", \"BHR\", \"DJI\", \"EGY\", \"IRN\", \"IRQ\", \"JOR\", \"KWT\", \"LBN\", \"LBY\", \"MAR\", \"OMN\", \"QAT\", \"SAU\", \"SYR\", \"TUN\", \"ARE\", \"YEM\"], \"name\": \"\", \"z\": [19, 0, 0, 0, 0, 1, 0, 0, 0, 1, 2, 0, 0, 0, 1, 3, 0, 0], \"type\": \"choropleth\"}], \"name\": \"2019\"}]);\n",
       "                        }).then(function(){\n",
       "                            \n",
       "var gd = document.getElementById('6ccb863d-926e-4fe7-a7dc-6f81c537bd61');\n",
       "var x = new MutationObserver(function (mutations, observer) {{\n",
       "        var display = window.getComputedStyle(gd).display;\n",
       "        if (!display || display === 'none') {{\n",
       "            console.log([gd, 'removed!']);\n",
       "            Plotly.purge(gd);\n",
       "            observer.disconnect();\n",
       "        }}\n",
       "}});\n",
       "\n",
       "// Listen for the removal of the full notebook cells\n",
       "var notebookContainer = gd.closest('#notebook-container');\n",
       "if (notebookContainer) {{\n",
       "    x.observe(notebookContainer, {childList: true});\n",
       "}}\n",
       "\n",
       "// Listen for the clearing of the current output cell\n",
       "var outputEl = gd.closest('.output');\n",
       "if (outputEl) {{\n",
       "    x.observe(outputEl, {childList: true});\n",
       "}}\n",
       "\n",
       "                        })                };                });            </script>        </div>"
      ]
     },
     "metadata": {},
     "output_type": "display_data"
    }
   ],
   "source": [
    "# Set Layout\n",
    "\n",
    "fig.update_layout(\n",
    "    title_text=\"Number of Protests\",\n",
    "    margin={'r':0,'t':0,'l':0,'b':0},\n",
    "    coloraxis_colorbar={\n",
    "        'title':'Protests'      \n",
    "    }\n",
    ")"
   ]
  },
  {
   "cell_type": "code",
   "execution_count": 77,
   "metadata": {},
   "outputs": [
    {
     "data": {
      "application/vnd.plotly.v1+json": {
       "config": {
        "plotlyServerURL": "https://plotly.com"
       },
       "data": [
        {
         "coloraxis": "coloraxis",
         "geo": "geo",
         "hovertemplate": "<b>%{hovertext}</b><br><br>year=2000<br>country_code=%{location}<br>protests=%{z}<extra></extra>",
         "hovertext": [
          "Algeria",
          "Bahrain",
          "Djibouti",
          "Egypt",
          "Iran",
          "Iraq",
          "Jordan",
          "Kuwait",
          "Lebanon",
          "Libya",
          "Morocco",
          "Oman",
          "Qatar",
          "Saudi Arabia",
          "Syria",
          "Tunisia",
          "United Arab Emirates",
          "Yemen"
         ],
         "locations": [
          "DZA",
          "BHR",
          "DJI",
          "EGY",
          "IRN",
          "IRQ",
          "JOR",
          "KWT",
          "LBN",
          "LBY",
          "MAR",
          "OMN",
          "QAT",
          "SAU",
          "SYR",
          "TUN",
          "ARE",
          "YEM"
         ],
         "name": "",
         "type": "choropleth",
         "z": [
          0,
          1,
          1,
          1,
          5,
          0,
          0,
          1,
          2,
          0,
          3,
          0,
          0,
          0,
          0,
          1,
          0,
          0
         ]
        }
       ],
       "frames": [
        {
         "data": [
          {
           "coloraxis": "coloraxis",
           "geo": "geo",
           "hovertemplate": "<b>%{hovertext}</b><br><br>year=2000<br>country_code=%{location}<br>protests=%{z}<extra></extra>",
           "hovertext": [
            "Algeria",
            "Bahrain",
            "Djibouti",
            "Egypt",
            "Iran",
            "Iraq",
            "Jordan",
            "Kuwait",
            "Lebanon",
            "Libya",
            "Morocco",
            "Oman",
            "Qatar",
            "Saudi Arabia",
            "Syria",
            "Tunisia",
            "United Arab Emirates",
            "Yemen"
           ],
           "locations": [
            "DZA",
            "BHR",
            "DJI",
            "EGY",
            "IRN",
            "IRQ",
            "JOR",
            "KWT",
            "LBN",
            "LBY",
            "MAR",
            "OMN",
            "QAT",
            "SAU",
            "SYR",
            "TUN",
            "ARE",
            "YEM"
           ],
           "name": "",
           "type": "choropleth",
           "z": [
            0,
            1,
            1,
            1,
            5,
            0,
            0,
            1,
            2,
            0,
            3,
            0,
            0,
            0,
            0,
            1,
            0,
            0
           ]
          }
         ],
         "name": "2000"
        },
        {
         "data": [
          {
           "coloraxis": "coloraxis",
           "geo": "geo",
           "hovertemplate": "<b>%{hovertext}</b><br><br>year=2001<br>country_code=%{location}<br>protests=%{z}<extra></extra>",
           "hovertext": [
            "Algeria",
            "Bahrain",
            "Djibouti",
            "Egypt",
            "Iran",
            "Iraq",
            "Jordan",
            "Kuwait",
            "Lebanon",
            "Libya",
            "Morocco",
            "Oman",
            "Qatar",
            "Saudi Arabia",
            "Syria",
            "Tunisia",
            "United Arab Emirates",
            "Yemen"
           ],
           "locations": [
            "DZA",
            "BHR",
            "DJI",
            "EGY",
            "IRN",
            "IRQ",
            "JOR",
            "KWT",
            "LBN",
            "LBY",
            "MAR",
            "OMN",
            "QAT",
            "SAU",
            "SYR",
            "TUN",
            "ARE",
            "YEM"
           ],
           "name": "",
           "type": "choropleth",
           "z": [
            6,
            0,
            0,
            0,
            5,
            0,
            0,
            0,
            1,
            0,
            0,
            0,
            1,
            0,
            0,
            0,
            0,
            1
           ]
          }
         ],
         "name": "2001"
        },
        {
         "data": [
          {
           "coloraxis": "coloraxis",
           "geo": "geo",
           "hovertemplate": "<b>%{hovertext}</b><br><br>year=2002<br>country_code=%{location}<br>protests=%{z}<extra></extra>",
           "hovertext": [
            "Algeria",
            "Bahrain",
            "Djibouti",
            "Egypt",
            "Iran",
            "Iraq",
            "Jordan",
            "Kuwait",
            "Lebanon",
            "Libya",
            "Morocco",
            "Oman",
            "Qatar",
            "Saudi Arabia",
            "Syria",
            "Tunisia",
            "United Arab Emirates",
            "Yemen"
           ],
           "locations": [
            "DZA",
            "BHR",
            "DJI",
            "EGY",
            "IRN",
            "IRQ",
            "JOR",
            "KWT",
            "LBN",
            "LBY",
            "MAR",
            "OMN",
            "QAT",
            "SAU",
            "SYR",
            "TUN",
            "ARE",
            "YEM"
           ],
           "name": "",
           "type": "choropleth",
           "z": [
            0,
            0,
            1,
            3,
            8,
            1,
            0,
            0,
            5,
            0,
            0,
            0,
            0,
            0,
            0,
            0,
            0,
            1
           ]
          }
         ],
         "name": "2002"
        },
        {
         "data": [
          {
           "coloraxis": "coloraxis",
           "geo": "geo",
           "hovertemplate": "<b>%{hovertext}</b><br><br>year=2003<br>country_code=%{location}<br>protests=%{z}<extra></extra>",
           "hovertext": [
            "Algeria",
            "Bahrain",
            "Djibouti",
            "Egypt",
            "Iran",
            "Iraq",
            "Jordan",
            "Kuwait",
            "Lebanon",
            "Libya",
            "Morocco",
            "Oman",
            "Qatar",
            "Saudi Arabia",
            "Syria",
            "Tunisia",
            "United Arab Emirates",
            "Yemen"
           ],
           "locations": [
            "DZA",
            "BHR",
            "DJI",
            "EGY",
            "IRN",
            "IRQ",
            "JOR",
            "KWT",
            "LBN",
            "LBY",
            "MAR",
            "OMN",
            "QAT",
            "SAU",
            "SYR",
            "TUN",
            "ARE",
            "YEM"
           ],
           "name": "",
           "type": "choropleth",
           "z": [
            0,
            1,
            0,
            0,
            2,
            8,
            0,
            0,
            0,
            0,
            0,
            0,
            0,
            3,
            0,
            0,
            0,
            1
           ]
          }
         ],
         "name": "2003"
        },
        {
         "data": [
          {
           "coloraxis": "coloraxis",
           "geo": "geo",
           "hovertemplate": "<b>%{hovertext}</b><br><br>year=2004<br>country_code=%{location}<br>protests=%{z}<extra></extra>",
           "hovertext": [
            "Algeria",
            "Bahrain",
            "Djibouti",
            "Egypt",
            "Iran",
            "Iraq",
            "Jordan",
            "Kuwait",
            "Lebanon",
            "Libya",
            "Morocco",
            "Oman",
            "Qatar",
            "Saudi Arabia",
            "Syria",
            "Tunisia",
            "United Arab Emirates",
            "Yemen"
           ],
           "locations": [
            "DZA",
            "BHR",
            "DJI",
            "EGY",
            "IRN",
            "IRQ",
            "JOR",
            "KWT",
            "LBN",
            "LBY",
            "MAR",
            "OMN",
            "QAT",
            "SAU",
            "SYR",
            "TUN",
            "ARE",
            "YEM"
           ],
           "name": "",
           "type": "choropleth",
           "z": [
            0,
            0,
            0,
            3,
            0,
            7,
            0,
            0,
            1,
            0,
            0,
            0,
            0,
            1,
            3,
            0,
            0,
            1
           ]
          }
         ],
         "name": "2004"
        },
        {
         "data": [
          {
           "coloraxis": "coloraxis",
           "geo": "geo",
           "hovertemplate": "<b>%{hovertext}</b><br><br>year=2005<br>country_code=%{location}<br>protests=%{z}<extra></extra>",
           "hovertext": [
            "Algeria",
            "Bahrain",
            "Djibouti",
            "Egypt",
            "Iran",
            "Iraq",
            "Jordan",
            "Kuwait",
            "Lebanon",
            "Libya",
            "Morocco",
            "Oman",
            "Qatar",
            "Saudi Arabia",
            "Syria",
            "Tunisia",
            "United Arab Emirates",
            "Yemen"
           ],
           "locations": [
            "DZA",
            "BHR",
            "DJI",
            "EGY",
            "IRN",
            "IRQ",
            "JOR",
            "KWT",
            "LBN",
            "LBY",
            "MAR",
            "OMN",
            "QAT",
            "SAU",
            "SYR",
            "TUN",
            "ARE",
            "YEM"
           ],
           "name": "",
           "type": "choropleth",
           "z": [
            0,
            2,
            2,
            6,
            3,
            14,
            0,
            1,
            7,
            0,
            0,
            0,
            0,
            0,
            0,
            0,
            1,
            3
           ]
          }
         ],
         "name": "2005"
        },
        {
         "data": [
          {
           "coloraxis": "coloraxis",
           "geo": "geo",
           "hovertemplate": "<b>%{hovertext}</b><br><br>year=2006<br>country_code=%{location}<br>protests=%{z}<extra></extra>",
           "hovertext": [
            "Algeria",
            "Bahrain",
            "Djibouti",
            "Egypt",
            "Iran",
            "Iraq",
            "Jordan",
            "Kuwait",
            "Lebanon",
            "Libya",
            "Morocco",
            "Oman",
            "Qatar",
            "Saudi Arabia",
            "Syria",
            "Tunisia",
            "United Arab Emirates",
            "Yemen"
           ],
           "locations": [
            "DZA",
            "BHR",
            "DJI",
            "EGY",
            "IRN",
            "IRQ",
            "JOR",
            "KWT",
            "LBN",
            "LBY",
            "MAR",
            "OMN",
            "QAT",
            "SAU",
            "SYR",
            "TUN",
            "ARE",
            "YEM"
           ],
           "name": "",
           "type": "choropleth",
           "z": [
            0,
            0,
            0,
            3,
            5,
            2,
            0,
            1,
            6,
            0,
            0,
            0,
            0,
            0,
            0,
            0,
            1,
            0
           ]
          }
         ],
         "name": "2006"
        },
        {
         "data": [
          {
           "coloraxis": "coloraxis",
           "geo": "geo",
           "hovertemplate": "<b>%{hovertext}</b><br><br>year=2007<br>country_code=%{location}<br>protests=%{z}<extra></extra>",
           "hovertext": [
            "Algeria",
            "Bahrain",
            "Djibouti",
            "Egypt",
            "Iran",
            "Iraq",
            "Jordan",
            "Kuwait",
            "Lebanon",
            "Libya",
            "Morocco",
            "Oman",
            "Qatar",
            "Saudi Arabia",
            "Syria",
            "Tunisia",
            "United Arab Emirates",
            "Yemen"
           ],
           "locations": [
            "DZA",
            "BHR",
            "DJI",
            "EGY",
            "IRN",
            "IRQ",
            "JOR",
            "KWT",
            "LBN",
            "LBY",
            "MAR",
            "OMN",
            "QAT",
            "SAU",
            "SYR",
            "TUN",
            "ARE",
            "YEM"
           ],
           "name": "",
           "type": "choropleth",
           "z": [
            0,
            3,
            0,
            0,
            7,
            4,
            0,
            0,
            2,
            0,
            0,
            0,
            0,
            0,
            0,
            0,
            1,
            1
           ]
          }
         ],
         "name": "2007"
        },
        {
         "data": [
          {
           "coloraxis": "coloraxis",
           "geo": "geo",
           "hovertemplate": "<b>%{hovertext}</b><br><br>year=2008<br>country_code=%{location}<br>protests=%{z}<extra></extra>",
           "hovertext": [
            "Algeria",
            "Bahrain",
            "Djibouti",
            "Egypt",
            "Iran",
            "Iraq",
            "Jordan",
            "Kuwait",
            "Lebanon",
            "Libya",
            "Morocco",
            "Oman",
            "Qatar",
            "Saudi Arabia",
            "Syria",
            "Tunisia",
            "United Arab Emirates",
            "Yemen"
           ],
           "locations": [
            "DZA",
            "BHR",
            "DJI",
            "EGY",
            "IRN",
            "IRQ",
            "JOR",
            "KWT",
            "LBN",
            "LBY",
            "MAR",
            "OMN",
            "QAT",
            "SAU",
            "SYR",
            "TUN",
            "ARE",
            "YEM"
           ],
           "name": "",
           "type": "choropleth",
           "z": [
            0,
            0,
            0,
            4,
            1,
            10,
            0,
            2,
            4,
            0,
            0,
            0,
            0,
            2,
            0,
            0,
            0,
            6
           ]
          }
         ],
         "name": "2008"
        },
        {
         "data": [
          {
           "coloraxis": "coloraxis",
           "geo": "geo",
           "hovertemplate": "<b>%{hovertext}</b><br><br>year=2009<br>country_code=%{location}<br>protests=%{z}<extra></extra>",
           "hovertext": [
            "Algeria",
            "Bahrain",
            "Djibouti",
            "Egypt",
            "Iran",
            "Iraq",
            "Jordan",
            "Kuwait",
            "Lebanon",
            "Libya",
            "Morocco",
            "Oman",
            "Qatar",
            "Saudi Arabia",
            "Syria",
            "Tunisia",
            "United Arab Emirates",
            "Yemen"
           ],
           "locations": [
            "DZA",
            "BHR",
            "DJI",
            "EGY",
            "IRN",
            "IRQ",
            "JOR",
            "KWT",
            "LBN",
            "LBY",
            "MAR",
            "OMN",
            "QAT",
            "SAU",
            "SYR",
            "TUN",
            "ARE",
            "YEM"
           ],
           "name": "",
           "type": "choropleth",
           "z": [
            1,
            0,
            0,
            0,
            21,
            4,
            0,
            0,
            0,
            0,
            0,
            0,
            0,
            0,
            0,
            0,
            0,
            14
           ]
          }
         ],
         "name": "2009"
        },
        {
         "data": [
          {
           "coloraxis": "coloraxis",
           "geo": "geo",
           "hovertemplate": "<b>%{hovertext}</b><br><br>year=2010<br>country_code=%{location}<br>protests=%{z}<extra></extra>",
           "hovertext": [
            "Algeria",
            "Bahrain",
            "Djibouti",
            "Egypt",
            "Iran",
            "Iraq",
            "Jordan",
            "Kuwait",
            "Lebanon",
            "Libya",
            "Morocco",
            "Oman",
            "Qatar",
            "Saudi Arabia",
            "Syria",
            "Tunisia",
            "United Arab Emirates",
            "Yemen"
           ],
           "locations": [
            "DZA",
            "BHR",
            "DJI",
            "EGY",
            "IRN",
            "IRQ",
            "JOR",
            "KWT",
            "LBN",
            "LBY",
            "MAR",
            "OMN",
            "QAT",
            "SAU",
            "SYR",
            "TUN",
            "ARE",
            "YEM"
           ],
           "name": "",
           "type": "choropleth",
           "z": [
            0,
            0,
            0,
            3,
            3,
            7,
            4,
            1,
            0,
            0,
            1,
            0,
            0,
            0,
            0,
            4,
            0,
            6
           ]
          }
         ],
         "name": "2010"
        },
        {
         "data": [
          {
           "coloraxis": "coloraxis",
           "geo": "geo",
           "hovertemplate": "<b>%{hovertext}</b><br><br>year=2011<br>country_code=%{location}<br>protests=%{z}<extra></extra>",
           "hovertext": [
            "Algeria",
            "Bahrain",
            "Djibouti",
            "Egypt",
            "Iran",
            "Iraq",
            "Jordan",
            "Kuwait",
            "Lebanon",
            "Libya",
            "Morocco",
            "Oman",
            "Qatar",
            "Saudi Arabia",
            "Syria",
            "Tunisia",
            "United Arab Emirates",
            "Yemen"
           ],
           "locations": [
            "DZA",
            "BHR",
            "DJI",
            "EGY",
            "IRN",
            "IRQ",
            "JOR",
            "KWT",
            "LBN",
            "LBY",
            "MAR",
            "OMN",
            "QAT",
            "SAU",
            "SYR",
            "TUN",
            "ARE",
            "YEM"
           ],
           "name": "",
           "type": "choropleth",
           "z": [
            1,
            8,
            1,
            20,
            5,
            11,
            15,
            4,
            4,
            7,
            6,
            21,
            0,
            7,
            3,
            6,
            0,
            58
           ]
          }
         ],
         "name": "2011"
        },
        {
         "data": [
          {
           "coloraxis": "coloraxis",
           "geo": "geo",
           "hovertemplate": "<b>%{hovertext}</b><br><br>year=2012<br>country_code=%{location}<br>protests=%{z}<extra></extra>",
           "hovertext": [
            "Algeria",
            "Bahrain",
            "Djibouti",
            "Egypt",
            "Iran",
            "Iraq",
            "Jordan",
            "Kuwait",
            "Lebanon",
            "Libya",
            "Morocco",
            "Oman",
            "Qatar",
            "Saudi Arabia",
            "Syria",
            "Tunisia",
            "United Arab Emirates",
            "Yemen"
           ],
           "locations": [
            "DZA",
            "BHR",
            "DJI",
            "EGY",
            "IRN",
            "IRQ",
            "JOR",
            "KWT",
            "LBN",
            "LBY",
            "MAR",
            "OMN",
            "QAT",
            "SAU",
            "SYR",
            "TUN",
            "ARE",
            "YEM"
           ],
           "name": "",
           "type": "choropleth",
           "z": [
            0,
            9,
            0,
            14,
            1,
            2,
            8,
            11,
            1,
            5,
            0,
            2,
            0,
            3,
            0,
            3,
            0,
            4
           ]
          }
         ],
         "name": "2012"
        },
        {
         "data": [
          {
           "coloraxis": "coloraxis",
           "geo": "geo",
           "hovertemplate": "<b>%{hovertext}</b><br><br>year=2013<br>country_code=%{location}<br>protests=%{z}<extra></extra>",
           "hovertext": [
            "Algeria",
            "Bahrain",
            "Djibouti",
            "Egypt",
            "Iran",
            "Iraq",
            "Jordan",
            "Kuwait",
            "Lebanon",
            "Libya",
            "Morocco",
            "Oman",
            "Qatar",
            "Saudi Arabia",
            "Syria",
            "Tunisia",
            "United Arab Emirates",
            "Yemen"
           ],
           "locations": [
            "DZA",
            "BHR",
            "DJI",
            "EGY",
            "IRN",
            "IRQ",
            "JOR",
            "KWT",
            "LBN",
            "LBY",
            "MAR",
            "OMN",
            "QAT",
            "SAU",
            "SYR",
            "TUN",
            "ARE",
            "YEM"
           ],
           "name": "",
           "type": "choropleth",
           "z": [
            2,
            4,
            1,
            22,
            2,
            10,
            2,
            5,
            1,
            1,
            3,
            2,
            0,
            2,
            0,
            5,
            0,
            3
           ]
          }
         ],
         "name": "2013"
        },
        {
         "data": [
          {
           "coloraxis": "coloraxis",
           "geo": "geo",
           "hovertemplate": "<b>%{hovertext}</b><br><br>year=2014<br>country_code=%{location}<br>protests=%{z}<extra></extra>",
           "hovertext": [
            "Algeria",
            "Bahrain",
            "Djibouti",
            "Egypt",
            "Iran",
            "Iraq",
            "Jordan",
            "Kuwait",
            "Lebanon",
            "Libya",
            "Morocco",
            "Oman",
            "Qatar",
            "Saudi Arabia",
            "Syria",
            "Tunisia",
            "United Arab Emirates",
            "Yemen"
           ],
           "locations": [
            "DZA",
            "BHR",
            "DJI",
            "EGY",
            "IRN",
            "IRQ",
            "JOR",
            "KWT",
            "LBN",
            "LBY",
            "MAR",
            "OMN",
            "QAT",
            "SAU",
            "SYR",
            "TUN",
            "ARE",
            "YEM"
           ],
           "name": "",
           "type": "choropleth",
           "z": [
            11,
            8,
            0,
            18,
            4,
            1,
            4,
            5,
            4,
            4,
            3,
            0,
            0,
            0,
            4,
            2,
            0,
            33
           ]
          }
         ],
         "name": "2014"
        },
        {
         "data": [
          {
           "coloraxis": "coloraxis",
           "geo": "geo",
           "hovertemplate": "<b>%{hovertext}</b><br><br>year=2015<br>country_code=%{location}<br>protests=%{z}<extra></extra>",
           "hovertext": [
            "Algeria",
            "Bahrain",
            "Djibouti",
            "Egypt",
            "Iran",
            "Iraq",
            "Jordan",
            "Kuwait",
            "Lebanon",
            "Libya",
            "Morocco",
            "Oman",
            "Qatar",
            "Saudi Arabia",
            "Syria",
            "Tunisia",
            "United Arab Emirates",
            "Yemen"
           ],
           "locations": [
            "DZA",
            "BHR",
            "DJI",
            "EGY",
            "IRN",
            "IRQ",
            "JOR",
            "KWT",
            "LBN",
            "LBY",
            "MAR",
            "OMN",
            "QAT",
            "SAU",
            "SYR",
            "TUN",
            "ARE",
            "YEM"
           ],
           "name": "",
           "type": "choropleth",
           "z": [
            3,
            2,
            0,
            5,
            4,
            7,
            2,
            0,
            7,
            3,
            1,
            0,
            0,
            0,
            1,
            1,
            0,
            11
           ]
          }
         ],
         "name": "2015"
        },
        {
         "data": [
          {
           "coloraxis": "coloraxis",
           "geo": "geo",
           "hovertemplate": "<b>%{hovertext}</b><br><br>year=2016<br>country_code=%{location}<br>protests=%{z}<extra></extra>",
           "hovertext": [
            "Algeria",
            "Bahrain",
            "Djibouti",
            "Egypt",
            "Iran",
            "Iraq",
            "Jordan",
            "Kuwait",
            "Lebanon",
            "Libya",
            "Morocco",
            "Oman",
            "Qatar",
            "Saudi Arabia",
            "Syria",
            "Tunisia",
            "United Arab Emirates",
            "Yemen"
           ],
           "locations": [
            "DZA",
            "BHR",
            "DJI",
            "EGY",
            "IRN",
            "IRQ",
            "JOR",
            "KWT",
            "LBN",
            "LBY",
            "MAR",
            "OMN",
            "QAT",
            "SAU",
            "SYR",
            "TUN",
            "ARE",
            "YEM"
           ],
           "name": "",
           "type": "choropleth",
           "z": [
            0,
            1,
            0,
            6,
            4,
            6,
            3,
            1,
            0,
            0,
            1,
            0,
            0,
            1,
            2,
            2,
            0,
            1
           ]
          }
         ],
         "name": "2016"
        },
        {
         "data": [
          {
           "coloraxis": "coloraxis",
           "geo": "geo",
           "hovertemplate": "<b>%{hovertext}</b><br><br>year=2017<br>country_code=%{location}<br>protests=%{z}<extra></extra>",
           "hovertext": [
            "Algeria",
            "Bahrain",
            "Djibouti",
            "Egypt",
            "Iran",
            "Iraq",
            "Jordan",
            "Kuwait",
            "Lebanon",
            "Libya",
            "Morocco",
            "Oman",
            "Qatar",
            "Saudi Arabia",
            "Syria",
            "Tunisia",
            "United Arab Emirates",
            "Yemen"
           ],
           "locations": [
            "DZA",
            "BHR",
            "DJI",
            "EGY",
            "IRN",
            "IRQ",
            "JOR",
            "KWT",
            "LBN",
            "LBY",
            "MAR",
            "OMN",
            "QAT",
            "SAU",
            "SYR",
            "TUN",
            "ARE",
            "YEM"
           ],
           "name": "",
           "type": "choropleth",
           "z": [
            2,
            2,
            0,
            3,
            6,
            3,
            1,
            0,
            1,
            0,
            5,
            0,
            0,
            1,
            1,
            5,
            0,
            0
           ]
          }
         ],
         "name": "2017"
        },
        {
         "data": [
          {
           "coloraxis": "coloraxis",
           "geo": "geo",
           "hovertemplate": "<b>%{hovertext}</b><br><br>year=2018<br>country_code=%{location}<br>protests=%{z}<extra></extra>",
           "hovertext": [
            "Algeria",
            "Bahrain",
            "Djibouti",
            "Egypt",
            "Iran",
            "Iraq",
            "Jordan",
            "Kuwait",
            "Lebanon",
            "Libya",
            "Morocco",
            "Oman",
            "Qatar",
            "Saudi Arabia",
            "Syria",
            "Tunisia",
            "United Arab Emirates",
            "Yemen"
           ],
           "locations": [
            "DZA",
            "BHR",
            "DJI",
            "EGY",
            "IRN",
            "IRQ",
            "JOR",
            "KWT",
            "LBN",
            "LBY",
            "MAR",
            "OMN",
            "QAT",
            "SAU",
            "SYR",
            "TUN",
            "ARE",
            "YEM"
           ],
           "name": "",
           "type": "choropleth",
           "z": [
            0,
            0,
            0,
            0,
            9,
            3,
            1,
            3,
            1,
            0,
            6,
            1,
            0,
            0,
            0,
            10,
            0,
            0
           ]
          }
         ],
         "name": "2018"
        },
        {
         "data": [
          {
           "coloraxis": "coloraxis",
           "geo": "geo",
           "hovertemplate": "<b>%{hovertext}</b><br><br>year=2019<br>country_code=%{location}<br>protests=%{z}<extra></extra>",
           "hovertext": [
            "Algeria",
            "Bahrain",
            "Djibouti",
            "Egypt",
            "Iran",
            "Iraq",
            "Jordan",
            "Kuwait",
            "Lebanon",
            "Libya",
            "Morocco",
            "Oman",
            "Qatar",
            "Saudi Arabia",
            "Syria",
            "Tunisia",
            "United Arab Emirates",
            "Yemen"
           ],
           "locations": [
            "DZA",
            "BHR",
            "DJI",
            "EGY",
            "IRN",
            "IRQ",
            "JOR",
            "KWT",
            "LBN",
            "LBY",
            "MAR",
            "OMN",
            "QAT",
            "SAU",
            "SYR",
            "TUN",
            "ARE",
            "YEM"
           ],
           "name": "",
           "type": "choropleth",
           "z": [
            19,
            0,
            0,
            0,
            0,
            1,
            0,
            0,
            0,
            1,
            2,
            0,
            0,
            0,
            1,
            3,
            0,
            0
           ]
          }
         ],
         "name": "2019"
        }
       ],
       "layout": {
        "coloraxis": {
         "colorbar": {
          "title": {
           "text": "protests"
          }
         },
         "colorscale": [
          [
           0,
           "rgb(0, 147, 146)"
          ],
          [
           0.16666666666666666,
           "rgb(57, 177, 133)"
          ],
          [
           0.3333333333333333,
           "rgb(156, 203, 134)"
          ],
          [
           0.5,
           "rgb(233, 226, 156)"
          ],
          [
           0.6666666666666666,
           "rgb(238, 180, 121)"
          ],
          [
           0.8333333333333334,
           "rgb(232, 132, 113)"
          ],
          [
           1,
           "rgb(207, 89, 126)"
          ]
         ]
        },
        "geo": {
         "center": {},
         "domain": {
          "x": [
           0,
           1
          ],
          "y": [
           0,
           1
          ]
         },
         "projection": {
          "type": "natural earth"
         }
        },
        "legend": {
         "tracegroupgap": 0
        },
        "margin": {
         "t": 60
        },
        "sliders": [
         {
          "active": 0,
          "currentvalue": {
           "prefix": "year="
          },
          "len": 0.9,
          "pad": {
           "b": 10,
           "t": 60
          },
          "steps": [
           {
            "args": [
             [
              "2000"
             ],
             {
              "frame": {
               "duration": 0,
               "redraw": true
              },
              "fromcurrent": true,
              "mode": "immediate",
              "transition": {
               "duration": 0,
               "easing": "linear"
              }
             }
            ],
            "label": "2000",
            "method": "animate"
           },
           {
            "args": [
             [
              "2001"
             ],
             {
              "frame": {
               "duration": 0,
               "redraw": true
              },
              "fromcurrent": true,
              "mode": "immediate",
              "transition": {
               "duration": 0,
               "easing": "linear"
              }
             }
            ],
            "label": "2001",
            "method": "animate"
           },
           {
            "args": [
             [
              "2002"
             ],
             {
              "frame": {
               "duration": 0,
               "redraw": true
              },
              "fromcurrent": true,
              "mode": "immediate",
              "transition": {
               "duration": 0,
               "easing": "linear"
              }
             }
            ],
            "label": "2002",
            "method": "animate"
           },
           {
            "args": [
             [
              "2003"
             ],
             {
              "frame": {
               "duration": 0,
               "redraw": true
              },
              "fromcurrent": true,
              "mode": "immediate",
              "transition": {
               "duration": 0,
               "easing": "linear"
              }
             }
            ],
            "label": "2003",
            "method": "animate"
           },
           {
            "args": [
             [
              "2004"
             ],
             {
              "frame": {
               "duration": 0,
               "redraw": true
              },
              "fromcurrent": true,
              "mode": "immediate",
              "transition": {
               "duration": 0,
               "easing": "linear"
              }
             }
            ],
            "label": "2004",
            "method": "animate"
           },
           {
            "args": [
             [
              "2005"
             ],
             {
              "frame": {
               "duration": 0,
               "redraw": true
              },
              "fromcurrent": true,
              "mode": "immediate",
              "transition": {
               "duration": 0,
               "easing": "linear"
              }
             }
            ],
            "label": "2005",
            "method": "animate"
           },
           {
            "args": [
             [
              "2006"
             ],
             {
              "frame": {
               "duration": 0,
               "redraw": true
              },
              "fromcurrent": true,
              "mode": "immediate",
              "transition": {
               "duration": 0,
               "easing": "linear"
              }
             }
            ],
            "label": "2006",
            "method": "animate"
           },
           {
            "args": [
             [
              "2007"
             ],
             {
              "frame": {
               "duration": 0,
               "redraw": true
              },
              "fromcurrent": true,
              "mode": "immediate",
              "transition": {
               "duration": 0,
               "easing": "linear"
              }
             }
            ],
            "label": "2007",
            "method": "animate"
           },
           {
            "args": [
             [
              "2008"
             ],
             {
              "frame": {
               "duration": 0,
               "redraw": true
              },
              "fromcurrent": true,
              "mode": "immediate",
              "transition": {
               "duration": 0,
               "easing": "linear"
              }
             }
            ],
            "label": "2008",
            "method": "animate"
           },
           {
            "args": [
             [
              "2009"
             ],
             {
              "frame": {
               "duration": 0,
               "redraw": true
              },
              "fromcurrent": true,
              "mode": "immediate",
              "transition": {
               "duration": 0,
               "easing": "linear"
              }
             }
            ],
            "label": "2009",
            "method": "animate"
           },
           {
            "args": [
             [
              "2010"
             ],
             {
              "frame": {
               "duration": 0,
               "redraw": true
              },
              "fromcurrent": true,
              "mode": "immediate",
              "transition": {
               "duration": 0,
               "easing": "linear"
              }
             }
            ],
            "label": "2010",
            "method": "animate"
           },
           {
            "args": [
             [
              "2011"
             ],
             {
              "frame": {
               "duration": 0,
               "redraw": true
              },
              "fromcurrent": true,
              "mode": "immediate",
              "transition": {
               "duration": 0,
               "easing": "linear"
              }
             }
            ],
            "label": "2011",
            "method": "animate"
           },
           {
            "args": [
             [
              "2012"
             ],
             {
              "frame": {
               "duration": 0,
               "redraw": true
              },
              "fromcurrent": true,
              "mode": "immediate",
              "transition": {
               "duration": 0,
               "easing": "linear"
              }
             }
            ],
            "label": "2012",
            "method": "animate"
           },
           {
            "args": [
             [
              "2013"
             ],
             {
              "frame": {
               "duration": 0,
               "redraw": true
              },
              "fromcurrent": true,
              "mode": "immediate",
              "transition": {
               "duration": 0,
               "easing": "linear"
              }
             }
            ],
            "label": "2013",
            "method": "animate"
           },
           {
            "args": [
             [
              "2014"
             ],
             {
              "frame": {
               "duration": 0,
               "redraw": true
              },
              "fromcurrent": true,
              "mode": "immediate",
              "transition": {
               "duration": 0,
               "easing": "linear"
              }
             }
            ],
            "label": "2014",
            "method": "animate"
           },
           {
            "args": [
             [
              "2015"
             ],
             {
              "frame": {
               "duration": 0,
               "redraw": true
              },
              "fromcurrent": true,
              "mode": "immediate",
              "transition": {
               "duration": 0,
               "easing": "linear"
              }
             }
            ],
            "label": "2015",
            "method": "animate"
           },
           {
            "args": [
             [
              "2016"
             ],
             {
              "frame": {
               "duration": 0,
               "redraw": true
              },
              "fromcurrent": true,
              "mode": "immediate",
              "transition": {
               "duration": 0,
               "easing": "linear"
              }
             }
            ],
            "label": "2016",
            "method": "animate"
           },
           {
            "args": [
             [
              "2017"
             ],
             {
              "frame": {
               "duration": 0,
               "redraw": true
              },
              "fromcurrent": true,
              "mode": "immediate",
              "transition": {
               "duration": 0,
               "easing": "linear"
              }
             }
            ],
            "label": "2017",
            "method": "animate"
           },
           {
            "args": [
             [
              "2018"
             ],
             {
              "frame": {
               "duration": 0,
               "redraw": true
              },
              "fromcurrent": true,
              "mode": "immediate",
              "transition": {
               "duration": 0,
               "easing": "linear"
              }
             }
            ],
            "label": "2018",
            "method": "animate"
           },
           {
            "args": [
             [
              "2019"
             ],
             {
              "frame": {
               "duration": 0,
               "redraw": true
              },
              "fromcurrent": true,
              "mode": "immediate",
              "transition": {
               "duration": 0,
               "easing": "linear"
              }
             }
            ],
            "label": "2019",
            "method": "animate"
           }
          ],
          "x": 0.1,
          "xanchor": "left",
          "y": 0,
          "yanchor": "top"
         }
        ],
        "template": {
         "data": {
          "bar": [
           {
            "error_x": {
             "color": "#2a3f5f"
            },
            "error_y": {
             "color": "#2a3f5f"
            },
            "marker": {
             "line": {
              "color": "#E5ECF6",
              "width": 0.5
             }
            },
            "type": "bar"
           }
          ],
          "barpolar": [
           {
            "marker": {
             "line": {
              "color": "#E5ECF6",
              "width": 0.5
             }
            },
            "type": "barpolar"
           }
          ],
          "carpet": [
           {
            "aaxis": {
             "endlinecolor": "#2a3f5f",
             "gridcolor": "white",
             "linecolor": "white",
             "minorgridcolor": "white",
             "startlinecolor": "#2a3f5f"
            },
            "baxis": {
             "endlinecolor": "#2a3f5f",
             "gridcolor": "white",
             "linecolor": "white",
             "minorgridcolor": "white",
             "startlinecolor": "#2a3f5f"
            },
            "type": "carpet"
           }
          ],
          "choropleth": [
           {
            "colorbar": {
             "outlinewidth": 0,
             "ticks": ""
            },
            "type": "choropleth"
           }
          ],
          "contour": [
           {
            "colorbar": {
             "outlinewidth": 0,
             "ticks": ""
            },
            "colorscale": [
             [
              0,
              "#0d0887"
             ],
             [
              0.1111111111111111,
              "#46039f"
             ],
             [
              0.2222222222222222,
              "#7201a8"
             ],
             [
              0.3333333333333333,
              "#9c179e"
             ],
             [
              0.4444444444444444,
              "#bd3786"
             ],
             [
              0.5555555555555556,
              "#d8576b"
             ],
             [
              0.6666666666666666,
              "#ed7953"
             ],
             [
              0.7777777777777778,
              "#fb9f3a"
             ],
             [
              0.8888888888888888,
              "#fdca26"
             ],
             [
              1,
              "#f0f921"
             ]
            ],
            "type": "contour"
           }
          ],
          "contourcarpet": [
           {
            "colorbar": {
             "outlinewidth": 0,
             "ticks": ""
            },
            "type": "contourcarpet"
           }
          ],
          "heatmap": [
           {
            "colorbar": {
             "outlinewidth": 0,
             "ticks": ""
            },
            "colorscale": [
             [
              0,
              "#0d0887"
             ],
             [
              0.1111111111111111,
              "#46039f"
             ],
             [
              0.2222222222222222,
              "#7201a8"
             ],
             [
              0.3333333333333333,
              "#9c179e"
             ],
             [
              0.4444444444444444,
              "#bd3786"
             ],
             [
              0.5555555555555556,
              "#d8576b"
             ],
             [
              0.6666666666666666,
              "#ed7953"
             ],
             [
              0.7777777777777778,
              "#fb9f3a"
             ],
             [
              0.8888888888888888,
              "#fdca26"
             ],
             [
              1,
              "#f0f921"
             ]
            ],
            "type": "heatmap"
           }
          ],
          "heatmapgl": [
           {
            "colorbar": {
             "outlinewidth": 0,
             "ticks": ""
            },
            "colorscale": [
             [
              0,
              "#0d0887"
             ],
             [
              0.1111111111111111,
              "#46039f"
             ],
             [
              0.2222222222222222,
              "#7201a8"
             ],
             [
              0.3333333333333333,
              "#9c179e"
             ],
             [
              0.4444444444444444,
              "#bd3786"
             ],
             [
              0.5555555555555556,
              "#d8576b"
             ],
             [
              0.6666666666666666,
              "#ed7953"
             ],
             [
              0.7777777777777778,
              "#fb9f3a"
             ],
             [
              0.8888888888888888,
              "#fdca26"
             ],
             [
              1,
              "#f0f921"
             ]
            ],
            "type": "heatmapgl"
           }
          ],
          "histogram": [
           {
            "marker": {
             "colorbar": {
              "outlinewidth": 0,
              "ticks": ""
             }
            },
            "type": "histogram"
           }
          ],
          "histogram2d": [
           {
            "colorbar": {
             "outlinewidth": 0,
             "ticks": ""
            },
            "colorscale": [
             [
              0,
              "#0d0887"
             ],
             [
              0.1111111111111111,
              "#46039f"
             ],
             [
              0.2222222222222222,
              "#7201a8"
             ],
             [
              0.3333333333333333,
              "#9c179e"
             ],
             [
              0.4444444444444444,
              "#bd3786"
             ],
             [
              0.5555555555555556,
              "#d8576b"
             ],
             [
              0.6666666666666666,
              "#ed7953"
             ],
             [
              0.7777777777777778,
              "#fb9f3a"
             ],
             [
              0.8888888888888888,
              "#fdca26"
             ],
             [
              1,
              "#f0f921"
             ]
            ],
            "type": "histogram2d"
           }
          ],
          "histogram2dcontour": [
           {
            "colorbar": {
             "outlinewidth": 0,
             "ticks": ""
            },
            "colorscale": [
             [
              0,
              "#0d0887"
             ],
             [
              0.1111111111111111,
              "#46039f"
             ],
             [
              0.2222222222222222,
              "#7201a8"
             ],
             [
              0.3333333333333333,
              "#9c179e"
             ],
             [
              0.4444444444444444,
              "#bd3786"
             ],
             [
              0.5555555555555556,
              "#d8576b"
             ],
             [
              0.6666666666666666,
              "#ed7953"
             ],
             [
              0.7777777777777778,
              "#fb9f3a"
             ],
             [
              0.8888888888888888,
              "#fdca26"
             ],
             [
              1,
              "#f0f921"
             ]
            ],
            "type": "histogram2dcontour"
           }
          ],
          "mesh3d": [
           {
            "colorbar": {
             "outlinewidth": 0,
             "ticks": ""
            },
            "type": "mesh3d"
           }
          ],
          "parcoords": [
           {
            "line": {
             "colorbar": {
              "outlinewidth": 0,
              "ticks": ""
             }
            },
            "type": "parcoords"
           }
          ],
          "pie": [
           {
            "automargin": true,
            "type": "pie"
           }
          ],
          "scatter": [
           {
            "marker": {
             "colorbar": {
              "outlinewidth": 0,
              "ticks": ""
             }
            },
            "type": "scatter"
           }
          ],
          "scatter3d": [
           {
            "line": {
             "colorbar": {
              "outlinewidth": 0,
              "ticks": ""
             }
            },
            "marker": {
             "colorbar": {
              "outlinewidth": 0,
              "ticks": ""
             }
            },
            "type": "scatter3d"
           }
          ],
          "scattercarpet": [
           {
            "marker": {
             "colorbar": {
              "outlinewidth": 0,
              "ticks": ""
             }
            },
            "type": "scattercarpet"
           }
          ],
          "scattergeo": [
           {
            "marker": {
             "colorbar": {
              "outlinewidth": 0,
              "ticks": ""
             }
            },
            "type": "scattergeo"
           }
          ],
          "scattergl": [
           {
            "marker": {
             "colorbar": {
              "outlinewidth": 0,
              "ticks": ""
             }
            },
            "type": "scattergl"
           }
          ],
          "scattermapbox": [
           {
            "marker": {
             "colorbar": {
              "outlinewidth": 0,
              "ticks": ""
             }
            },
            "type": "scattermapbox"
           }
          ],
          "scatterpolar": [
           {
            "marker": {
             "colorbar": {
              "outlinewidth": 0,
              "ticks": ""
             }
            },
            "type": "scatterpolar"
           }
          ],
          "scatterpolargl": [
           {
            "marker": {
             "colorbar": {
              "outlinewidth": 0,
              "ticks": ""
             }
            },
            "type": "scatterpolargl"
           }
          ],
          "scatterternary": [
           {
            "marker": {
             "colorbar": {
              "outlinewidth": 0,
              "ticks": ""
             }
            },
            "type": "scatterternary"
           }
          ],
          "surface": [
           {
            "colorbar": {
             "outlinewidth": 0,
             "ticks": ""
            },
            "colorscale": [
             [
              0,
              "#0d0887"
             ],
             [
              0.1111111111111111,
              "#46039f"
             ],
             [
              0.2222222222222222,
              "#7201a8"
             ],
             [
              0.3333333333333333,
              "#9c179e"
             ],
             [
              0.4444444444444444,
              "#bd3786"
             ],
             [
              0.5555555555555556,
              "#d8576b"
             ],
             [
              0.6666666666666666,
              "#ed7953"
             ],
             [
              0.7777777777777778,
              "#fb9f3a"
             ],
             [
              0.8888888888888888,
              "#fdca26"
             ],
             [
              1,
              "#f0f921"
             ]
            ],
            "type": "surface"
           }
          ],
          "table": [
           {
            "cells": {
             "fill": {
              "color": "#EBF0F8"
             },
             "line": {
              "color": "white"
             }
            },
            "header": {
             "fill": {
              "color": "#C8D4E3"
             },
             "line": {
              "color": "white"
             }
            },
            "type": "table"
           }
          ]
         },
         "layout": {
          "annotationdefaults": {
           "arrowcolor": "#2a3f5f",
           "arrowhead": 0,
           "arrowwidth": 1
          },
          "autotypenumbers": "strict",
          "coloraxis": {
           "colorbar": {
            "outlinewidth": 0,
            "ticks": ""
           }
          },
          "colorscale": {
           "diverging": [
            [
             0,
             "#8e0152"
            ],
            [
             0.1,
             "#c51b7d"
            ],
            [
             0.2,
             "#de77ae"
            ],
            [
             0.3,
             "#f1b6da"
            ],
            [
             0.4,
             "#fde0ef"
            ],
            [
             0.5,
             "#f7f7f7"
            ],
            [
             0.6,
             "#e6f5d0"
            ],
            [
             0.7,
             "#b8e186"
            ],
            [
             0.8,
             "#7fbc41"
            ],
            [
             0.9,
             "#4d9221"
            ],
            [
             1,
             "#276419"
            ]
           ],
           "sequential": [
            [
             0,
             "#0d0887"
            ],
            [
             0.1111111111111111,
             "#46039f"
            ],
            [
             0.2222222222222222,
             "#7201a8"
            ],
            [
             0.3333333333333333,
             "#9c179e"
            ],
            [
             0.4444444444444444,
             "#bd3786"
            ],
            [
             0.5555555555555556,
             "#d8576b"
            ],
            [
             0.6666666666666666,
             "#ed7953"
            ],
            [
             0.7777777777777778,
             "#fb9f3a"
            ],
            [
             0.8888888888888888,
             "#fdca26"
            ],
            [
             1,
             "#f0f921"
            ]
           ],
           "sequentialminus": [
            [
             0,
             "#0d0887"
            ],
            [
             0.1111111111111111,
             "#46039f"
            ],
            [
             0.2222222222222222,
             "#7201a8"
            ],
            [
             0.3333333333333333,
             "#9c179e"
            ],
            [
             0.4444444444444444,
             "#bd3786"
            ],
            [
             0.5555555555555556,
             "#d8576b"
            ],
            [
             0.6666666666666666,
             "#ed7953"
            ],
            [
             0.7777777777777778,
             "#fb9f3a"
            ],
            [
             0.8888888888888888,
             "#fdca26"
            ],
            [
             1,
             "#f0f921"
            ]
           ]
          },
          "colorway": [
           "#636efa",
           "#EF553B",
           "#00cc96",
           "#ab63fa",
           "#FFA15A",
           "#19d3f3",
           "#FF6692",
           "#B6E880",
           "#FF97FF",
           "#FECB52"
          ],
          "font": {
           "color": "#2a3f5f"
          },
          "geo": {
           "bgcolor": "white",
           "lakecolor": "white",
           "landcolor": "#E5ECF6",
           "showlakes": true,
           "showland": true,
           "subunitcolor": "white"
          },
          "hoverlabel": {
           "align": "left"
          },
          "hovermode": "closest",
          "mapbox": {
           "style": "light"
          },
          "paper_bgcolor": "white",
          "plot_bgcolor": "#E5ECF6",
          "polar": {
           "angularaxis": {
            "gridcolor": "white",
            "linecolor": "white",
            "ticks": ""
           },
           "bgcolor": "#E5ECF6",
           "radialaxis": {
            "gridcolor": "white",
            "linecolor": "white",
            "ticks": ""
           }
          },
          "scene": {
           "xaxis": {
            "backgroundcolor": "#E5ECF6",
            "gridcolor": "white",
            "gridwidth": 2,
            "linecolor": "white",
            "showbackground": true,
            "ticks": "",
            "zerolinecolor": "white"
           },
           "yaxis": {
            "backgroundcolor": "#E5ECF6",
            "gridcolor": "white",
            "gridwidth": 2,
            "linecolor": "white",
            "showbackground": true,
            "ticks": "",
            "zerolinecolor": "white"
           },
           "zaxis": {
            "backgroundcolor": "#E5ECF6",
            "gridcolor": "white",
            "gridwidth": 2,
            "linecolor": "white",
            "showbackground": true,
            "ticks": "",
            "zerolinecolor": "white"
           }
          },
          "shapedefaults": {
           "line": {
            "color": "#2a3f5f"
           }
          },
          "ternary": {
           "aaxis": {
            "gridcolor": "white",
            "linecolor": "white",
            "ticks": ""
           },
           "baxis": {
            "gridcolor": "white",
            "linecolor": "white",
            "ticks": ""
           },
           "bgcolor": "#E5ECF6",
           "caxis": {
            "gridcolor": "white",
            "linecolor": "white",
            "ticks": ""
           }
          },
          "title": {
           "x": 0.05
          },
          "xaxis": {
           "automargin": true,
           "gridcolor": "white",
           "linecolor": "white",
           "ticks": "",
           "title": {
            "standoff": 15
           },
           "zerolinecolor": "white",
           "zerolinewidth": 2
          },
          "yaxis": {
           "automargin": true,
           "gridcolor": "white",
           "linecolor": "white",
           "ticks": "",
           "title": {
            "standoff": 15
           },
           "zerolinecolor": "white",
           "zerolinewidth": 2
          }
         }
        },
        "title": {
         "text": "Number of Protests"
        },
        "updatemenus": [
         {
          "buttons": [
           {
            "args": [
             null,
             {
              "frame": {
               "duration": 500,
               "redraw": true
              },
              "fromcurrent": true,
              "mode": "immediate",
              "transition": {
               "duration": 500,
               "easing": "linear"
              }
             }
            ],
            "label": "&#9654;",
            "method": "animate"
           },
           {
            "args": [
             [
              null
             ],
             {
              "frame": {
               "duration": 0,
               "redraw": true
              },
              "fromcurrent": true,
              "mode": "immediate",
              "transition": {
               "duration": 0,
               "easing": "linear"
              }
             }
            ],
            "label": "&#9724;",
            "method": "animate"
           }
          ],
          "direction": "left",
          "pad": {
           "r": 10,
           "t": 70
          },
          "showactive": false,
          "type": "buttons",
          "x": 0.1,
          "xanchor": "right",
          "y": 0,
          "yanchor": "top"
         }
        ]
       }
      },
      "text/html": [
       "<div>                            <div id=\"5ea2411d-ce6a-46df-91bc-d8017db97e72\" class=\"plotly-graph-div\" style=\"height:525px; width:100%;\"></div>            <script type=\"text/javascript\">                require([\"plotly\"], function(Plotly) {                    window.PLOTLYENV=window.PLOTLYENV || {};                                    if (document.getElementById(\"5ea2411d-ce6a-46df-91bc-d8017db97e72\")) {                    Plotly.newPlot(                        \"5ea2411d-ce6a-46df-91bc-d8017db97e72\",                        [{\"coloraxis\": \"coloraxis\", \"geo\": \"geo\", \"hovertemplate\": \"<b>%{hovertext}</b><br><br>year=2000<br>country_code=%{location}<br>protests=%{z}<extra></extra>\", \"hovertext\": [\"Algeria\", \"Bahrain\", \"Djibouti\", \"Egypt\", \"Iran\", \"Iraq\", \"Jordan\", \"Kuwait\", \"Lebanon\", \"Libya\", \"Morocco\", \"Oman\", \"Qatar\", \"Saudi Arabia\", \"Syria\", \"Tunisia\", \"United Arab Emirates\", \"Yemen\"], \"locations\": [\"DZA\", \"BHR\", \"DJI\", \"EGY\", \"IRN\", \"IRQ\", \"JOR\", \"KWT\", \"LBN\", \"LBY\", \"MAR\", \"OMN\", \"QAT\", \"SAU\", \"SYR\", \"TUN\", \"ARE\", \"YEM\"], \"name\": \"\", \"type\": \"choropleth\", \"z\": [0, 1, 1, 1, 5, 0, 0, 1, 2, 0, 3, 0, 0, 0, 0, 1, 0, 0]}],                        {\"coloraxis\": {\"colorbar\": {\"title\": {\"text\": \"protests\"}}, \"colorscale\": [[0.0, \"rgb(0, 147, 146)\"], [0.16666666666666666, \"rgb(57, 177, 133)\"], [0.3333333333333333, \"rgb(156, 203, 134)\"], [0.5, \"rgb(233, 226, 156)\"], [0.6666666666666666, \"rgb(238, 180, 121)\"], [0.8333333333333334, \"rgb(232, 132, 113)\"], [1.0, \"rgb(207, 89, 126)\"]]}, \"geo\": {\"center\": {}, \"domain\": {\"x\": [0.0, 1.0], \"y\": [0.0, 1.0]}, \"projection\": {\"type\": \"natural earth\"}}, \"legend\": {\"tracegroupgap\": 0}, \"margin\": {\"t\": 60}, \"sliders\": [{\"active\": 0, \"currentvalue\": {\"prefix\": \"year=\"}, \"len\": 0.9, \"pad\": {\"b\": 10, \"t\": 60}, \"steps\": [{\"args\": [[\"2000\"], {\"frame\": {\"duration\": 0, \"redraw\": true}, \"fromcurrent\": true, \"mode\": \"immediate\", \"transition\": {\"duration\": 0, \"easing\": \"linear\"}}], \"label\": \"2000\", \"method\": \"animate\"}, {\"args\": [[\"2001\"], {\"frame\": {\"duration\": 0, \"redraw\": true}, \"fromcurrent\": true, \"mode\": \"immediate\", \"transition\": {\"duration\": 0, \"easing\": \"linear\"}}], \"label\": \"2001\", \"method\": \"animate\"}, {\"args\": [[\"2002\"], {\"frame\": {\"duration\": 0, \"redraw\": true}, \"fromcurrent\": true, \"mode\": \"immediate\", \"transition\": {\"duration\": 0, \"easing\": \"linear\"}}], \"label\": \"2002\", \"method\": \"animate\"}, {\"args\": [[\"2003\"], {\"frame\": {\"duration\": 0, \"redraw\": true}, \"fromcurrent\": true, \"mode\": \"immediate\", \"transition\": {\"duration\": 0, \"easing\": \"linear\"}}], \"label\": \"2003\", \"method\": \"animate\"}, {\"args\": [[\"2004\"], {\"frame\": {\"duration\": 0, \"redraw\": true}, \"fromcurrent\": true, \"mode\": \"immediate\", \"transition\": {\"duration\": 0, \"easing\": \"linear\"}}], \"label\": \"2004\", \"method\": \"animate\"}, {\"args\": [[\"2005\"], {\"frame\": {\"duration\": 0, \"redraw\": true}, \"fromcurrent\": true, \"mode\": \"immediate\", \"transition\": {\"duration\": 0, \"easing\": \"linear\"}}], \"label\": \"2005\", \"method\": \"animate\"}, {\"args\": [[\"2006\"], {\"frame\": {\"duration\": 0, \"redraw\": true}, \"fromcurrent\": true, \"mode\": \"immediate\", \"transition\": {\"duration\": 0, \"easing\": \"linear\"}}], \"label\": \"2006\", \"method\": \"animate\"}, {\"args\": [[\"2007\"], {\"frame\": {\"duration\": 0, \"redraw\": true}, \"fromcurrent\": true, \"mode\": \"immediate\", \"transition\": {\"duration\": 0, \"easing\": \"linear\"}}], \"label\": \"2007\", \"method\": \"animate\"}, {\"args\": [[\"2008\"], {\"frame\": {\"duration\": 0, \"redraw\": true}, \"fromcurrent\": true, \"mode\": \"immediate\", \"transition\": {\"duration\": 0, \"easing\": \"linear\"}}], \"label\": \"2008\", \"method\": \"animate\"}, {\"args\": [[\"2009\"], {\"frame\": {\"duration\": 0, \"redraw\": true}, \"fromcurrent\": true, \"mode\": \"immediate\", \"transition\": {\"duration\": 0, \"easing\": \"linear\"}}], \"label\": \"2009\", \"method\": \"animate\"}, {\"args\": [[\"2010\"], {\"frame\": {\"duration\": 0, \"redraw\": true}, \"fromcurrent\": true, \"mode\": \"immediate\", \"transition\": {\"duration\": 0, \"easing\": \"linear\"}}], \"label\": \"2010\", \"method\": \"animate\"}, {\"args\": [[\"2011\"], {\"frame\": {\"duration\": 0, \"redraw\": true}, \"fromcurrent\": true, \"mode\": \"immediate\", \"transition\": {\"duration\": 0, \"easing\": \"linear\"}}], \"label\": \"2011\", \"method\": \"animate\"}, {\"args\": [[\"2012\"], {\"frame\": {\"duration\": 0, \"redraw\": true}, \"fromcurrent\": true, \"mode\": \"immediate\", \"transition\": {\"duration\": 0, \"easing\": \"linear\"}}], \"label\": \"2012\", \"method\": \"animate\"}, {\"args\": [[\"2013\"], {\"frame\": {\"duration\": 0, \"redraw\": true}, \"fromcurrent\": true, \"mode\": \"immediate\", \"transition\": {\"duration\": 0, \"easing\": \"linear\"}}], \"label\": \"2013\", \"method\": \"animate\"}, {\"args\": [[\"2014\"], {\"frame\": {\"duration\": 0, \"redraw\": true}, \"fromcurrent\": true, \"mode\": \"immediate\", \"transition\": {\"duration\": 0, \"easing\": \"linear\"}}], \"label\": \"2014\", \"method\": \"animate\"}, {\"args\": [[\"2015\"], {\"frame\": {\"duration\": 0, \"redraw\": true}, \"fromcurrent\": true, \"mode\": \"immediate\", \"transition\": {\"duration\": 0, \"easing\": \"linear\"}}], \"label\": \"2015\", \"method\": \"animate\"}, {\"args\": [[\"2016\"], {\"frame\": {\"duration\": 0, \"redraw\": true}, \"fromcurrent\": true, \"mode\": \"immediate\", \"transition\": {\"duration\": 0, \"easing\": \"linear\"}}], \"label\": \"2016\", \"method\": \"animate\"}, {\"args\": [[\"2017\"], {\"frame\": {\"duration\": 0, \"redraw\": true}, \"fromcurrent\": true, \"mode\": \"immediate\", \"transition\": {\"duration\": 0, \"easing\": \"linear\"}}], \"label\": \"2017\", \"method\": \"animate\"}, {\"args\": [[\"2018\"], {\"frame\": {\"duration\": 0, \"redraw\": true}, \"fromcurrent\": true, \"mode\": \"immediate\", \"transition\": {\"duration\": 0, \"easing\": \"linear\"}}], \"label\": \"2018\", \"method\": \"animate\"}, {\"args\": [[\"2019\"], {\"frame\": {\"duration\": 0, \"redraw\": true}, \"fromcurrent\": true, \"mode\": \"immediate\", \"transition\": {\"duration\": 0, \"easing\": \"linear\"}}], \"label\": \"2019\", \"method\": \"animate\"}], \"x\": 0.1, \"xanchor\": \"left\", \"y\": 0, \"yanchor\": \"top\"}], \"template\": {\"data\": {\"bar\": [{\"error_x\": {\"color\": \"#2a3f5f\"}, \"error_y\": {\"color\": \"#2a3f5f\"}, \"marker\": {\"line\": {\"color\": \"#E5ECF6\", \"width\": 0.5}}, \"type\": \"bar\"}], \"barpolar\": [{\"marker\": {\"line\": {\"color\": \"#E5ECF6\", \"width\": 0.5}}, \"type\": \"barpolar\"}], \"carpet\": [{\"aaxis\": {\"endlinecolor\": \"#2a3f5f\", \"gridcolor\": \"white\", \"linecolor\": \"white\", \"minorgridcolor\": \"white\", \"startlinecolor\": \"#2a3f5f\"}, \"baxis\": {\"endlinecolor\": \"#2a3f5f\", \"gridcolor\": \"white\", \"linecolor\": \"white\", \"minorgridcolor\": \"white\", \"startlinecolor\": \"#2a3f5f\"}, \"type\": \"carpet\"}], \"choropleth\": [{\"colorbar\": {\"outlinewidth\": 0, \"ticks\": \"\"}, \"type\": \"choropleth\"}], \"contour\": [{\"colorbar\": {\"outlinewidth\": 0, \"ticks\": \"\"}, \"colorscale\": [[0.0, \"#0d0887\"], [0.1111111111111111, \"#46039f\"], [0.2222222222222222, \"#7201a8\"], [0.3333333333333333, \"#9c179e\"], [0.4444444444444444, \"#bd3786\"], [0.5555555555555556, \"#d8576b\"], [0.6666666666666666, \"#ed7953\"], [0.7777777777777778, \"#fb9f3a\"], [0.8888888888888888, \"#fdca26\"], [1.0, \"#f0f921\"]], \"type\": \"contour\"}], \"contourcarpet\": [{\"colorbar\": {\"outlinewidth\": 0, \"ticks\": \"\"}, \"type\": \"contourcarpet\"}], \"heatmap\": [{\"colorbar\": {\"outlinewidth\": 0, \"ticks\": \"\"}, \"colorscale\": [[0.0, \"#0d0887\"], [0.1111111111111111, \"#46039f\"], [0.2222222222222222, \"#7201a8\"], [0.3333333333333333, \"#9c179e\"], [0.4444444444444444, \"#bd3786\"], [0.5555555555555556, \"#d8576b\"], [0.6666666666666666, \"#ed7953\"], [0.7777777777777778, \"#fb9f3a\"], [0.8888888888888888, \"#fdca26\"], [1.0, \"#f0f921\"]], \"type\": \"heatmap\"}], \"heatmapgl\": [{\"colorbar\": {\"outlinewidth\": 0, \"ticks\": \"\"}, \"colorscale\": [[0.0, \"#0d0887\"], [0.1111111111111111, \"#46039f\"], [0.2222222222222222, \"#7201a8\"], [0.3333333333333333, \"#9c179e\"], [0.4444444444444444, \"#bd3786\"], [0.5555555555555556, \"#d8576b\"], [0.6666666666666666, \"#ed7953\"], [0.7777777777777778, \"#fb9f3a\"], [0.8888888888888888, \"#fdca26\"], [1.0, \"#f0f921\"]], \"type\": \"heatmapgl\"}], \"histogram\": [{\"marker\": {\"colorbar\": {\"outlinewidth\": 0, \"ticks\": \"\"}}, \"type\": \"histogram\"}], \"histogram2d\": [{\"colorbar\": {\"outlinewidth\": 0, \"ticks\": \"\"}, \"colorscale\": [[0.0, \"#0d0887\"], [0.1111111111111111, \"#46039f\"], [0.2222222222222222, \"#7201a8\"], [0.3333333333333333, \"#9c179e\"], [0.4444444444444444, \"#bd3786\"], [0.5555555555555556, \"#d8576b\"], [0.6666666666666666, \"#ed7953\"], [0.7777777777777778, \"#fb9f3a\"], [0.8888888888888888, \"#fdca26\"], [1.0, \"#f0f921\"]], \"type\": \"histogram2d\"}], \"histogram2dcontour\": [{\"colorbar\": {\"outlinewidth\": 0, \"ticks\": \"\"}, \"colorscale\": [[0.0, \"#0d0887\"], [0.1111111111111111, \"#46039f\"], [0.2222222222222222, \"#7201a8\"], [0.3333333333333333, \"#9c179e\"], [0.4444444444444444, \"#bd3786\"], [0.5555555555555556, \"#d8576b\"], [0.6666666666666666, \"#ed7953\"], [0.7777777777777778, \"#fb9f3a\"], [0.8888888888888888, \"#fdca26\"], [1.0, \"#f0f921\"]], \"type\": \"histogram2dcontour\"}], \"mesh3d\": [{\"colorbar\": {\"outlinewidth\": 0, \"ticks\": \"\"}, \"type\": \"mesh3d\"}], \"parcoords\": [{\"line\": {\"colorbar\": {\"outlinewidth\": 0, \"ticks\": \"\"}}, \"type\": \"parcoords\"}], \"pie\": [{\"automargin\": true, \"type\": \"pie\"}], \"scatter\": [{\"marker\": {\"colorbar\": {\"outlinewidth\": 0, \"ticks\": \"\"}}, \"type\": \"scatter\"}], \"scatter3d\": [{\"line\": {\"colorbar\": {\"outlinewidth\": 0, \"ticks\": \"\"}}, \"marker\": {\"colorbar\": {\"outlinewidth\": 0, \"ticks\": \"\"}}, \"type\": \"scatter3d\"}], \"scattercarpet\": [{\"marker\": {\"colorbar\": {\"outlinewidth\": 0, \"ticks\": \"\"}}, \"type\": \"scattercarpet\"}], \"scattergeo\": [{\"marker\": {\"colorbar\": {\"outlinewidth\": 0, \"ticks\": \"\"}}, \"type\": \"scattergeo\"}], \"scattergl\": [{\"marker\": {\"colorbar\": {\"outlinewidth\": 0, \"ticks\": \"\"}}, \"type\": \"scattergl\"}], \"scattermapbox\": [{\"marker\": {\"colorbar\": {\"outlinewidth\": 0, \"ticks\": \"\"}}, \"type\": \"scattermapbox\"}], \"scatterpolar\": [{\"marker\": {\"colorbar\": {\"outlinewidth\": 0, \"ticks\": \"\"}}, \"type\": \"scatterpolar\"}], \"scatterpolargl\": [{\"marker\": {\"colorbar\": {\"outlinewidth\": 0, \"ticks\": \"\"}}, \"type\": \"scatterpolargl\"}], \"scatterternary\": [{\"marker\": {\"colorbar\": {\"outlinewidth\": 0, \"ticks\": \"\"}}, \"type\": \"scatterternary\"}], \"surface\": [{\"colorbar\": {\"outlinewidth\": 0, \"ticks\": \"\"}, \"colorscale\": [[0.0, \"#0d0887\"], [0.1111111111111111, \"#46039f\"], [0.2222222222222222, \"#7201a8\"], [0.3333333333333333, \"#9c179e\"], [0.4444444444444444, \"#bd3786\"], [0.5555555555555556, \"#d8576b\"], [0.6666666666666666, \"#ed7953\"], [0.7777777777777778, \"#fb9f3a\"], [0.8888888888888888, \"#fdca26\"], [1.0, \"#f0f921\"]], \"type\": \"surface\"}], \"table\": [{\"cells\": {\"fill\": {\"color\": \"#EBF0F8\"}, \"line\": {\"color\": \"white\"}}, \"header\": {\"fill\": {\"color\": \"#C8D4E3\"}, \"line\": {\"color\": \"white\"}}, \"type\": \"table\"}]}, \"layout\": {\"annotationdefaults\": {\"arrowcolor\": \"#2a3f5f\", \"arrowhead\": 0, \"arrowwidth\": 1}, \"autotypenumbers\": \"strict\", \"coloraxis\": {\"colorbar\": {\"outlinewidth\": 0, \"ticks\": \"\"}}, \"colorscale\": {\"diverging\": [[0, \"#8e0152\"], [0.1, \"#c51b7d\"], [0.2, \"#de77ae\"], [0.3, \"#f1b6da\"], [0.4, \"#fde0ef\"], [0.5, \"#f7f7f7\"], [0.6, \"#e6f5d0\"], [0.7, \"#b8e186\"], [0.8, \"#7fbc41\"], [0.9, \"#4d9221\"], [1, \"#276419\"]], \"sequential\": [[0.0, \"#0d0887\"], [0.1111111111111111, \"#46039f\"], [0.2222222222222222, \"#7201a8\"], [0.3333333333333333, \"#9c179e\"], [0.4444444444444444, \"#bd3786\"], [0.5555555555555556, \"#d8576b\"], [0.6666666666666666, \"#ed7953\"], [0.7777777777777778, \"#fb9f3a\"], [0.8888888888888888, \"#fdca26\"], [1.0, \"#f0f921\"]], \"sequentialminus\": [[0.0, \"#0d0887\"], [0.1111111111111111, \"#46039f\"], [0.2222222222222222, \"#7201a8\"], [0.3333333333333333, \"#9c179e\"], [0.4444444444444444, \"#bd3786\"], [0.5555555555555556, \"#d8576b\"], [0.6666666666666666, \"#ed7953\"], [0.7777777777777778, \"#fb9f3a\"], [0.8888888888888888, \"#fdca26\"], [1.0, \"#f0f921\"]]}, \"colorway\": [\"#636efa\", \"#EF553B\", \"#00cc96\", \"#ab63fa\", \"#FFA15A\", \"#19d3f3\", \"#FF6692\", \"#B6E880\", \"#FF97FF\", \"#FECB52\"], \"font\": {\"color\": \"#2a3f5f\"}, \"geo\": {\"bgcolor\": \"white\", \"lakecolor\": \"white\", \"landcolor\": \"#E5ECF6\", \"showlakes\": true, \"showland\": true, \"subunitcolor\": \"white\"}, \"hoverlabel\": {\"align\": \"left\"}, \"hovermode\": \"closest\", \"mapbox\": {\"style\": \"light\"}, \"paper_bgcolor\": \"white\", \"plot_bgcolor\": \"#E5ECF6\", \"polar\": {\"angularaxis\": {\"gridcolor\": \"white\", \"linecolor\": \"white\", \"ticks\": \"\"}, \"bgcolor\": \"#E5ECF6\", \"radialaxis\": {\"gridcolor\": \"white\", \"linecolor\": \"white\", \"ticks\": \"\"}}, \"scene\": {\"xaxis\": {\"backgroundcolor\": \"#E5ECF6\", \"gridcolor\": \"white\", \"gridwidth\": 2, \"linecolor\": \"white\", \"showbackground\": true, \"ticks\": \"\", \"zerolinecolor\": \"white\"}, \"yaxis\": {\"backgroundcolor\": \"#E5ECF6\", \"gridcolor\": \"white\", \"gridwidth\": 2, \"linecolor\": \"white\", \"showbackground\": true, \"ticks\": \"\", \"zerolinecolor\": \"white\"}, \"zaxis\": {\"backgroundcolor\": \"#E5ECF6\", \"gridcolor\": \"white\", \"gridwidth\": 2, \"linecolor\": \"white\", \"showbackground\": true, \"ticks\": \"\", \"zerolinecolor\": \"white\"}}, \"shapedefaults\": {\"line\": {\"color\": \"#2a3f5f\"}}, \"ternary\": {\"aaxis\": {\"gridcolor\": \"white\", \"linecolor\": \"white\", \"ticks\": \"\"}, \"baxis\": {\"gridcolor\": \"white\", \"linecolor\": \"white\", \"ticks\": \"\"}, \"bgcolor\": \"#E5ECF6\", \"caxis\": {\"gridcolor\": \"white\", \"linecolor\": \"white\", \"ticks\": \"\"}}, \"title\": {\"x\": 0.05}, \"xaxis\": {\"automargin\": true, \"gridcolor\": \"white\", \"linecolor\": \"white\", \"ticks\": \"\", \"title\": {\"standoff\": 15}, \"zerolinecolor\": \"white\", \"zerolinewidth\": 2}, \"yaxis\": {\"automargin\": true, \"gridcolor\": \"white\", \"linecolor\": \"white\", \"ticks\": \"\", \"title\": {\"standoff\": 15}, \"zerolinecolor\": \"white\", \"zerolinewidth\": 2}}}, \"title\": {\"text\": \"Number of Protests\"}, \"updatemenus\": [{\"buttons\": [{\"args\": [null, {\"frame\": {\"duration\": 500, \"redraw\": true}, \"fromcurrent\": true, \"mode\": \"immediate\", \"transition\": {\"duration\": 500, \"easing\": \"linear\"}}], \"label\": \"&#9654;\", \"method\": \"animate\"}, {\"args\": [[null], {\"frame\": {\"duration\": 0, \"redraw\": true}, \"fromcurrent\": true, \"mode\": \"immediate\", \"transition\": {\"duration\": 0, \"easing\": \"linear\"}}], \"label\": \"&#9724;\", \"method\": \"animate\"}], \"direction\": \"left\", \"pad\": {\"r\": 10, \"t\": 70}, \"showactive\": false, \"type\": \"buttons\", \"x\": 0.1, \"xanchor\": \"right\", \"y\": 0, \"yanchor\": \"top\"}]},                        {\"responsive\": true}                    ).then(function(){\n",
       "                            Plotly.addFrames('5ea2411d-ce6a-46df-91bc-d8017db97e72', [{\"data\": [{\"coloraxis\": \"coloraxis\", \"geo\": \"geo\", \"hovertemplate\": \"<b>%{hovertext}</b><br><br>year=2000<br>country_code=%{location}<br>protests=%{z}<extra></extra>\", \"hovertext\": [\"Algeria\", \"Bahrain\", \"Djibouti\", \"Egypt\", \"Iran\", \"Iraq\", \"Jordan\", \"Kuwait\", \"Lebanon\", \"Libya\", \"Morocco\", \"Oman\", \"Qatar\", \"Saudi Arabia\", \"Syria\", \"Tunisia\", \"United Arab Emirates\", \"Yemen\"], \"locations\": [\"DZA\", \"BHR\", \"DJI\", \"EGY\", \"IRN\", \"IRQ\", \"JOR\", \"KWT\", \"LBN\", \"LBY\", \"MAR\", \"OMN\", \"QAT\", \"SAU\", \"SYR\", \"TUN\", \"ARE\", \"YEM\"], \"name\": \"\", \"z\": [0, 1, 1, 1, 5, 0, 0, 1, 2, 0, 3, 0, 0, 0, 0, 1, 0, 0], \"type\": \"choropleth\"}], \"name\": \"2000\"}, {\"data\": [{\"coloraxis\": \"coloraxis\", \"geo\": \"geo\", \"hovertemplate\": \"<b>%{hovertext}</b><br><br>year=2001<br>country_code=%{location}<br>protests=%{z}<extra></extra>\", \"hovertext\": [\"Algeria\", \"Bahrain\", \"Djibouti\", \"Egypt\", \"Iran\", \"Iraq\", \"Jordan\", \"Kuwait\", \"Lebanon\", \"Libya\", \"Morocco\", \"Oman\", \"Qatar\", \"Saudi Arabia\", \"Syria\", \"Tunisia\", \"United Arab Emirates\", \"Yemen\"], \"locations\": [\"DZA\", \"BHR\", \"DJI\", \"EGY\", \"IRN\", \"IRQ\", \"JOR\", \"KWT\", \"LBN\", \"LBY\", \"MAR\", \"OMN\", \"QAT\", \"SAU\", \"SYR\", \"TUN\", \"ARE\", \"YEM\"], \"name\": \"\", \"z\": [6, 0, 0, 0, 5, 0, 0, 0, 1, 0, 0, 0, 1, 0, 0, 0, 0, 1], \"type\": \"choropleth\"}], \"name\": \"2001\"}, {\"data\": [{\"coloraxis\": \"coloraxis\", \"geo\": \"geo\", \"hovertemplate\": \"<b>%{hovertext}</b><br><br>year=2002<br>country_code=%{location}<br>protests=%{z}<extra></extra>\", \"hovertext\": [\"Algeria\", \"Bahrain\", \"Djibouti\", \"Egypt\", \"Iran\", \"Iraq\", \"Jordan\", \"Kuwait\", \"Lebanon\", \"Libya\", \"Morocco\", \"Oman\", \"Qatar\", \"Saudi Arabia\", \"Syria\", \"Tunisia\", \"United Arab Emirates\", \"Yemen\"], \"locations\": [\"DZA\", \"BHR\", \"DJI\", \"EGY\", \"IRN\", \"IRQ\", \"JOR\", \"KWT\", \"LBN\", \"LBY\", \"MAR\", \"OMN\", \"QAT\", \"SAU\", \"SYR\", \"TUN\", \"ARE\", \"YEM\"], \"name\": \"\", \"z\": [0, 0, 1, 3, 8, 1, 0, 0, 5, 0, 0, 0, 0, 0, 0, 0, 0, 1], \"type\": \"choropleth\"}], \"name\": \"2002\"}, {\"data\": [{\"coloraxis\": \"coloraxis\", \"geo\": \"geo\", \"hovertemplate\": \"<b>%{hovertext}</b><br><br>year=2003<br>country_code=%{location}<br>protests=%{z}<extra></extra>\", \"hovertext\": [\"Algeria\", \"Bahrain\", \"Djibouti\", \"Egypt\", \"Iran\", \"Iraq\", \"Jordan\", \"Kuwait\", \"Lebanon\", \"Libya\", \"Morocco\", \"Oman\", \"Qatar\", \"Saudi Arabia\", \"Syria\", \"Tunisia\", \"United Arab Emirates\", \"Yemen\"], \"locations\": [\"DZA\", \"BHR\", \"DJI\", \"EGY\", \"IRN\", \"IRQ\", \"JOR\", \"KWT\", \"LBN\", \"LBY\", \"MAR\", \"OMN\", \"QAT\", \"SAU\", \"SYR\", \"TUN\", \"ARE\", \"YEM\"], \"name\": \"\", \"z\": [0, 1, 0, 0, 2, 8, 0, 0, 0, 0, 0, 0, 0, 3, 0, 0, 0, 1], \"type\": \"choropleth\"}], \"name\": \"2003\"}, {\"data\": [{\"coloraxis\": \"coloraxis\", \"geo\": \"geo\", \"hovertemplate\": \"<b>%{hovertext}</b><br><br>year=2004<br>country_code=%{location}<br>protests=%{z}<extra></extra>\", \"hovertext\": [\"Algeria\", \"Bahrain\", \"Djibouti\", \"Egypt\", \"Iran\", \"Iraq\", \"Jordan\", \"Kuwait\", \"Lebanon\", \"Libya\", \"Morocco\", \"Oman\", \"Qatar\", \"Saudi Arabia\", \"Syria\", \"Tunisia\", \"United Arab Emirates\", \"Yemen\"], \"locations\": [\"DZA\", \"BHR\", \"DJI\", \"EGY\", \"IRN\", \"IRQ\", \"JOR\", \"KWT\", \"LBN\", \"LBY\", \"MAR\", \"OMN\", \"QAT\", \"SAU\", \"SYR\", \"TUN\", \"ARE\", \"YEM\"], \"name\": \"\", \"z\": [0, 0, 0, 3, 0, 7, 0, 0, 1, 0, 0, 0, 0, 1, 3, 0, 0, 1], \"type\": \"choropleth\"}], \"name\": \"2004\"}, {\"data\": [{\"coloraxis\": \"coloraxis\", \"geo\": \"geo\", \"hovertemplate\": \"<b>%{hovertext}</b><br><br>year=2005<br>country_code=%{location}<br>protests=%{z}<extra></extra>\", \"hovertext\": [\"Algeria\", \"Bahrain\", \"Djibouti\", \"Egypt\", \"Iran\", \"Iraq\", \"Jordan\", \"Kuwait\", \"Lebanon\", \"Libya\", \"Morocco\", \"Oman\", \"Qatar\", \"Saudi Arabia\", \"Syria\", \"Tunisia\", \"United Arab Emirates\", \"Yemen\"], \"locations\": [\"DZA\", \"BHR\", \"DJI\", \"EGY\", \"IRN\", \"IRQ\", \"JOR\", \"KWT\", \"LBN\", \"LBY\", \"MAR\", \"OMN\", \"QAT\", \"SAU\", \"SYR\", \"TUN\", \"ARE\", \"YEM\"], \"name\": \"\", \"z\": [0, 2, 2, 6, 3, 14, 0, 1, 7, 0, 0, 0, 0, 0, 0, 0, 1, 3], \"type\": \"choropleth\"}], \"name\": \"2005\"}, {\"data\": [{\"coloraxis\": \"coloraxis\", \"geo\": \"geo\", \"hovertemplate\": \"<b>%{hovertext}</b><br><br>year=2006<br>country_code=%{location}<br>protests=%{z}<extra></extra>\", \"hovertext\": [\"Algeria\", \"Bahrain\", \"Djibouti\", \"Egypt\", \"Iran\", \"Iraq\", \"Jordan\", \"Kuwait\", \"Lebanon\", \"Libya\", \"Morocco\", \"Oman\", \"Qatar\", \"Saudi Arabia\", \"Syria\", \"Tunisia\", \"United Arab Emirates\", \"Yemen\"], \"locations\": [\"DZA\", \"BHR\", \"DJI\", \"EGY\", \"IRN\", \"IRQ\", \"JOR\", \"KWT\", \"LBN\", \"LBY\", \"MAR\", \"OMN\", \"QAT\", \"SAU\", \"SYR\", \"TUN\", \"ARE\", \"YEM\"], \"name\": \"\", \"z\": [0, 0, 0, 3, 5, 2, 0, 1, 6, 0, 0, 0, 0, 0, 0, 0, 1, 0], \"type\": \"choropleth\"}], \"name\": \"2006\"}, {\"data\": [{\"coloraxis\": \"coloraxis\", \"geo\": \"geo\", \"hovertemplate\": \"<b>%{hovertext}</b><br><br>year=2007<br>country_code=%{location}<br>protests=%{z}<extra></extra>\", \"hovertext\": [\"Algeria\", \"Bahrain\", \"Djibouti\", \"Egypt\", \"Iran\", \"Iraq\", \"Jordan\", \"Kuwait\", \"Lebanon\", \"Libya\", \"Morocco\", \"Oman\", \"Qatar\", \"Saudi Arabia\", \"Syria\", \"Tunisia\", \"United Arab Emirates\", \"Yemen\"], \"locations\": [\"DZA\", \"BHR\", \"DJI\", \"EGY\", \"IRN\", \"IRQ\", \"JOR\", \"KWT\", \"LBN\", \"LBY\", \"MAR\", \"OMN\", \"QAT\", \"SAU\", \"SYR\", \"TUN\", \"ARE\", \"YEM\"], \"name\": \"\", \"z\": [0, 3, 0, 0, 7, 4, 0, 0, 2, 0, 0, 0, 0, 0, 0, 0, 1, 1], \"type\": \"choropleth\"}], \"name\": \"2007\"}, {\"data\": [{\"coloraxis\": \"coloraxis\", \"geo\": \"geo\", \"hovertemplate\": \"<b>%{hovertext}</b><br><br>year=2008<br>country_code=%{location}<br>protests=%{z}<extra></extra>\", \"hovertext\": [\"Algeria\", \"Bahrain\", \"Djibouti\", \"Egypt\", \"Iran\", \"Iraq\", \"Jordan\", \"Kuwait\", \"Lebanon\", \"Libya\", \"Morocco\", \"Oman\", \"Qatar\", \"Saudi Arabia\", \"Syria\", \"Tunisia\", \"United Arab Emirates\", \"Yemen\"], \"locations\": [\"DZA\", \"BHR\", \"DJI\", \"EGY\", \"IRN\", \"IRQ\", \"JOR\", \"KWT\", \"LBN\", \"LBY\", \"MAR\", \"OMN\", \"QAT\", \"SAU\", \"SYR\", \"TUN\", \"ARE\", \"YEM\"], \"name\": \"\", \"z\": [0, 0, 0, 4, 1, 10, 0, 2, 4, 0, 0, 0, 0, 2, 0, 0, 0, 6], \"type\": \"choropleth\"}], \"name\": \"2008\"}, {\"data\": [{\"coloraxis\": \"coloraxis\", \"geo\": \"geo\", \"hovertemplate\": \"<b>%{hovertext}</b><br><br>year=2009<br>country_code=%{location}<br>protests=%{z}<extra></extra>\", \"hovertext\": [\"Algeria\", \"Bahrain\", \"Djibouti\", \"Egypt\", \"Iran\", \"Iraq\", \"Jordan\", \"Kuwait\", \"Lebanon\", \"Libya\", \"Morocco\", \"Oman\", \"Qatar\", \"Saudi Arabia\", \"Syria\", \"Tunisia\", \"United Arab Emirates\", \"Yemen\"], \"locations\": [\"DZA\", \"BHR\", \"DJI\", \"EGY\", \"IRN\", \"IRQ\", \"JOR\", \"KWT\", \"LBN\", \"LBY\", \"MAR\", \"OMN\", \"QAT\", \"SAU\", \"SYR\", \"TUN\", \"ARE\", \"YEM\"], \"name\": \"\", \"z\": [1, 0, 0, 0, 21, 4, 0, 0, 0, 0, 0, 0, 0, 0, 0, 0, 0, 14], \"type\": \"choropleth\"}], \"name\": \"2009\"}, {\"data\": [{\"coloraxis\": \"coloraxis\", \"geo\": \"geo\", \"hovertemplate\": \"<b>%{hovertext}</b><br><br>year=2010<br>country_code=%{location}<br>protests=%{z}<extra></extra>\", \"hovertext\": [\"Algeria\", \"Bahrain\", \"Djibouti\", \"Egypt\", \"Iran\", \"Iraq\", \"Jordan\", \"Kuwait\", \"Lebanon\", \"Libya\", \"Morocco\", \"Oman\", \"Qatar\", \"Saudi Arabia\", \"Syria\", \"Tunisia\", \"United Arab Emirates\", \"Yemen\"], \"locations\": [\"DZA\", \"BHR\", \"DJI\", \"EGY\", \"IRN\", \"IRQ\", \"JOR\", \"KWT\", \"LBN\", \"LBY\", \"MAR\", \"OMN\", \"QAT\", \"SAU\", \"SYR\", \"TUN\", \"ARE\", \"YEM\"], \"name\": \"\", \"z\": [0, 0, 0, 3, 3, 7, 4, 1, 0, 0, 1, 0, 0, 0, 0, 4, 0, 6], \"type\": \"choropleth\"}], \"name\": \"2010\"}, {\"data\": [{\"coloraxis\": \"coloraxis\", \"geo\": \"geo\", \"hovertemplate\": \"<b>%{hovertext}</b><br><br>year=2011<br>country_code=%{location}<br>protests=%{z}<extra></extra>\", \"hovertext\": [\"Algeria\", \"Bahrain\", \"Djibouti\", \"Egypt\", \"Iran\", \"Iraq\", \"Jordan\", \"Kuwait\", \"Lebanon\", \"Libya\", \"Morocco\", \"Oman\", \"Qatar\", \"Saudi Arabia\", \"Syria\", \"Tunisia\", \"United Arab Emirates\", \"Yemen\"], \"locations\": [\"DZA\", \"BHR\", \"DJI\", \"EGY\", \"IRN\", \"IRQ\", \"JOR\", \"KWT\", \"LBN\", \"LBY\", \"MAR\", \"OMN\", \"QAT\", \"SAU\", \"SYR\", \"TUN\", \"ARE\", \"YEM\"], \"name\": \"\", \"z\": [1, 8, 1, 20, 5, 11, 15, 4, 4, 7, 6, 21, 0, 7, 3, 6, 0, 58], \"type\": \"choropleth\"}], \"name\": \"2011\"}, {\"data\": [{\"coloraxis\": \"coloraxis\", \"geo\": \"geo\", \"hovertemplate\": \"<b>%{hovertext}</b><br><br>year=2012<br>country_code=%{location}<br>protests=%{z}<extra></extra>\", \"hovertext\": [\"Algeria\", \"Bahrain\", \"Djibouti\", \"Egypt\", \"Iran\", \"Iraq\", \"Jordan\", \"Kuwait\", \"Lebanon\", \"Libya\", \"Morocco\", \"Oman\", \"Qatar\", \"Saudi Arabia\", \"Syria\", \"Tunisia\", \"United Arab Emirates\", \"Yemen\"], \"locations\": [\"DZA\", \"BHR\", \"DJI\", \"EGY\", \"IRN\", \"IRQ\", \"JOR\", \"KWT\", \"LBN\", \"LBY\", \"MAR\", \"OMN\", \"QAT\", \"SAU\", \"SYR\", \"TUN\", \"ARE\", \"YEM\"], \"name\": \"\", \"z\": [0, 9, 0, 14, 1, 2, 8, 11, 1, 5, 0, 2, 0, 3, 0, 3, 0, 4], \"type\": \"choropleth\"}], \"name\": \"2012\"}, {\"data\": [{\"coloraxis\": \"coloraxis\", \"geo\": \"geo\", \"hovertemplate\": \"<b>%{hovertext}</b><br><br>year=2013<br>country_code=%{location}<br>protests=%{z}<extra></extra>\", \"hovertext\": [\"Algeria\", \"Bahrain\", \"Djibouti\", \"Egypt\", \"Iran\", \"Iraq\", \"Jordan\", \"Kuwait\", \"Lebanon\", \"Libya\", \"Morocco\", \"Oman\", \"Qatar\", \"Saudi Arabia\", \"Syria\", \"Tunisia\", \"United Arab Emirates\", \"Yemen\"], \"locations\": [\"DZA\", \"BHR\", \"DJI\", \"EGY\", \"IRN\", \"IRQ\", \"JOR\", \"KWT\", \"LBN\", \"LBY\", \"MAR\", \"OMN\", \"QAT\", \"SAU\", \"SYR\", \"TUN\", \"ARE\", \"YEM\"], \"name\": \"\", \"z\": [2, 4, 1, 22, 2, 10, 2, 5, 1, 1, 3, 2, 0, 2, 0, 5, 0, 3], \"type\": \"choropleth\"}], \"name\": \"2013\"}, {\"data\": [{\"coloraxis\": \"coloraxis\", \"geo\": \"geo\", \"hovertemplate\": \"<b>%{hovertext}</b><br><br>year=2014<br>country_code=%{location}<br>protests=%{z}<extra></extra>\", \"hovertext\": [\"Algeria\", \"Bahrain\", \"Djibouti\", \"Egypt\", \"Iran\", \"Iraq\", \"Jordan\", \"Kuwait\", \"Lebanon\", \"Libya\", \"Morocco\", \"Oman\", \"Qatar\", \"Saudi Arabia\", \"Syria\", \"Tunisia\", \"United Arab Emirates\", \"Yemen\"], \"locations\": [\"DZA\", \"BHR\", \"DJI\", \"EGY\", \"IRN\", \"IRQ\", \"JOR\", \"KWT\", \"LBN\", \"LBY\", \"MAR\", \"OMN\", \"QAT\", \"SAU\", \"SYR\", \"TUN\", \"ARE\", \"YEM\"], \"name\": \"\", \"z\": [11, 8, 0, 18, 4, 1, 4, 5, 4, 4, 3, 0, 0, 0, 4, 2, 0, 33], \"type\": \"choropleth\"}], \"name\": \"2014\"}, {\"data\": [{\"coloraxis\": \"coloraxis\", \"geo\": \"geo\", \"hovertemplate\": \"<b>%{hovertext}</b><br><br>year=2015<br>country_code=%{location}<br>protests=%{z}<extra></extra>\", \"hovertext\": [\"Algeria\", \"Bahrain\", \"Djibouti\", \"Egypt\", \"Iran\", \"Iraq\", \"Jordan\", \"Kuwait\", \"Lebanon\", \"Libya\", \"Morocco\", \"Oman\", \"Qatar\", \"Saudi Arabia\", \"Syria\", \"Tunisia\", \"United Arab Emirates\", \"Yemen\"], \"locations\": [\"DZA\", \"BHR\", \"DJI\", \"EGY\", \"IRN\", \"IRQ\", \"JOR\", \"KWT\", \"LBN\", \"LBY\", \"MAR\", \"OMN\", \"QAT\", \"SAU\", \"SYR\", \"TUN\", \"ARE\", \"YEM\"], \"name\": \"\", \"z\": [3, 2, 0, 5, 4, 7, 2, 0, 7, 3, 1, 0, 0, 0, 1, 1, 0, 11], \"type\": \"choropleth\"}], \"name\": \"2015\"}, {\"data\": [{\"coloraxis\": \"coloraxis\", \"geo\": \"geo\", \"hovertemplate\": \"<b>%{hovertext}</b><br><br>year=2016<br>country_code=%{location}<br>protests=%{z}<extra></extra>\", \"hovertext\": [\"Algeria\", \"Bahrain\", \"Djibouti\", \"Egypt\", \"Iran\", \"Iraq\", \"Jordan\", \"Kuwait\", \"Lebanon\", \"Libya\", \"Morocco\", \"Oman\", \"Qatar\", \"Saudi Arabia\", \"Syria\", \"Tunisia\", \"United Arab Emirates\", \"Yemen\"], \"locations\": [\"DZA\", \"BHR\", \"DJI\", \"EGY\", \"IRN\", \"IRQ\", \"JOR\", \"KWT\", \"LBN\", \"LBY\", \"MAR\", \"OMN\", \"QAT\", \"SAU\", \"SYR\", \"TUN\", \"ARE\", \"YEM\"], \"name\": \"\", \"z\": [0, 1, 0, 6, 4, 6, 3, 1, 0, 0, 1, 0, 0, 1, 2, 2, 0, 1], \"type\": \"choropleth\"}], \"name\": \"2016\"}, {\"data\": [{\"coloraxis\": \"coloraxis\", \"geo\": \"geo\", \"hovertemplate\": \"<b>%{hovertext}</b><br><br>year=2017<br>country_code=%{location}<br>protests=%{z}<extra></extra>\", \"hovertext\": [\"Algeria\", \"Bahrain\", \"Djibouti\", \"Egypt\", \"Iran\", \"Iraq\", \"Jordan\", \"Kuwait\", \"Lebanon\", \"Libya\", \"Morocco\", \"Oman\", \"Qatar\", \"Saudi Arabia\", \"Syria\", \"Tunisia\", \"United Arab Emirates\", \"Yemen\"], \"locations\": [\"DZA\", \"BHR\", \"DJI\", \"EGY\", \"IRN\", \"IRQ\", \"JOR\", \"KWT\", \"LBN\", \"LBY\", \"MAR\", \"OMN\", \"QAT\", \"SAU\", \"SYR\", \"TUN\", \"ARE\", \"YEM\"], \"name\": \"\", \"z\": [2, 2, 0, 3, 6, 3, 1, 0, 1, 0, 5, 0, 0, 1, 1, 5, 0, 0], \"type\": \"choropleth\"}], \"name\": \"2017\"}, {\"data\": [{\"coloraxis\": \"coloraxis\", \"geo\": \"geo\", \"hovertemplate\": \"<b>%{hovertext}</b><br><br>year=2018<br>country_code=%{location}<br>protests=%{z}<extra></extra>\", \"hovertext\": [\"Algeria\", \"Bahrain\", \"Djibouti\", \"Egypt\", \"Iran\", \"Iraq\", \"Jordan\", \"Kuwait\", \"Lebanon\", \"Libya\", \"Morocco\", \"Oman\", \"Qatar\", \"Saudi Arabia\", \"Syria\", \"Tunisia\", \"United Arab Emirates\", \"Yemen\"], \"locations\": [\"DZA\", \"BHR\", \"DJI\", \"EGY\", \"IRN\", \"IRQ\", \"JOR\", \"KWT\", \"LBN\", \"LBY\", \"MAR\", \"OMN\", \"QAT\", \"SAU\", \"SYR\", \"TUN\", \"ARE\", \"YEM\"], \"name\": \"\", \"z\": [0, 0, 0, 0, 9, 3, 1, 3, 1, 0, 6, 1, 0, 0, 0, 10, 0, 0], \"type\": \"choropleth\"}], \"name\": \"2018\"}, {\"data\": [{\"coloraxis\": \"coloraxis\", \"geo\": \"geo\", \"hovertemplate\": \"<b>%{hovertext}</b><br><br>year=2019<br>country_code=%{location}<br>protests=%{z}<extra></extra>\", \"hovertext\": [\"Algeria\", \"Bahrain\", \"Djibouti\", \"Egypt\", \"Iran\", \"Iraq\", \"Jordan\", \"Kuwait\", \"Lebanon\", \"Libya\", \"Morocco\", \"Oman\", \"Qatar\", \"Saudi Arabia\", \"Syria\", \"Tunisia\", \"United Arab Emirates\", \"Yemen\"], \"locations\": [\"DZA\", \"BHR\", \"DJI\", \"EGY\", \"IRN\", \"IRQ\", \"JOR\", \"KWT\", \"LBN\", \"LBY\", \"MAR\", \"OMN\", \"QAT\", \"SAU\", \"SYR\", \"TUN\", \"ARE\", \"YEM\"], \"name\": \"\", \"z\": [19, 0, 0, 0, 0, 1, 0, 0, 0, 1, 2, 0, 0, 0, 1, 3, 0, 0], \"type\": \"choropleth\"}], \"name\": \"2019\"}]);\n",
       "                        }).then(function(){\n",
       "                            \n",
       "var gd = document.getElementById('5ea2411d-ce6a-46df-91bc-d8017db97e72');\n",
       "var x = new MutationObserver(function (mutations, observer) {{\n",
       "        var display = window.getComputedStyle(gd).display;\n",
       "        if (!display || display === 'none') {{\n",
       "            console.log([gd, 'removed!']);\n",
       "            Plotly.purge(gd);\n",
       "            observer.disconnect();\n",
       "        }}\n",
       "}});\n",
       "\n",
       "// Listen for the removal of the full notebook cells\n",
       "var notebookContainer = gd.closest('#notebook-container');\n",
       "if (notebookContainer) {{\n",
       "    x.observe(notebookContainer, {childList: true});\n",
       "}}\n",
       "\n",
       "// Listen for the clearing of the current output cell\n",
       "var outputEl = gd.closest('.output');\n",
       "if (outputEl) {{\n",
       "    x.observe(outputEl, {childList: true});\n",
       "}}\n",
       "\n",
       "                        })                };                });            </script>        </div>"
      ]
     },
     "metadata": {},
     "output_type": "display_data"
    }
   ],
   "source": [
    "#mapbox map\n",
    "\n",
    "fig = px.choropleth_mapbox(\n",
    "    df,\n",
    "    geojson=geo_world_ok,\n",
    "    locations='zone',\n",
    "    color=df['count_color'],\n",
    "    color_continuous_scale='YlOrRd',\n",
    "    range_color=(0, df['count_color'].max()),\n",
    "    hover_name='zone',\n",
    "    hover_data={'count_color': False, 'zone': False, 'count': True},\n",
    "    mapbox_style='open-street-map',\n",
    "    zoom=1,\n",
    "    center={'lat': 19, 'lon': 11},\n",
    "    opacity=0.6\n",
    ")"
   ]
  },
  {
   "cell_type": "markdown",
   "metadata": {},
   "source": [
    "# Upload Plot to Plotly"
   ]
  },
  {
   "cell_type": "code",
   "execution_count": null,
   "metadata": {},
   "outputs": [],
   "source": [
    "username = 'maierhoj' # your username \n",
    "api_key = 'PfelhyGBHvZTo4S265iM' # your api key - go to profile > settings > regenerate  key\n",
    "chart_studio.tools.set_credentials_file(username=username, api_key=api_key)\n",
    "\n",
    "import chart_studio.plotly as py\n",
    "py.plot(fig, filename = 'protests_map', auto_open=True)"
   ]
  },
  {
   "cell_type": "code",
   "execution_count": 8,
   "metadata": {
    "scrolled": true
   },
   "outputs": [],
   "source": [
    "import country_converter as coco"
   ]
  },
  {
   "cell_type": "code",
   "execution_count": 38,
   "metadata": {},
   "outputs": [],
   "source": []
  },
  {
   "cell_type": "code",
   "execution_count": null,
   "metadata": {},
   "outputs": [],
   "source": []
  },
  {
   "cell_type": "code",
   "execution_count": null,
   "metadata": {},
   "outputs": [],
   "source": []
  },
  {
   "cell_type": "code",
   "execution_count": null,
   "metadata": {},
   "outputs": [],
   "source": []
  },
  {
   "cell_type": "code",
   "execution_count": null,
   "metadata": {},
   "outputs": [],
   "source": []
  },
  {
   "cell_type": "code",
   "execution_count": null,
   "metadata": {},
   "outputs": [],
   "source": []
  },
  {
   "cell_type": "code",
   "execution_count": null,
   "metadata": {},
   "outputs": [],
   "source": []
  },
  {
   "cell_type": "code",
   "execution_count": null,
   "metadata": {},
   "outputs": [],
   "source": []
  },
  {
   "cell_type": "code",
   "execution_count": null,
   "metadata": {},
   "outputs": [],
   "source": []
  },
  {
   "cell_type": "code",
   "execution_count": null,
   "metadata": {},
   "outputs": [],
   "source": []
  },
  {
   "cell_type": "code",
   "execution_count": null,
   "metadata": {},
   "outputs": [],
   "source": []
  },
  {
   "cell_type": "code",
   "execution_count": null,
   "metadata": {},
   "outputs": [],
   "source": []
  },
  {
   "cell_type": "code",
   "execution_count": null,
   "metadata": {},
   "outputs": [],
   "source": []
  }
 ],
 "metadata": {
  "kernelspec": {
   "display_name": "Python 3",
   "language": "python",
   "name": "python3"
  },
  "language_info": {
   "codemirror_mode": {
    "name": "ipython",
    "version": 3
   },
   "file_extension": ".py",
   "mimetype": "text/x-python",
   "name": "python",
   "nbconvert_exporter": "python",
   "pygments_lexer": "ipython3",
   "version": "3.7.6"
  }
 },
 "nbformat": 4,
 "nbformat_minor": 4
}
