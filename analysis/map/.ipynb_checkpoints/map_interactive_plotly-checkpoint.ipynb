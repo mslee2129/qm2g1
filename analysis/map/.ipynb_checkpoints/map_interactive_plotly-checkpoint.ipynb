{
 "cells": [
  {
   "cell_type": "markdown",
   "metadata": {},
   "source": [
    "# Interactive map"
   ]
  },
  {
   "cell_type": "code",
   "execution_count": null,
   "metadata": {},
   "outputs": [],
   "source": [
    "pip install geopandas\n",
    "pip install readme-md\n",
    "pip install chart_studio\n",
    "pip install plotly\n",
    "pip install fuzzy_pandas\n",
    "pip install country_converter\n",
    "pip install bokeh"
   ]
  },
  {
   "cell_type": "code",
   "execution_count": null,
   "metadata": {},
   "outputs": [],
   "source": [
    "import pandas as pd\n",
    "import geopandas as gpd\n",
    "import fiona\n",
    "import numpy as np\n",
    "import functools\n",
    "import country_converter\n",
    "import pycountry\n",
    "import json\n",
    "import chart_studio\n",
    "import plotly.express as px"
   ]
  },
  {
   "cell_type": "code",
   "execution_count": null,
   "metadata": {
    "scrolled": true
   },
   "outputs": [],
   "source": [
    "protest_data =  pd.read_csv('~/Documents/Uni/qm2g1/data/processed_data/protests_data_filtered.csv', index_col=0)"
   ]
  },
  {
   "cell_type": "code",
   "execution_count": null,
   "metadata": {},
   "outputs": [],
   "source": [
    "protest_data_merged = protest_data.groupby(['country','year', 'region']).agg({ \n",
    "                         'protest':'sum', \n",
    "                         'protestnumber':'sum',\n",
    "                         'protesterdemand1': lambda x: pd.Series.mode(x, dropna=False)[0],\n",
    "                         'stateresponse1': lambda x: pd.Series.mode(x, dropna=False)[0],\n",
    "                         'protesteridentity': lambda x: pd.Series.mode(x, dropna=False)[0],\n",
    "                         'participants_category': lambda x: pd.Series.mode(x, dropna=False)[0]\n",
    "                        }).reset_index()"
   ]
  },
  {
   "cell_type": "code",
   "execution_count": null,
   "metadata": {},
   "outputs": [],
   "source": [
    "#Download shapefile from Naturalearth\n",
    "url = \"https://d2ad6b4ur7yvpq.cloudfront.net/naturalearth-3.3.0/ne_110m_admin_0_countries.geojson\"\n",
    "shapefile_data = gpd.read_file(url)[['sovereignt', 'adm0_a3', 'geometry']]\n",
    "\n",
    "#to geo jsnon\n",
    "shapefile_data.to_file(\"custom_map.json\", driver='GeoJSON')\n",
    "\n",
    "with open('custom_map.json') as f:\n",
    "  world_map = json.load(f)"
   ]
  },
  {
   "cell_type": "code",
   "execution_count": null,
   "metadata": {},
   "outputs": [],
   "source": [
    "# merge shapefile data with protest data\n",
    "df = protest_data_merged.merge(shapefile_data, left_on = 'country', right_on = 'sovereignt')\n",
    "df.sample(10)\n",
    "#df.to_excel('control_view.xlsx')"
   ]
  },
  {
   "cell_type": "code",
   "execution_count": null,
   "metadata": {},
   "outputs": [],
   "source": [
    "#Round off the locations to 2 decimal places (about 1.1 km accuracy) Source: https://medium.com/tech-carnot/plotly-mapbox-interactive-choropleth-visualization-tutorial-957dcdbca90b\n",
    "for i in range(0, len(world_map[\"features\"])):\n",
    "    for j in range(0,len(world_map[\"features\"][i]['geometry']['coordinates'])):\n",
    "        try:\n",
    "            world_map[\"features\"][i]['geometry']['coordinates'][j] = np.round(np.array(world_map[\"features\"][i]['geometry']['coordinates'][j]),2)\n",
    "        except:\n",
    "            print(i,j)"
   ]
  },
  {
   "cell_type": "markdown",
   "metadata": {},
   "source": [
    "df_d = shapefile_data[['sovereignt']]"
   ]
  },
  {
   "cell_type": "markdown",
   "metadata": {},
   "source": [
    "merged = df_d.set_index('sovereignt').join(df.set_index('country'))\n",
    "merged.reset_index(inplace=True)\n",
    "merged.head()"
   ]
  },
  {
   "cell_type": "code",
   "execution_count": null,
   "metadata": {
    "scrolled": true
   },
   "outputs": [],
   "source": [
    "# some cleaning and filtering\n",
    "df = df[df['region'] == 'MENA']\n",
    "df.protesterdemand1 = df.protesterdemand1.fillna('no data')\n",
    "df.stateresponse1 = df.stateresponse1.fillna('no data')\n",
    "df.participants_category = df.participants_category.fillna('no data')\n",
    "df.protesteridentity = df.protesteridentity.fillna('no data')\n",
    "\n",
    "df = df.rename(columns={'protest': 'Protests ', 'protesterdemand1': 'Protesters demand ', 'stateresponse1': 'State response ', 'protesteridentity': 'Protesters identity ', 'participants_category': 'Amount of people '})\n",
    "\n",
    "df.head()"
   ]
  },
  {
   "cell_type": "markdown",
   "metadata": {},
   "source": [
    "fig = px.choropleth(df, locations=\"country_code\", \n",
    "                     color=\"protests\",\n",
    "                     hover_name=\"country\",\n",
    "                     hover_data='protests',\n",
    "                     animation_frame=\"year\",\n",
    "                     projection=\"natural earth\",\n",
    "                     color_continuous_scale = px.colors.diverging.Temps\n",
    "                     )"
   ]
  },
  {
   "cell_type": "code",
   "execution_count": null,
   "metadata": {},
   "outputs": [],
   "source": [
    "# mapbox map creation\n",
    "max_count = df['Protests '].max()\n",
    "fig = px.choropleth_mapbox(\n",
    "    df,\n",
    "    geojson=world_map,\n",
    "    locations='adm0_a3',\n",
    "    featureidkey=\"properties.adm0_a3\",\n",
    "    color=df['Protests '],\n",
    "    color_continuous_scale = px.colors.diverging.Temps,\n",
    "    range_color=(0, 30),\n",
    "    hover_name='country',\n",
    "    animation_frame=\"year\",\n",
    "    animation_group=\"adm0_a3\",\n",
    "    hover_data={'Protests ': True, 'Protesters demand ':True, 'State response ':True, 'Protesters identity ':True, 'Amount of people ':True, 'country': False, 'year': False, 'adm0_a3': False},\n",
    "    mapbox_style='carto-positron',\n",
    "    zoom=2,\n",
    "    center={'lat': 29, 'lon': 22},\n",
    "    opacity=0.6\n",
    ")\n",
    "\n",
    "fig.show()"
   ]
  },
  {
   "cell_type": "markdown",
   "metadata": {},
   "source": [
    "# Upload Plot to Plotly"
   ]
  },
  {
   "cell_type": "code",
   "execution_count": null,
   "metadata": {},
   "outputs": [],
   "source": [
    "username = 'maierhoj' # your username \n",
    "api_key = 'PfelhyGBHvZTo4S265iM' # your api key - go to profile > settings > regenerate  key\n",
    "chart_studio.tools.set_credentials_file(username=username, api_key=api_key)\n",
    "\n",
    "import chart_studio.plotly as py\n",
    "py.plot(fig, filename = 'protests_map', auto_open=True)"
   ]
  },
  {
   "cell_type": "code",
   "execution_count": null,
   "metadata": {
    "scrolled": true
   },
   "outputs": [],
   "source": []
  },
  {
   "cell_type": "code",
   "execution_count": null,
   "metadata": {},
   "outputs": [],
   "source": []
  },
  {
   "cell_type": "code",
   "execution_count": null,
   "metadata": {},
   "outputs": [],
   "source": []
  },
  {
   "cell_type": "code",
   "execution_count": null,
   "metadata": {},
   "outputs": [],
   "source": []
  },
  {
   "cell_type": "code",
   "execution_count": null,
   "metadata": {},
   "outputs": [],
   "source": []
  },
  {
   "cell_type": "code",
   "execution_count": null,
   "metadata": {},
   "outputs": [],
   "source": []
  },
  {
   "cell_type": "code",
   "execution_count": null,
   "metadata": {},
   "outputs": [],
   "source": []
  },
  {
   "cell_type": "code",
   "execution_count": null,
   "metadata": {},
   "outputs": [],
   "source": []
  },
  {
   "cell_type": "code",
   "execution_count": null,
   "metadata": {},
   "outputs": [],
   "source": []
  },
  {
   "cell_type": "code",
   "execution_count": null,
   "metadata": {},
   "outputs": [],
   "source": []
  },
  {
   "cell_type": "code",
   "execution_count": null,
   "metadata": {},
   "outputs": [],
   "source": []
  },
  {
   "cell_type": "code",
   "execution_count": null,
   "metadata": {},
   "outputs": [],
   "source": []
  },
  {
   "cell_type": "code",
   "execution_count": null,
   "metadata": {},
   "outputs": [],
   "source": []
  },
  {
   "cell_type": "code",
   "execution_count": null,
   "metadata": {},
   "outputs": [],
   "source": []
  }
 ],
 "metadata": {
  "kernelspec": {
   "display_name": "Python 3",
   "language": "python",
   "name": "python3"
  },
  "language_info": {
   "codemirror_mode": {
    "name": "ipython",
    "version": 3
   },
   "file_extension": ".py",
   "mimetype": "text/x-python",
   "name": "python",
   "nbconvert_exporter": "python",
   "pygments_lexer": "ipython3",
   "version": "3.7.6"
  }
 },
 "nbformat": 4,
 "nbformat_minor": 4
}
