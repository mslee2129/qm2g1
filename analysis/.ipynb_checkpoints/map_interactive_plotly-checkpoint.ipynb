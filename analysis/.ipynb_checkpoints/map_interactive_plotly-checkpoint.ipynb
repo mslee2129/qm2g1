{
 "cells": [
  {
   "cell_type": "code",
   "execution_count": null,
   "metadata": {},
   "outputs": [],
   "source": [
    "pip install geopandas"
   ]
  },
  {
   "cell_type": "code",
   "execution_count": null,
   "metadata": {},
   "outputs": [],
   "source": [
    "pip install bokeh"
   ]
  },
  {
   "cell_type": "code",
   "execution_count": null,
   "metadata": {},
   "outputs": [],
   "source": [
    "pip install country_converter"
   ]
  },
  {
   "cell_type": "code",
   "execution_count": null,
   "metadata": {},
   "outputs": [],
   "source": [
    "pip install fuzzy_pandas"
   ]
  },
  {
   "cell_type": "code",
   "execution_count": null,
   "metadata": {},
   "outputs": [],
   "source": [
    "pip install plotly"
   ]
  },
  {
   "cell_type": "code",
   "execution_count": null,
   "metadata": {},
   "outputs": [],
   "source": [
    "pip install plotly"
   ]
  },
  {
   "cell_type": "code",
   "execution_count": null,
   "metadata": {},
   "outputs": [],
   "source": [
    "pip install chart_studio"
   ]
  },
  {
   "cell_type": "code",
   "execution_count": null,
   "metadata": {},
   "outputs": [],
   "source": [
    "pip install readme-md"
   ]
  },
  {
   "cell_type": "code",
   "execution_count": null,
   "metadata": {},
   "outputs": [],
   "source": [
    "import pandas as pd\n",
    "import geopandas as gpd\n",
    "import fiona\n",
    "import numpy as np\n",
    "import functools\n",
    "import country_converter\n",
    "import pycountry\n",
    "import json\n",
    "import chart_studio\n",
    "import plotly.express as px"
   ]
  },
  {
   "cell_type": "code",
   "execution_count": null,
   "metadata": {},
   "outputs": [],
   "source": [
    "data_path = '~/Documents/Uni/qm2g1/data/processed_data/protests_data_filtered.csv'\n",
    "protest_data =  pd.read_csv(data_path, index_col=1)\n",
    "\n",
    "#Summarise all protests per country per year\n",
    "\n",
    "protest_data = protest_data.groupby(['country','year'])['protest'].sum().reset_index(name='protests')"
   ]
  },
  {
   "cell_type": "code",
   "execution_count": null,
   "metadata": {
    "scrolled": true
   },
   "outputs": [],
   "source": [
    "data_path = '~/Documents/Uni/qm2g1/data/maps/country_class.csv'\n",
    "country_class =  pd.read_csv(data_path, index_col=0)"
   ]
  },
  {
   "cell_type": "code",
   "execution_count": null,
   "metadata": {},
   "outputs": [],
   "source": [
    "protest_data = protest_data.merge(country_class, left_on='country', right_on='Country', how='left')"
   ]
  },
  {
   "cell_type": "code",
   "execution_count": null,
   "metadata": {},
   "outputs": [],
   "source": [
    "#Download shapefile from Naturalearth\n",
    "url = \"https://d2ad6b4ur7yvpq.cloudfront.net/naturalearth-3.3.0/ne_50m_admin_0_countries.geojson\"\n",
    "shapefile_data = gpd.read_file(url)[['sovereignt', 'adm0_a3', 'geometry']]\n",
    "\n",
    "#to geo jsnon\n",
    "shapefile_data.to_file(\"custom_map.json\", driver='GeoJSON')\n",
    "\n",
    "with open('custom_map.json') as f:\n",
    "  world_map = json.load(f)"
   ]
  },
  {
   "cell_type": "code",
   "execution_count": null,
   "metadata": {},
   "outputs": [],
   "source": [
    "# merge shapefile data with protest data\n",
    "df = protest_data.merge(shapefile_data, left_on = 'country', right_on = 'sovereignt')\n",
    "df.head(10)\n",
    "#df.to_excel('control_view.xlsx')"
   ]
  },
  {
   "cell_type": "code",
   "execution_count": null,
   "metadata": {},
   "outputs": [],
   "source": [
    "#Round off the locations to 2 decimal places (about 1.1 km accuracy)\n",
    "for i in range(0, len(world_map[\"features\"])):\n",
    "    for j in range(0,len(world_map[\"features\"][i]['geometry']['coordinates'])):\n",
    "        try:\n",
    "            world_map[\"features\"][i]['geometry']['coordinates'][j] = np.round(np.array(world_map[\"features\"][i]['geometry']['coordinates'][j]),1)\n",
    "        except:\n",
    "            print(i,j)"
   ]
  },
  {
   "cell_type": "code",
   "execution_count": null,
   "metadata": {},
   "outputs": [],
   "source": [
    "df_d = shapefile_data[['sovereignt']]"
   ]
  },
  {
   "cell_type": "code",
   "execution_count": null,
   "metadata": {},
   "outputs": [],
   "source": [
    "world_map[\"features\"][0]['geometry']['coordinates'][0]"
   ]
  },
  {
   "cell_type": "code",
   "execution_count": null,
   "metadata": {},
   "outputs": [],
   "source": [
    "merged = df_d.set_index('sovereignt').join(df.set_index('country'))\n",
    "merged.reset_index(inplace=True)\n",
    "merged.head()"
   ]
  },
  {
   "cell_type": "code",
   "execution_count": null,
   "metadata": {
    "scrolled": true
   },
   "outputs": [],
   "source": [
    "df = df[df['Region'] == 'Middle East & North Africa']\n",
    "df.head()"
   ]
  },
  {
   "cell_type": "markdown",
   "metadata": {},
   "source": [
    "fig = px.choropleth(df, locations=\"country_code\", \n",
    "                     color=\"protests\",\n",
    "                     hover_name=\"country\",\n",
    "                     hover_data='protests',\n",
    "                     animation_frame=\"year\",\n",
    "                     projection=\"natural earth\",\n",
    "                     color_continuous_scale = px.colors.diverging.Temps\n",
    "                     )"
   ]
  },
  {
   "cell_type": "code",
   "execution_count": null,
   "metadata": {},
   "outputs": [],
   "source": [
    "#mapbox map\n",
    "\n",
    "fig = px.choropleth_mapbox(\n",
    "    df,\n",
    "    geojson=world_map,\n",
    "    locations='adm0_a3',\n",
    "    featureidkey=\"properties.adm0_a3\",\n",
    "    color=df['protests'],\n",
    "    color_continuous_scale = px.colors.diverging.Temps,\n",
    "    hover_name='country',\n",
    "    animation_frame=\"year\",\n",
    "    #hover_data={'country': False, 'year': False, 'protests': True, 'Region' : False, 'sovereignt':False, 'adm0_a3': False, 'geometry':False},\n",
    "    mapbox_style='open-street-map',\n",
    "    zoom=3,\n",
    "    center={'lat': 29, 'lon': 22},\n",
    "    opacity=0.6\n",
    ")\n"
   ]
  },
  {
   "cell_type": "code",
   "execution_count": null,
   "metadata": {},
   "outputs": [],
   "source": [
    "# Set Layout\n",
    "\n",
    "fig.update_layout(\n",
    "    title_text=\"Number of Protests\",\n",
    "    margin={'r':0,'t':0,'l':0,'b':0},\n",
    "    coloraxis_colorbar={\n",
    "        'title':'Protests'      \n",
    "    }\n",
    ")\n",
    "\n",
    "\n",
    "#fig.update_geos(fitbounds='locations')"
   ]
  },
  {
   "cell_type": "markdown",
   "metadata": {},
   "source": [
    "# Upload Plot to Plotly"
   ]
  },
  {
   "cell_type": "code",
   "execution_count": null,
   "metadata": {},
   "outputs": [],
   "source": [
    "username = 'maierhoj' # your username \n",
    "api_key = 'PfelhyGBHvZTo4S265iM' # your api key - go to profile > settings > regenerate  key\n",
    "chart_studio.tools.set_credentials_file(username=username, api_key=api_key)\n",
    "\n",
    "import chart_studio.plotly as py\n",
    "py.plot(fig, filename = 'protests_map', auto_open=True)"
   ]
  },
  {
   "cell_type": "code",
   "execution_count": null,
   "metadata": {
    "scrolled": true
   },
   "outputs": [],
   "source": []
  },
  {
   "cell_type": "code",
   "execution_count": null,
   "metadata": {},
   "outputs": [],
   "source": []
  },
  {
   "cell_type": "code",
   "execution_count": null,
   "metadata": {},
   "outputs": [],
   "source": []
  },
  {
   "cell_type": "code",
   "execution_count": null,
   "metadata": {},
   "outputs": [],
   "source": []
  },
  {
   "cell_type": "code",
   "execution_count": null,
   "metadata": {},
   "outputs": [],
   "source": []
  },
  {
   "cell_type": "code",
   "execution_count": null,
   "metadata": {},
   "outputs": [],
   "source": []
  },
  {
   "cell_type": "code",
   "execution_count": null,
   "metadata": {},
   "outputs": [],
   "source": []
  },
  {
   "cell_type": "code",
   "execution_count": null,
   "metadata": {},
   "outputs": [],
   "source": []
  },
  {
   "cell_type": "code",
   "execution_count": null,
   "metadata": {},
   "outputs": [],
   "source": []
  },
  {
   "cell_type": "code",
   "execution_count": null,
   "metadata": {},
   "outputs": [],
   "source": []
  },
  {
   "cell_type": "code",
   "execution_count": null,
   "metadata": {},
   "outputs": [],
   "source": []
  },
  {
   "cell_type": "code",
   "execution_count": null,
   "metadata": {},
   "outputs": [],
   "source": []
  },
  {
   "cell_type": "code",
   "execution_count": null,
   "metadata": {},
   "outputs": [],
   "source": []
  },
  {
   "cell_type": "code",
   "execution_count": null,
   "metadata": {},
   "outputs": [],
   "source": []
  }
 ],
 "metadata": {
  "kernelspec": {
   "display_name": "Python 3",
   "language": "python",
   "name": "python3"
  },
  "language_info": {
   "codemirror_mode": {
    "name": "ipython",
    "version": 3
   },
   "file_extension": ".py",
   "mimetype": "text/x-python",
   "name": "python",
   "nbconvert_exporter": "python",
   "pygments_lexer": "ipython3",
   "version": "3.7.6"
  }
 },
 "nbformat": 4,
 "nbformat_minor": 4
}
