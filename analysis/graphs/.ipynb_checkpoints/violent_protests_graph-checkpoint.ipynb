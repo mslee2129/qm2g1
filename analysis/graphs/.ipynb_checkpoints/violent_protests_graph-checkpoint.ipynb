{
 "cells": [
  {
   "cell_type": "code",
   "execution_count": null,
   "metadata": {},
   "outputs": [],
   "source": [
    "import pandas as pd\n",
    "import plotly.express as px\n",
    "import datetime\n",
    "import chart_studio"
   ]
  },
  {
   "cell_type": "code",
   "execution_count": null,
   "metadata": {},
   "outputs": [],
   "source": [
    "protest_data =  pd.read_csv('~/Documents/Uni/qm2g1/data/processed_data/protests_data_filtered.csv', index_col=0)\n"
   ]
  },
  {
   "cell_type": "code",
   "execution_count": null,
   "metadata": {},
   "outputs": [],
   "source": [
    "protest_data_merged = protest_data.groupby(['year', 'country', 'region']).agg({ \n",
    "                         'protest':'sum', \n",
    "                         'protestnumber':'sum',\n",
    "                         'protesterviolence':'sum',\n",
    "                         'protesterdemand1': lambda x: pd.Series.mode(x, dropna=False)[0],\n",
    "                         'stateresponse1': lambda x: pd.Series.mode(x, dropna=False)[0],\n",
    "                         'protesteridentity': lambda x: pd.Series.mode(x, dropna=False)[0],\n",
    "                         'participants': lambda x: pd.Series.mode(x, dropna=False)[0]\n",
    "                        }).reset_index()"
   ]
  },
  {
   "cell_type": "code",
   "execution_count": null,
   "metadata": {},
   "outputs": [],
   "source": [
    "protest_data_merged = protest_data_merged[protest_data_merged['region'] == \"MENA\"]\n",
    "protest_data_merged.head()"
   ]
  },
  {
   "cell_type": "code",
   "execution_count": null,
   "metadata": {},
   "outputs": [],
   "source": [
    "fig = px.bar(protest_data_merged, x=\"year\", y=\"protesterviolence\", \n",
    "             color=\"country\",\n",
    "          #  hover_data=['petal_width'], \n",
    "             barmode = 'stack')\n",
    "\n",
    "# Add shape regions\n",
    "fig.add_vrect(\n",
    "    x0=\"2009.5\", x1=\"2012\",\n",
    "    fillcolor=\"LightSalmon\", opacity=0.25,\n",
    "    layer=\"below\", line_width=0, annotation_text=\"Arab Spring\", annotation_position=\"top left\"\n",
    ")    \n",
    "\n",
    "fig.update_layout(\n",
    "    title_text=\"Number of violent protests in MENA\",\n",
    "    coloraxis_colorbar={\n",
    "        'title':'Protests'      \n",
    "    }\n",
    ")\n",
    "    \n",
    "fig.show()"
   ]
  },
  {
   "cell_type": "code",
   "execution_count": null,
   "metadata": {},
   "outputs": [],
   "source": [
    "#Upload to Plotly\n",
    "import chart_studio.plotly as py\n",
    "\n",
    "username = 'maierhoj' #  username \n",
    "api_key = 'PfelhyGBHvZTo4S265iM' #  api key \n",
    "chart_studio.tools.set_credentials_file(username=username, api_key=api_key)\n",
    "\n",
    "py.plot(fig, filename = 'evolution_graph_violent protests', auto_open=True)"
   ]
  },
  {
   "cell_type": "code",
   "execution_count": null,
   "metadata": {},
   "outputs": [],
   "source": []
  }
 ],
 "metadata": {
  "kernelspec": {
   "display_name": "Python 3",
   "language": "python",
   "name": "python3"
  },
  "language_info": {
   "codemirror_mode": {
    "name": "ipython",
    "version": 3
   },
   "file_extension": ".py",
   "mimetype": "text/x-python",
   "name": "python",
   "nbconvert_exporter": "python",
   "pygments_lexer": "ipython3",
   "version": "3.7.6"
  }
 },
 "nbformat": 4,
 "nbformat_minor": 4
}
